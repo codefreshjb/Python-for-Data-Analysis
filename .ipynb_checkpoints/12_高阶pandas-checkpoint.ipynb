{
 "cells": [
  {
   "cell_type": "code",
   "execution_count": 23,
   "metadata": {},
   "outputs": [],
   "source": [
    "# 开篇导包\n",
    "import pandas as pd\n",
    "import numpy as np\n",
    "import matplotlib.pyplot as plt\n",
    "# from datetime import datetime, timedelta\n",
    "from sklearn.utils import shuffle\n",
    "\n",
    "# 显示全部结果\n",
    "from IPython.core.interactiveshell import InteractiveShell\n",
    "InteractiveShell.ast_node_interactivity = 'all'"
   ]
  },
  {
   "cell_type": "markdown",
   "metadata": {},
   "source": [
    "## 一、Categorical类型"
   ]
  },
  {
   "cell_type": "markdown",
   "metadata": {},
   "source": [
    "**参考：** http://liao.cpython.org/pandas15/\n",
    "\n",
    "pandas从0.15版开始提供分类数据类型，用于表示统计学里**有限且唯一性**数据集，例如描述个人信息的性别一般就男和女两个数据常用'm'和'f'来描述，有时也能对应编码映射为0和1。血型A、B、O和AB型等选择可以映射为0、1、2、3这四个数字分别代表各个血型。pandas里直接就有categorical类型，可以有效地对数据进行分组进行相应的汇总统计工作。\n",
    "\n",
    "当DataFrame的某列(字段)上的数据值是都是某有限个数值的集合里的值的时候，例如：性别就男和女，有限且唯一。这列可以采用Categorical Data类型来存储、统计。\n",
    "\n",
    "pandas的Categorical Data类型灵感来源于Data wareHorsing数据仓库里的维度表设计理念，即某列数据存储的不是数据本身，而是该数据对应的编码(有称为分类、字典编码) 这些编码比数据本身存储依赖的空间小，但能基于编码统计汇总的速度要比数据本身的存储、统计速度要快。"
   ]
  },
  {
   "cell_type": "markdown",
   "metadata": {},
   "source": [
    "### （一）创建"
   ]
  },
  {
   "cell_type": "code",
   "execution_count": 2,
   "metadata": {},
   "outputs": [
    {
     "data": {
      "text/html": [
       "<div>\n",
       "<style scoped>\n",
       "    .dataframe tbody tr th:only-of-type {\n",
       "        vertical-align: middle;\n",
       "    }\n",
       "\n",
       "    .dataframe tbody tr th {\n",
       "        vertical-align: top;\n",
       "    }\n",
       "\n",
       "    .dataframe thead th {\n",
       "        text-align: right;\n",
       "    }\n",
       "</style>\n",
       "<table border=\"1\" class=\"dataframe\">\n",
       "  <thead>\n",
       "    <tr style=\"text-align: right;\">\n",
       "      <th></th>\n",
       "      <th>篮子编号</th>\n",
       "      <th>水果</th>\n",
       "      <th>数量</th>\n",
       "      <th>重量</th>\n",
       "    </tr>\n",
       "  </thead>\n",
       "  <tbody>\n",
       "    <tr>\n",
       "      <th>0</th>\n",
       "      <td>0</td>\n",
       "      <td>苹果</td>\n",
       "      <td>10</td>\n",
       "      <td>1.209302</td>\n",
       "    </tr>\n",
       "    <tr>\n",
       "      <th>1</th>\n",
       "      <td>1</td>\n",
       "      <td>橘子</td>\n",
       "      <td>9</td>\n",
       "      <td>1.911183</td>\n",
       "    </tr>\n",
       "    <tr>\n",
       "      <th>2</th>\n",
       "      <td>2</td>\n",
       "      <td>苹果</td>\n",
       "      <td>14</td>\n",
       "      <td>1.778265</td>\n",
       "    </tr>\n",
       "    <tr>\n",
       "      <th>3</th>\n",
       "      <td>3</td>\n",
       "      <td>苹果</td>\n",
       "      <td>10</td>\n",
       "      <td>2.293640</td>\n",
       "    </tr>\n",
       "    <tr>\n",
       "      <th>4</th>\n",
       "      <td>4</td>\n",
       "      <td>苹果</td>\n",
       "      <td>7</td>\n",
       "      <td>1.609953</td>\n",
       "    </tr>\n",
       "    <tr>\n",
       "      <th>5</th>\n",
       "      <td>5</td>\n",
       "      <td>橘子</td>\n",
       "      <td>10</td>\n",
       "      <td>3.019039</td>\n",
       "    </tr>\n",
       "    <tr>\n",
       "      <th>6</th>\n",
       "      <td>6</td>\n",
       "      <td>苹果</td>\n",
       "      <td>13</td>\n",
       "      <td>2.420788</td>\n",
       "    </tr>\n",
       "    <tr>\n",
       "      <th>7</th>\n",
       "      <td>7</td>\n",
       "      <td>苹果</td>\n",
       "      <td>8</td>\n",
       "      <td>1.974651</td>\n",
       "    </tr>\n",
       "  </tbody>\n",
       "</table>\n",
       "</div>"
      ],
      "text/plain": [
       "   篮子编号  水果  数量        重量\n",
       "0     0  苹果  10  1.209302\n",
       "1     1  橘子   9  1.911183\n",
       "2     2  苹果  14  1.778265\n",
       "3     3  苹果  10  2.293640\n",
       "4     4  苹果   7  1.609953\n",
       "5     5  橘子  10  3.019039\n",
       "6     6  苹果  13  2.420788\n",
       "7     7  苹果   8  1.974651"
      ]
     },
     "execution_count": 2,
     "metadata": {},
     "output_type": "execute_result"
    }
   ],
   "source": [
    "# 创建一个df\n",
    "fruits = ['苹果', '橘子', '苹果', '苹果'] * 2\n",
    "\n",
    "N = len(fruits)\n",
    "\n",
    "df = pd.DataFrame({'篮子编号': np.arange(N),\n",
    "                   '水果': fruits,\n",
    "                   '数量': np.random.randint(3,15,size=N),\n",
    "                   '重量': np.random.uniform(1,4,size=N)})\n",
    "\n",
    "df"
   ]
  },
  {
   "cell_type": "markdown",
   "metadata": {},
   "source": [
    "#### 1. Series.astype('category')"
   ]
  },
  {
   "cell_type": "code",
   "execution_count": 3,
   "metadata": {},
   "outputs": [
    {
     "data": {
      "text/plain": [
       "0    苹果\n",
       "1    橘子\n",
       "2    苹果\n",
       "3    苹果\n",
       "4    苹果\n",
       "5    橘子\n",
       "6    苹果\n",
       "7    苹果\n",
       "Name: 水果, dtype: category\n",
       "Categories (2, object): ['橘子', '苹果']"
      ]
     },
     "execution_count": 3,
     "metadata": {},
     "output_type": "execute_result"
    }
   ],
   "source": [
    "# 将水果列转换为Categorical类型\n",
    "fruit_cat = df['水果'].astype('category')\n",
    "fruit_cat"
   ]
  },
  {
   "cell_type": "markdown",
   "metadata": {},
   "source": [
    "#### 2. pd.Categorical()"
   ]
  },
  {
   "cell_type": "code",
   "execution_count": 4,
   "metadata": {},
   "outputs": [
    {
     "data": {
      "text/plain": [
       "['苹果', '橘子', '苹果', '苹果', '苹果', '橘子', '苹果', '苹果']\n",
       "Categories (2, object): ['橘子', '苹果']"
      ]
     },
     "execution_count": 4,
     "metadata": {},
     "output_type": "execute_result"
    }
   ],
   "source": [
    "fruit_cat = pd.Categorical(df['水果'])\n",
    "fruit_cat "
   ]
  },
  {
   "cell_type": "markdown",
   "metadata": {},
   "source": [
    "#### 3. pd.Categorical.from_codes(codes, categories)"
   ]
  },
  {
   "cell_type": "code",
   "execution_count": 5,
   "metadata": {},
   "outputs": [
    {
     "data": {
      "text/plain": [
       "['狗', '猪', '猫', '猫', '猫', '狗', '猪', '猫', '猫']\n",
       "Categories (3, object): ['狗', '猪', '猫']"
      ]
     },
     "execution_count": 5,
     "metadata": {},
     "output_type": "execute_result"
    },
    {
     "data": {
      "text/plain": [
       "['狗', '猪', '猫', '猫', '猫', '狗', '猪', '猫', '猫']\n",
       "Categories (3, object): ['狗' < '猪' < '猫']"
      ]
     },
     "execution_count": 5,
     "metadata": {},
     "output_type": "execute_result"
    }
   ],
   "source": [
    "categories = ['狗', '猪', '猫']\n",
    "codes = [0, 1, 2, 2, 2, 0, 1, 2, 2]\n",
    "\n",
    "pd.Categorical.from_codes(codes, categories)\n",
    "pd.Categorical.from_codes(codes, categories, ordered=True)"
   ]
  },
  {
   "cell_type": "markdown",
   "metadata": {},
   "source": [
    "#### 4. 指定dtype='category'"
   ]
  },
  {
   "cell_type": "code",
   "execution_count": 6,
   "metadata": {},
   "outputs": [
    {
     "data": {
      "text/plain": [
       "0    狗\n",
       "1    猪\n",
       "2    猫\n",
       "3    狗\n",
       "4    狗\n",
       "5    猪\n",
       "dtype: category\n",
       "Categories (3, object): ['狗', '猪', '猫']"
      ]
     },
     "execution_count": 6,
     "metadata": {},
     "output_type": "execute_result"
    },
    {
     "data": {
      "text/plain": [
       "array([0, 1, 2, 0, 0, 1], dtype=int8)"
      ]
     },
     "execution_count": 6,
     "metadata": {},
     "output_type": "execute_result"
    }
   ],
   "source": [
    "cat = pd.Series(['狗', '猪', '猫', '狗', '狗', '猪'], dtype='category')\n",
    "cat\n",
    "cat.values.codes"
   ]
  },
  {
   "cell_type": "markdown",
   "metadata": {},
   "source": [
    "### （二）属性"
   ]
  },
  {
   "cell_type": "code",
   "execution_count": 7,
   "metadata": {},
   "outputs": [
    {
     "data": {
      "text/html": [
       "<div>\n",
       "<style scoped>\n",
       "    .dataframe tbody tr th:only-of-type {\n",
       "        vertical-align: middle;\n",
       "    }\n",
       "\n",
       "    .dataframe tbody tr th {\n",
       "        vertical-align: top;\n",
       "    }\n",
       "\n",
       "    .dataframe thead th {\n",
       "        text-align: right;\n",
       "    }\n",
       "</style>\n",
       "<table border=\"1\" class=\"dataframe\">\n",
       "  <thead>\n",
       "    <tr style=\"text-align: right;\">\n",
       "      <th></th>\n",
       "      <th>篮子编号</th>\n",
       "      <th>水果</th>\n",
       "      <th>数量</th>\n",
       "      <th>重量</th>\n",
       "    </tr>\n",
       "  </thead>\n",
       "  <tbody>\n",
       "    <tr>\n",
       "      <th>0</th>\n",
       "      <td>0</td>\n",
       "      <td>苹果</td>\n",
       "      <td>6</td>\n",
       "      <td>2.604542</td>\n",
       "    </tr>\n",
       "    <tr>\n",
       "      <th>1</th>\n",
       "      <td>1</td>\n",
       "      <td>橘子</td>\n",
       "      <td>5</td>\n",
       "      <td>2.067475</td>\n",
       "    </tr>\n",
       "    <tr>\n",
       "      <th>2</th>\n",
       "      <td>2</td>\n",
       "      <td>苹果</td>\n",
       "      <td>13</td>\n",
       "      <td>1.281047</td>\n",
       "    </tr>\n",
       "    <tr>\n",
       "      <th>3</th>\n",
       "      <td>3</td>\n",
       "      <td>苹果</td>\n",
       "      <td>5</td>\n",
       "      <td>2.439247</td>\n",
       "    </tr>\n",
       "    <tr>\n",
       "      <th>4</th>\n",
       "      <td>4</td>\n",
       "      <td>苹果</td>\n",
       "      <td>11</td>\n",
       "      <td>1.559053</td>\n",
       "    </tr>\n",
       "    <tr>\n",
       "      <th>5</th>\n",
       "      <td>5</td>\n",
       "      <td>橘子</td>\n",
       "      <td>12</td>\n",
       "      <td>2.952567</td>\n",
       "    </tr>\n",
       "    <tr>\n",
       "      <th>6</th>\n",
       "      <td>6</td>\n",
       "      <td>苹果</td>\n",
       "      <td>11</td>\n",
       "      <td>1.896564</td>\n",
       "    </tr>\n",
       "    <tr>\n",
       "      <th>7</th>\n",
       "      <td>7</td>\n",
       "      <td>苹果</td>\n",
       "      <td>12</td>\n",
       "      <td>2.924052</td>\n",
       "    </tr>\n",
       "  </tbody>\n",
       "</table>\n",
       "</div>"
      ],
      "text/plain": [
       "   篮子编号  水果  数量        重量\n",
       "0     0  苹果   6  2.604542\n",
       "1     1  橘子   5  2.067475\n",
       "2     2  苹果  13  1.281047\n",
       "3     3  苹果   5  2.439247\n",
       "4     4  苹果  11  1.559053\n",
       "5     5  橘子  12  2.952567\n",
       "6     6  苹果  11  1.896564\n",
       "7     7  苹果  12  2.924052"
      ]
     },
     "execution_count": 7,
     "metadata": {},
     "output_type": "execute_result"
    },
    {
     "data": {
      "text/plain": [
       "0    苹果\n",
       "1    橘子\n",
       "2    苹果\n",
       "3    苹果\n",
       "4    苹果\n",
       "5    橘子\n",
       "6    苹果\n",
       "7    苹果\n",
       "Name: 水果, dtype: category\n",
       "Categories (2, object): ['橘子', '苹果']"
      ]
     },
     "execution_count": 7,
     "metadata": {},
     "output_type": "execute_result"
    }
   ],
   "source": [
    "# 创建一个df\n",
    "fruits = ['苹果', '橘子', '苹果', '苹果'] * 2\n",
    "\n",
    "N = len(fruits)\n",
    "\n",
    "df = pd.DataFrame({'篮子编号': np.arange(N),\n",
    "                   '水果': fruits,\n",
    "                   '数量': np.random.randint(3,15,size=N),\n",
    "                   '重量': np.random.uniform(1,4,size=N)})\n",
    "\n",
    "df\n",
    "\n",
    "# 将水果列转换为Categorical类型\n",
    "fruit_cat = df['水果'].astype('category')\n",
    "fruit_cat"
   ]
  },
  {
   "cell_type": "markdown",
   "metadata": {},
   "source": [
    "#### 1. categorical.codes"
   ]
  },
  {
   "cell_type": "code",
   "execution_count": 8,
   "metadata": {},
   "outputs": [
    {
     "data": {
      "text/plain": [
       "array([1, 0, 1, 1, 1, 0, 1, 1], dtype=int8)"
      ]
     },
     "execution_count": 8,
     "metadata": {},
     "output_type": "execute_result"
    }
   ],
   "source": [
    "fruit_cat.values.codes"
   ]
  },
  {
   "cell_type": "markdown",
   "metadata": {},
   "source": [
    "#### 2. categorical.categories"
   ]
  },
  {
   "cell_type": "code",
   "execution_count": 9,
   "metadata": {},
   "outputs": [
    {
     "data": {
      "text/plain": [
       "Index(['橘子', '苹果'], dtype='object')"
      ]
     },
     "execution_count": 9,
     "metadata": {},
     "output_type": "execute_result"
    }
   ],
   "source": [
    "fruit_cat.values.categories"
   ]
  },
  {
   "cell_type": "markdown",
   "metadata": {},
   "source": [
    "#### 3. categorical.ordered"
   ]
  },
  {
   "cell_type": "code",
   "execution_count": 10,
   "metadata": {},
   "outputs": [
    {
     "data": {
      "text/plain": [
       "False"
      ]
     },
     "execution_count": 10,
     "metadata": {},
     "output_type": "execute_result"
    }
   ],
   "source": [
    "fruit_cat.values.ordered"
   ]
  },
  {
   "cell_type": "markdown",
   "metadata": {},
   "source": [
    "#### 4. categorical.dtype"
   ]
  },
  {
   "cell_type": "code",
   "execution_count": 11,
   "metadata": {},
   "outputs": [
    {
     "data": {
      "text/plain": [
       "CategoricalDtype(categories=['橘子', '苹果'], ordered=False)"
      ]
     },
     "execution_count": 11,
     "metadata": {},
     "output_type": "execute_result"
    }
   ],
   "source": [
    "fruit_cat.values.dtype"
   ]
  },
  {
   "cell_type": "markdown",
   "metadata": {},
   "source": [
    "### （三）Series.cat"
   ]
  },
  {
   "cell_type": "code",
   "execution_count": 21,
   "metadata": {},
   "outputs": [
    {
     "data": {
      "text/html": [
       "<div>\n",
       "<style scoped>\n",
       "    .dataframe tbody tr th:only-of-type {\n",
       "        vertical-align: middle;\n",
       "    }\n",
       "\n",
       "    .dataframe tbody tr th {\n",
       "        vertical-align: top;\n",
       "    }\n",
       "\n",
       "    .dataframe thead th {\n",
       "        text-align: right;\n",
       "    }\n",
       "</style>\n",
       "<table border=\"1\" class=\"dataframe\">\n",
       "  <thead>\n",
       "    <tr style=\"text-align: right;\">\n",
       "      <th></th>\n",
       "      <th>篮子编号</th>\n",
       "      <th>水果</th>\n",
       "      <th>数量</th>\n",
       "      <th>重量</th>\n",
       "    </tr>\n",
       "  </thead>\n",
       "  <tbody>\n",
       "    <tr>\n",
       "      <th>0</th>\n",
       "      <td>0</td>\n",
       "      <td>苹果</td>\n",
       "      <td>12</td>\n",
       "      <td>1.008104</td>\n",
       "    </tr>\n",
       "    <tr>\n",
       "      <th>1</th>\n",
       "      <td>1</td>\n",
       "      <td>橘子</td>\n",
       "      <td>6</td>\n",
       "      <td>1.118877</td>\n",
       "    </tr>\n",
       "    <tr>\n",
       "      <th>2</th>\n",
       "      <td>2</td>\n",
       "      <td>苹果</td>\n",
       "      <td>4</td>\n",
       "      <td>1.483665</td>\n",
       "    </tr>\n",
       "    <tr>\n",
       "      <th>3</th>\n",
       "      <td>3</td>\n",
       "      <td>西瓜</td>\n",
       "      <td>14</td>\n",
       "      <td>2.020660</td>\n",
       "    </tr>\n",
       "    <tr>\n",
       "      <th>4</th>\n",
       "      <td>4</td>\n",
       "      <td>哈密瓜</td>\n",
       "      <td>5</td>\n",
       "      <td>1.159440</td>\n",
       "    </tr>\n",
       "    <tr>\n",
       "      <th>5</th>\n",
       "      <td>5</td>\n",
       "      <td>香蕉</td>\n",
       "      <td>3</td>\n",
       "      <td>2.516750</td>\n",
       "    </tr>\n",
       "    <tr>\n",
       "      <th>6</th>\n",
       "      <td>6</td>\n",
       "      <td>苹果</td>\n",
       "      <td>14</td>\n",
       "      <td>2.580846</td>\n",
       "    </tr>\n",
       "    <tr>\n",
       "      <th>7</th>\n",
       "      <td>7</td>\n",
       "      <td>橘子</td>\n",
       "      <td>12</td>\n",
       "      <td>1.086575</td>\n",
       "    </tr>\n",
       "    <tr>\n",
       "      <th>8</th>\n",
       "      <td>8</td>\n",
       "      <td>苹果</td>\n",
       "      <td>8</td>\n",
       "      <td>3.775838</td>\n",
       "    </tr>\n",
       "    <tr>\n",
       "      <th>9</th>\n",
       "      <td>9</td>\n",
       "      <td>西瓜</td>\n",
       "      <td>13</td>\n",
       "      <td>1.642699</td>\n",
       "    </tr>\n",
       "    <tr>\n",
       "      <th>10</th>\n",
       "      <td>10</td>\n",
       "      <td>哈密瓜</td>\n",
       "      <td>12</td>\n",
       "      <td>1.570047</td>\n",
       "    </tr>\n",
       "    <tr>\n",
       "      <th>11</th>\n",
       "      <td>11</td>\n",
       "      <td>香蕉</td>\n",
       "      <td>8</td>\n",
       "      <td>3.697080</td>\n",
       "    </tr>\n",
       "  </tbody>\n",
       "</table>\n",
       "</div>"
      ],
      "text/plain": [
       "    篮子编号   水果  数量        重量\n",
       "0      0   苹果  12  1.008104\n",
       "1      1   橘子   6  1.118877\n",
       "2      2   苹果   4  1.483665\n",
       "3      3   西瓜  14  2.020660\n",
       "4      4  哈密瓜   5  1.159440\n",
       "5      5   香蕉   3  2.516750\n",
       "6      6   苹果  14  2.580846\n",
       "7      7   橘子  12  1.086575\n",
       "8      8   苹果   8  3.775838\n",
       "9      9   西瓜  13  1.642699\n",
       "10    10  哈密瓜  12  1.570047\n",
       "11    11   香蕉   8  3.697080"
      ]
     },
     "execution_count": 21,
     "metadata": {},
     "output_type": "execute_result"
    },
    {
     "data": {
      "text/plain": [
       "0      苹果\n",
       "1      橘子\n",
       "2      苹果\n",
       "3      西瓜\n",
       "4     哈密瓜\n",
       "5      香蕉\n",
       "6      苹果\n",
       "7      橘子\n",
       "8      苹果\n",
       "9      西瓜\n",
       "10    哈密瓜\n",
       "11     香蕉\n",
       "Name: 水果, dtype: category\n",
       "Categories (5, object): ['哈密瓜', '橘子', '苹果', '西瓜', '香蕉']"
      ]
     },
     "execution_count": 21,
     "metadata": {},
     "output_type": "execute_result"
    }
   ],
   "source": [
    "# 创建一个df\n",
    "fruits = ['苹果', '橘子', '苹果', '西瓜', '哈密瓜', '香蕉'] * 2\n",
    "\n",
    "N = len(fruits)\n",
    "\n",
    "df = pd.DataFrame({'篮子编号': np.arange(N),\n",
    "                   '水果': fruits,\n",
    "                   '数量': np.random.randint(3,15,size=N),\n",
    "                   '重量': np.random.uniform(1,4,size=N)})\n",
    "\n",
    "df\n",
    "\n",
    "# 将水果列转换为Categorical类型\n",
    "fruit_cat = df['水果'].astype('category')\n",
    "fruit_cat"
   ]
  },
  {
   "cell_type": "markdown",
   "metadata": {},
   "source": [
    "#### 1. Series.cat.codes"
   ]
  },
  {
   "cell_type": "code",
   "execution_count": 22,
   "metadata": {
    "scrolled": false
   },
   "outputs": [
    {
     "data": {
      "text/plain": [
       "0     2\n",
       "1     1\n",
       "2     2\n",
       "3     3\n",
       "4     0\n",
       "5     4\n",
       "6     2\n",
       "7     1\n",
       "8     2\n",
       "9     3\n",
       "10    0\n",
       "11    4\n",
       "dtype: int8"
      ]
     },
     "execution_count": 22,
     "metadata": {},
     "output_type": "execute_result"
    }
   ],
   "source": [
    "fruit_cat.cat.codes"
   ]
  },
  {
   "cell_type": "markdown",
   "metadata": {},
   "source": [
    "#### 2. Series.cat.categories"
   ]
  },
  {
   "cell_type": "code",
   "execution_count": 23,
   "metadata": {},
   "outputs": [
    {
     "data": {
      "text/plain": [
       "Index(['哈密瓜', '橘子', '苹果', '西瓜', '香蕉'], dtype='object')"
      ]
     },
     "execution_count": 23,
     "metadata": {},
     "output_type": "execute_result"
    }
   ],
   "source": [
    "fruit_cat.cat.categories"
   ]
  },
  {
   "cell_type": "markdown",
   "metadata": {},
   "source": [
    "#### 3. Series.cat.set_categories()"
   ]
  },
  {
   "cell_type": "code",
   "execution_count": 48,
   "metadata": {},
   "outputs": [
    {
     "data": {
      "text/plain": [
       "0      苹果\n",
       "1      橘子\n",
       "2      苹果\n",
       "3      西瓜\n",
       "4     哈密瓜\n",
       "5      香蕉\n",
       "6      苹果\n",
       "7      橘子\n",
       "8      苹果\n",
       "9      西瓜\n",
       "10    哈密瓜\n",
       "11     香蕉\n",
       "Name: 水果, dtype: category\n",
       "Categories (5, object): ['哈密瓜', '橘子', '苹果', '西瓜', '香蕉']"
      ]
     },
     "execution_count": 48,
     "metadata": {},
     "output_type": "execute_result"
    },
    {
     "data": {
      "text/plain": [
       "0      苹果\n",
       "1      橘子\n",
       "2      苹果\n",
       "3      西瓜\n",
       "4     NaN\n",
       "5     NaN\n",
       "6      苹果\n",
       "7      橘子\n",
       "8      苹果\n",
       "9      西瓜\n",
       "10    NaN\n",
       "11    NaN\n",
       "Name: 水果, dtype: category\n",
       "Categories (3, object): ['橘子', '苹果', '西瓜']"
      ]
     },
     "execution_count": 48,
     "metadata": {},
     "output_type": "execute_result"
    }
   ],
   "source": [
    "fruit_cat\n",
    "fruit_cat.cat.set_categories(['橘子', '苹果', '西瓜'])"
   ]
  },
  {
   "cell_type": "markdown",
   "metadata": {},
   "source": [
    "#### 4. Series..cat.rename_categories()"
   ]
  },
  {
   "cell_type": "code",
   "execution_count": 49,
   "metadata": {},
   "outputs": [
    {
     "data": {
      "text/plain": [
       "0      苹果\n",
       "1      橘子\n",
       "2      苹果\n",
       "3      西瓜\n",
       "4     哈密瓜\n",
       "5      香蕉\n",
       "6      苹果\n",
       "7      橘子\n",
       "8      苹果\n",
       "9      西瓜\n",
       "10    哈密瓜\n",
       "11     香蕉\n",
       "Name: 水果, dtype: category\n",
       "Categories (5, object): ['哈密瓜', '橘子', '苹果', '西瓜', '香蕉']"
      ]
     },
     "execution_count": 49,
     "metadata": {},
     "output_type": "execute_result"
    },
    {
     "data": {
      "text/plain": [
       "0      香蕉\n",
       "1     bbb\n",
       "2      香蕉\n",
       "3      橘子\n",
       "4     哈密瓜\n",
       "5      苹果\n",
       "6      香蕉\n",
       "7     bbb\n",
       "8      香蕉\n",
       "9      橘子\n",
       "10    哈密瓜\n",
       "11     苹果\n",
       "Name: 水果, dtype: category\n",
       "Categories (5, object): ['哈密瓜', 'bbb', '香蕉', '橘子', '苹果']"
      ]
     },
     "execution_count": 49,
     "metadata": {},
     "output_type": "execute_result"
    }
   ],
   "source": [
    "fruit_cat\n",
    "fruit_cat.cat.rename_categories(['哈密瓜', 'bbb', '香蕉', '橘子', '苹果'])  # 重命名分类元素，新的分类元素长度必须与旧的相等"
   ]
  },
  {
   "cell_type": "markdown",
   "metadata": {},
   "source": [
    "#### 5. Series.cat.add_categories()"
   ]
  },
  {
   "cell_type": "code",
   "execution_count": 50,
   "metadata": {},
   "outputs": [
    {
     "data": {
      "text/plain": [
       "0      苹果\n",
       "1      橘子\n",
       "2      苹果\n",
       "3      西瓜\n",
       "4     哈密瓜\n",
       "5      香蕉\n",
       "6      苹果\n",
       "7      橘子\n",
       "8      苹果\n",
       "9      西瓜\n",
       "10    哈密瓜\n",
       "11     香蕉\n",
       "Name: 水果, dtype: category\n",
       "Categories (5, object): ['哈密瓜', '橘子', '苹果', '西瓜', '香蕉']"
      ]
     },
     "execution_count": 50,
     "metadata": {},
     "output_type": "execute_result"
    },
    {
     "data": {
      "text/plain": [
       "0      苹果\n",
       "1      橘子\n",
       "2      苹果\n",
       "3      西瓜\n",
       "4     哈密瓜\n",
       "5      香蕉\n",
       "6      苹果\n",
       "7      橘子\n",
       "8      苹果\n",
       "9      西瓜\n",
       "10    哈密瓜\n",
       "11     香蕉\n",
       "Name: 水果, dtype: category\n",
       "Categories (7, object): ['哈密瓜', '橘子', '苹果', '西瓜', '香蕉', '柚子', '白菜']"
      ]
     },
     "execution_count": 50,
     "metadata": {},
     "output_type": "execute_result"
    }
   ],
   "source": [
    "fruit_cat\n",
    "fruit_cat.cat.add_categories(['柚子', '白菜'])"
   ]
  },
  {
   "cell_type": "markdown",
   "metadata": {},
   "source": [
    "#### 6. Series.cat.remove_categories()"
   ]
  },
  {
   "cell_type": "code",
   "execution_count": 51,
   "metadata": {},
   "outputs": [
    {
     "data": {
      "text/plain": [
       "0      苹果\n",
       "1      橘子\n",
       "2      苹果\n",
       "3      西瓜\n",
       "4     哈密瓜\n",
       "5      香蕉\n",
       "6      苹果\n",
       "7      橘子\n",
       "8      苹果\n",
       "9      西瓜\n",
       "10    哈密瓜\n",
       "11     香蕉\n",
       "Name: 水果, dtype: category\n",
       "Categories (5, object): ['哈密瓜', '橘子', '苹果', '西瓜', '香蕉']"
      ]
     },
     "execution_count": 51,
     "metadata": {},
     "output_type": "execute_result"
    },
    {
     "data": {
      "text/plain": [
       "0      苹果\n",
       "1      橘子\n",
       "2      苹果\n",
       "3      西瓜\n",
       "4     NaN\n",
       "5      香蕉\n",
       "6      苹果\n",
       "7      橘子\n",
       "8      苹果\n",
       "9      西瓜\n",
       "10    NaN\n",
       "11     香蕉\n",
       "Name: 水果, dtype: category\n",
       "Categories (4, object): ['橘子', '苹果', '西瓜', '香蕉']"
      ]
     },
     "execution_count": 51,
     "metadata": {},
     "output_type": "execute_result"
    }
   ],
   "source": [
    "fruit_cat\n",
    "fruit_cat.cat.remove_categories(['哈密瓜'])  # 移除的元素必须包含旧的分类元素中"
   ]
  },
  {
   "cell_type": "markdown",
   "metadata": {},
   "source": [
    "#### 7. Series.cat.remove_unused_categories()"
   ]
  },
  {
   "cell_type": "code",
   "execution_count": 42,
   "metadata": {},
   "outputs": [
    {
     "data": {
      "text/plain": [
       "0      苹果\n",
       "1      橘子\n",
       "2      苹果\n",
       "3      西瓜\n",
       "4     哈密瓜\n",
       "5      香蕉\n",
       "6      苹果\n",
       "7      橘子\n",
       "8      苹果\n",
       "9      西瓜\n",
       "10    哈密瓜\n",
       "11     香蕉\n",
       "Name: 水果, dtype: category\n",
       "Categories (7, object): ['哈密瓜', '橘子', '苹果', '西瓜', '香蕉', '柚子', '白菜']"
      ]
     },
     "execution_count": 42,
     "metadata": {},
     "output_type": "execute_result"
    },
    {
     "data": {
      "text/plain": [
       "0      苹果\n",
       "1      橘子\n",
       "2      苹果\n",
       "3      西瓜\n",
       "4     哈密瓜\n",
       "5      香蕉\n",
       "6      苹果\n",
       "7      橘子\n",
       "8      苹果\n",
       "9      西瓜\n",
       "10    哈密瓜\n",
       "11     香蕉\n",
       "Name: 水果, dtype: category\n",
       "Categories (5, object): ['哈密瓜', '橘子', '苹果', '西瓜', '香蕉']"
      ]
     },
     "execution_count": 42,
     "metadata": {},
     "output_type": "execute_result"
    }
   ],
   "source": [
    "fruit_add = fruit_cat.cat.add_categories(['柚子', '白菜'])\n",
    "fruit_add\n",
    "fruit_add.cat.remove_unused_categories()"
   ]
  },
  {
   "cell_type": "markdown",
   "metadata": {},
   "source": [
    "#### 8. Series.cat.reorder_categories()"
   ]
  },
  {
   "cell_type": "code",
   "execution_count": 46,
   "metadata": {},
   "outputs": [
    {
     "data": {
      "text/plain": [
       "0      苹果\n",
       "1      橘子\n",
       "2      苹果\n",
       "3      西瓜\n",
       "4     哈密瓜\n",
       "5      香蕉\n",
       "6      苹果\n",
       "7      橘子\n",
       "8      苹果\n",
       "9      西瓜\n",
       "10    哈密瓜\n",
       "11     香蕉\n",
       "Name: 水果, dtype: category\n",
       "Categories (5, object): ['哈密瓜', '橘子', '苹果', '西瓜', '香蕉']"
      ]
     },
     "execution_count": 46,
     "metadata": {},
     "output_type": "execute_result"
    },
    {
     "data": {
      "text/plain": [
       "0      苹果\n",
       "1      橘子\n",
       "2      苹果\n",
       "3      西瓜\n",
       "4     哈密瓜\n",
       "5      香蕉\n",
       "6      苹果\n",
       "7      橘子\n",
       "8      苹果\n",
       "9      西瓜\n",
       "10    哈密瓜\n",
       "11     香蕉\n",
       "Name: 水果, dtype: category\n",
       "Categories (5, object): ['苹果', '西瓜', '香蕉', '哈密瓜', '橘子']"
      ]
     },
     "execution_count": 46,
     "metadata": {},
     "output_type": "execute_result"
    }
   ],
   "source": [
    "fruit_cat\n",
    "fruit_cat.cat.reorder_categories(['苹果', '西瓜', '香蕉', '哈密瓜', '橘子'])"
   ]
  },
  {
   "cell_type": "markdown",
   "metadata": {},
   "source": [
    "#### 9. Series.cat.as_ordered()"
   ]
  },
  {
   "cell_type": "code",
   "execution_count": 53,
   "metadata": {},
   "outputs": [
    {
     "data": {
      "text/plain": [
       "0      苹果\n",
       "1      橘子\n",
       "2      苹果\n",
       "3      西瓜\n",
       "4     哈密瓜\n",
       "5      香蕉\n",
       "6      苹果\n",
       "7      橘子\n",
       "8      苹果\n",
       "9      西瓜\n",
       "10    哈密瓜\n",
       "11     香蕉\n",
       "Name: 水果, dtype: category\n",
       "Categories (5, object): ['哈密瓜', '橘子', '苹果', '西瓜', '香蕉']"
      ]
     },
     "execution_count": 53,
     "metadata": {},
     "output_type": "execute_result"
    },
    {
     "data": {
      "text/plain": [
       "0      苹果\n",
       "1      橘子\n",
       "2      苹果\n",
       "3      西瓜\n",
       "4     哈密瓜\n",
       "5      香蕉\n",
       "6      苹果\n",
       "7      橘子\n",
       "8      苹果\n",
       "9      西瓜\n",
       "10    哈密瓜\n",
       "11     香蕉\n",
       "Name: 水果, dtype: category\n",
       "Categories (5, object): ['哈密瓜' < '橘子' < '苹果' < '西瓜' < '香蕉']"
      ]
     },
     "execution_count": 53,
     "metadata": {},
     "output_type": "execute_result"
    }
   ],
   "source": [
    "fruit_cat\n",
    "fruit_cat.cat.as_ordered()"
   ]
  },
  {
   "cell_type": "markdown",
   "metadata": {},
   "source": [
    "#### 10. Series.cat.as_unordered()"
   ]
  },
  {
   "cell_type": "code",
   "execution_count": 56,
   "metadata": {},
   "outputs": [
    {
     "data": {
      "text/plain": [
       "0      苹果\n",
       "1      橘子\n",
       "2      苹果\n",
       "3      西瓜\n",
       "4     哈密瓜\n",
       "5      香蕉\n",
       "6      苹果\n",
       "7      橘子\n",
       "8      苹果\n",
       "9      西瓜\n",
       "10    哈密瓜\n",
       "11     香蕉\n",
       "Name: 水果, dtype: category\n",
       "Categories (5, object): ['哈密瓜', '橘子', '苹果', '西瓜', '香蕉']"
      ]
     },
     "execution_count": 56,
     "metadata": {},
     "output_type": "execute_result"
    },
    {
     "data": {
      "text/plain": [
       "0      苹果\n",
       "1      橘子\n",
       "2      苹果\n",
       "3      西瓜\n",
       "4     哈密瓜\n",
       "5      香蕉\n",
       "6      苹果\n",
       "7      橘子\n",
       "8      苹果\n",
       "9      西瓜\n",
       "10    哈密瓜\n",
       "11     香蕉\n",
       "Name: 水果, dtype: category\n",
       "Categories (5, object): ['哈密瓜', '橘子', '苹果', '西瓜', '香蕉']"
      ]
     },
     "execution_count": 56,
     "metadata": {},
     "output_type": "execute_result"
    }
   ],
   "source": [
    "fruit_cat\n",
    "fruit_cat.cat.as_unordered()"
   ]
  },
  {
   "cell_type": "markdown",
   "metadata": {},
   "source": [
    "### （四）Categorical 与 groupby 联合使用  以 pd.qcut() 为例"
   ]
  },
  {
   "cell_type": "code",
   "execution_count": 17,
   "metadata": {},
   "outputs": [
    {
     "data": {
      "text/plain": [
       "array([ 0.35321089, -2.06989988, -1.14875657, -0.07879969,  0.75567391])"
      ]
     },
     "execution_count": 17,
     "metadata": {},
     "output_type": "execute_result"
    },
    {
     "data": {
      "text/plain": [
       "['b3', 'b1', 'b1', 'b2', 'b4', ..., 'b2', 'b1', 'b3', 'b4', 'b1']\n",
       "Length: 1000\n",
       "Categories (4, object): ['b1' < 'b2' < 'b3' < 'b4']"
      ]
     },
     "execution_count": 17,
     "metadata": {},
     "output_type": "execute_result"
    },
    {
     "data": {
      "text/plain": [
       "array([2, 0, 0, 1, 3], dtype=int8)"
      ]
     },
     "execution_count": 17,
     "metadata": {},
     "output_type": "execute_result"
    },
    {
     "data": {
      "text/html": [
       "<div>\n",
       "<style scoped>\n",
       "    .dataframe tbody tr th:only-of-type {\n",
       "        vertical-align: middle;\n",
       "    }\n",
       "\n",
       "    .dataframe tbody tr th {\n",
       "        vertical-align: top;\n",
       "    }\n",
       "\n",
       "    .dataframe thead th {\n",
       "        text-align: right;\n",
       "    }\n",
       "</style>\n",
       "<table border=\"1\" class=\"dataframe\">\n",
       "  <thead>\n",
       "    <tr style=\"text-align: right;\">\n",
       "      <th></th>\n",
       "      <th>count</th>\n",
       "      <th>mean</th>\n",
       "      <th>max</th>\n",
       "      <th>min</th>\n",
       "    </tr>\n",
       "  </thead>\n",
       "  <tbody>\n",
       "    <tr>\n",
       "      <th>b1</th>\n",
       "      <td>250</td>\n",
       "      <td>-1.319379</td>\n",
       "      <td>-0.710672</td>\n",
       "      <td>-3.111433</td>\n",
       "    </tr>\n",
       "    <tr>\n",
       "      <th>b2</th>\n",
       "      <td>250</td>\n",
       "      <td>-0.312701</td>\n",
       "      <td>0.045636</td>\n",
       "      <td>-0.700888</td>\n",
       "    </tr>\n",
       "    <tr>\n",
       "      <th>b3</th>\n",
       "      <td>250</td>\n",
       "      <td>0.361327</td>\n",
       "      <td>0.700546</td>\n",
       "      <td>0.046337</td>\n",
       "    </tr>\n",
       "    <tr>\n",
       "      <th>b4</th>\n",
       "      <td>250</td>\n",
       "      <td>1.270507</td>\n",
       "      <td>2.758724</td>\n",
       "      <td>0.701348</td>\n",
       "    </tr>\n",
       "  </tbody>\n",
       "</table>\n",
       "</div>"
      ],
      "text/plain": [
       "    count      mean       max       min\n",
       "b1    250 -1.319379 -0.710672 -3.111433\n",
       "b2    250 -0.312701  0.045636 -0.700888\n",
       "b3    250  0.361327  0.700546  0.046337\n",
       "b4    250  1.270507  2.758724  0.701348"
      ]
     },
     "execution_count": 17,
     "metadata": {},
     "output_type": "execute_result"
    }
   ],
   "source": [
    "# 生成分箱数据\n",
    "np.random.seed(131313)\n",
    "data = np.random.randn(1000)\n",
    "data[:5]\n",
    "\n",
    "# 使用pd.qcut()进行分箱\n",
    "bins = pd.qcut(data, 4, labels=['b1', 'b2', 'b3', 'b4'])\n",
    "bins\n",
    "bins.codes[:5]\n",
    "\n",
    "# 使用groupby进行分组聚合\n",
    "results = pd.Series(data).groupby(by=bins).agg(['count', 'mean', 'max', 'min'])\n",
    "results"
   ]
  },
  {
   "cell_type": "markdown",
   "metadata": {},
   "source": [
    "## 二、高阶Groupby"
   ]
  },
  {
   "cell_type": "markdown",
   "metadata": {},
   "source": [
    "### （一）groupby 与 transform"
   ]
  },
  {
   "cell_type": "markdown",
   "metadata": {},
   "source": [
    "**链接：** \n",
    "\n",
    "*10_数据聚合与分组操作*\n",
    "* 1. groupby 与 agg\n",
    "* 2. groupby 与 apply"
   ]
  },
  {
   "cell_type": "code",
   "execution_count": 32,
   "metadata": {},
   "outputs": [
    {
     "data": {
      "text/html": [
       "<div>\n",
       "<style scoped>\n",
       "    .dataframe tbody tr th:only-of-type {\n",
       "        vertical-align: middle;\n",
       "    }\n",
       "\n",
       "    .dataframe tbody tr th {\n",
       "        vertical-align: top;\n",
       "    }\n",
       "\n",
       "    .dataframe thead th {\n",
       "        text-align: right;\n",
       "    }\n",
       "</style>\n",
       "<table border=\"1\" class=\"dataframe\">\n",
       "  <thead>\n",
       "    <tr style=\"text-align: right;\">\n",
       "      <th></th>\n",
       "      <th>total_bill</th>\n",
       "      <th>tip</th>\n",
       "      <th>smoker</th>\n",
       "      <th>day</th>\n",
       "      <th>time</th>\n",
       "      <th>size</th>\n",
       "    </tr>\n",
       "  </thead>\n",
       "  <tbody>\n",
       "    <tr>\n",
       "      <th>0</th>\n",
       "      <td>10.34</td>\n",
       "      <td>2.00</td>\n",
       "      <td>Yes</td>\n",
       "      <td>Thur</td>\n",
       "      <td>Lunch</td>\n",
       "      <td>2</td>\n",
       "    </tr>\n",
       "    <tr>\n",
       "      <th>1</th>\n",
       "      <td>25.21</td>\n",
       "      <td>4.29</td>\n",
       "      <td>Yes</td>\n",
       "      <td>Sat</td>\n",
       "      <td>Dinner</td>\n",
       "      <td>2</td>\n",
       "    </tr>\n",
       "    <tr>\n",
       "      <th>2</th>\n",
       "      <td>14.83</td>\n",
       "      <td>3.02</td>\n",
       "      <td>No</td>\n",
       "      <td>Sun</td>\n",
       "      <td>Dinner</td>\n",
       "      <td>2</td>\n",
       "    </tr>\n",
       "    <tr>\n",
       "      <th>3</th>\n",
       "      <td>34.81</td>\n",
       "      <td>5.20</td>\n",
       "      <td>No</td>\n",
       "      <td>Sun</td>\n",
       "      <td>Dinner</td>\n",
       "      <td>4</td>\n",
       "    </tr>\n",
       "    <tr>\n",
       "      <th>4</th>\n",
       "      <td>16.21</td>\n",
       "      <td>2.00</td>\n",
       "      <td>No</td>\n",
       "      <td>Sun</td>\n",
       "      <td>Dinner</td>\n",
       "      <td>3</td>\n",
       "    </tr>\n",
       "    <tr>\n",
       "      <th>5</th>\n",
       "      <td>30.40</td>\n",
       "      <td>5.60</td>\n",
       "      <td>No</td>\n",
       "      <td>Sun</td>\n",
       "      <td>Dinner</td>\n",
       "      <td>4</td>\n",
       "    </tr>\n",
       "    <tr>\n",
       "      <th>6</th>\n",
       "      <td>18.24</td>\n",
       "      <td>3.76</td>\n",
       "      <td>No</td>\n",
       "      <td>Sat</td>\n",
       "      <td>Dinner</td>\n",
       "      <td>2</td>\n",
       "    </tr>\n",
       "    <tr>\n",
       "      <th>7</th>\n",
       "      <td>17.59</td>\n",
       "      <td>2.64</td>\n",
       "      <td>No</td>\n",
       "      <td>Sat</td>\n",
       "      <td>Dinner</td>\n",
       "      <td>3</td>\n",
       "    </tr>\n",
       "    <tr>\n",
       "      <th>8</th>\n",
       "      <td>19.81</td>\n",
       "      <td>4.19</td>\n",
       "      <td>Yes</td>\n",
       "      <td>Thur</td>\n",
       "      <td>Lunch</td>\n",
       "      <td>2</td>\n",
       "    </tr>\n",
       "    <tr>\n",
       "      <th>9</th>\n",
       "      <td>9.55</td>\n",
       "      <td>1.45</td>\n",
       "      <td>No</td>\n",
       "      <td>Sat</td>\n",
       "      <td>Dinner</td>\n",
       "      <td>2</td>\n",
       "    </tr>\n",
       "  </tbody>\n",
       "</table>\n",
       "</div>"
      ],
      "text/plain": [
       "   total_bill   tip smoker   day    time  size\n",
       "0       10.34  2.00    Yes  Thur   Lunch     2\n",
       "1       25.21  4.29    Yes   Sat  Dinner     2\n",
       "2       14.83  3.02     No   Sun  Dinner     2\n",
       "3       34.81  5.20     No   Sun  Dinner     4\n",
       "4       16.21  2.00     No   Sun  Dinner     3\n",
       "5       30.40  5.60     No   Sun  Dinner     4\n",
       "6       18.24  3.76     No   Sat  Dinner     2\n",
       "7       17.59  2.64     No   Sat  Dinner     3\n",
       "8       19.81  4.19    Yes  Thur   Lunch     2\n",
       "9        9.55  1.45     No   Sat  Dinner     2"
      ]
     },
     "execution_count": 32,
     "metadata": {},
     "output_type": "execute_result"
    }
   ],
   "source": [
    "# 导入与生成数据\n",
    "data_all = shuffle(pd.read_csv('.\\\\data_for_book\\\\chapter_12\\\\tips.csv'))\n",
    "data = data_all[:10]\n",
    "data.index = range(data.shape[0])\n",
    "data"
   ]
  },
  {
   "cell_type": "code",
   "execution_count": 47,
   "metadata": {},
   "outputs": [
    {
     "data": {
      "text/html": [
       "<div>\n",
       "<style scoped>\n",
       "    .dataframe tbody tr th:only-of-type {\n",
       "        vertical-align: middle;\n",
       "    }\n",
       "\n",
       "    .dataframe tbody tr th {\n",
       "        vertical-align: top;\n",
       "    }\n",
       "\n",
       "    .dataframe thead th {\n",
       "        text-align: right;\n",
       "    }\n",
       "</style>\n",
       "<table border=\"1\" class=\"dataframe\">\n",
       "  <thead>\n",
       "    <tr style=\"text-align: right;\">\n",
       "      <th></th>\n",
       "      <th>total_bill</th>\n",
       "      <th>tip</th>\n",
       "      <th>size</th>\n",
       "    </tr>\n",
       "  </thead>\n",
       "  <tbody>\n",
       "    <tr>\n",
       "      <th>0</th>\n",
       "      <td>18.453333</td>\n",
       "      <td>3.493333</td>\n",
       "      <td>2.000000</td>\n",
       "    </tr>\n",
       "    <tr>\n",
       "      <th>1</th>\n",
       "      <td>18.453333</td>\n",
       "      <td>3.493333</td>\n",
       "      <td>2.000000</td>\n",
       "    </tr>\n",
       "    <tr>\n",
       "      <th>2</th>\n",
       "      <td>20.232857</td>\n",
       "      <td>3.381429</td>\n",
       "      <td>2.857143</td>\n",
       "    </tr>\n",
       "    <tr>\n",
       "      <th>3</th>\n",
       "      <td>20.232857</td>\n",
       "      <td>3.381429</td>\n",
       "      <td>2.857143</td>\n",
       "    </tr>\n",
       "    <tr>\n",
       "      <th>4</th>\n",
       "      <td>20.232857</td>\n",
       "      <td>3.381429</td>\n",
       "      <td>2.857143</td>\n",
       "    </tr>\n",
       "    <tr>\n",
       "      <th>5</th>\n",
       "      <td>20.232857</td>\n",
       "      <td>3.381429</td>\n",
       "      <td>2.857143</td>\n",
       "    </tr>\n",
       "    <tr>\n",
       "      <th>6</th>\n",
       "      <td>20.232857</td>\n",
       "      <td>3.381429</td>\n",
       "      <td>2.857143</td>\n",
       "    </tr>\n",
       "    <tr>\n",
       "      <th>7</th>\n",
       "      <td>20.232857</td>\n",
       "      <td>3.381429</td>\n",
       "      <td>2.857143</td>\n",
       "    </tr>\n",
       "    <tr>\n",
       "      <th>8</th>\n",
       "      <td>18.453333</td>\n",
       "      <td>3.493333</td>\n",
       "      <td>2.000000</td>\n",
       "    </tr>\n",
       "    <tr>\n",
       "      <th>9</th>\n",
       "      <td>20.232857</td>\n",
       "      <td>3.381429</td>\n",
       "      <td>2.857143</td>\n",
       "    </tr>\n",
       "  </tbody>\n",
       "</table>\n",
       "</div>"
      ],
      "text/plain": [
       "   total_bill       tip      size\n",
       "0   18.453333  3.493333  2.000000\n",
       "1   18.453333  3.493333  2.000000\n",
       "2   20.232857  3.381429  2.857143\n",
       "3   20.232857  3.381429  2.857143\n",
       "4   20.232857  3.381429  2.857143\n",
       "5   20.232857  3.381429  2.857143\n",
       "6   20.232857  3.381429  2.857143\n",
       "7   20.232857  3.381429  2.857143\n",
       "8   18.453333  3.493333  2.000000\n",
       "9   20.232857  3.381429  2.857143"
      ]
     },
     "execution_count": 47,
     "metadata": {},
     "output_type": "execute_result"
    },
    {
     "data": {
      "text/html": [
       "<div>\n",
       "<style scoped>\n",
       "    .dataframe tbody tr th:only-of-type {\n",
       "        vertical-align: middle;\n",
       "    }\n",
       "\n",
       "    .dataframe tbody tr th {\n",
       "        vertical-align: top;\n",
       "    }\n",
       "\n",
       "    .dataframe thead th {\n",
       "        text-align: right;\n",
       "    }\n",
       "</style>\n",
       "<table border=\"1\" class=\"dataframe\">\n",
       "  <thead>\n",
       "    <tr style=\"text-align: right;\">\n",
       "      <th></th>\n",
       "      <th>total_bill</th>\n",
       "      <th>tip</th>\n",
       "      <th>size</th>\n",
       "    </tr>\n",
       "  </thead>\n",
       "  <tbody>\n",
       "    <tr>\n",
       "      <th>0</th>\n",
       "      <td>18.453333</td>\n",
       "      <td>3.493333</td>\n",
       "      <td>2.000000</td>\n",
       "    </tr>\n",
       "    <tr>\n",
       "      <th>1</th>\n",
       "      <td>18.453333</td>\n",
       "      <td>3.493333</td>\n",
       "      <td>2.000000</td>\n",
       "    </tr>\n",
       "    <tr>\n",
       "      <th>2</th>\n",
       "      <td>20.232857</td>\n",
       "      <td>3.381429</td>\n",
       "      <td>2.857143</td>\n",
       "    </tr>\n",
       "    <tr>\n",
       "      <th>3</th>\n",
       "      <td>20.232857</td>\n",
       "      <td>3.381429</td>\n",
       "      <td>2.857143</td>\n",
       "    </tr>\n",
       "    <tr>\n",
       "      <th>4</th>\n",
       "      <td>20.232857</td>\n",
       "      <td>3.381429</td>\n",
       "      <td>2.857143</td>\n",
       "    </tr>\n",
       "    <tr>\n",
       "      <th>5</th>\n",
       "      <td>20.232857</td>\n",
       "      <td>3.381429</td>\n",
       "      <td>2.857143</td>\n",
       "    </tr>\n",
       "    <tr>\n",
       "      <th>6</th>\n",
       "      <td>20.232857</td>\n",
       "      <td>3.381429</td>\n",
       "      <td>2.857143</td>\n",
       "    </tr>\n",
       "    <tr>\n",
       "      <th>7</th>\n",
       "      <td>20.232857</td>\n",
       "      <td>3.381429</td>\n",
       "      <td>2.857143</td>\n",
       "    </tr>\n",
       "    <tr>\n",
       "      <th>8</th>\n",
       "      <td>18.453333</td>\n",
       "      <td>3.493333</td>\n",
       "      <td>2.000000</td>\n",
       "    </tr>\n",
       "    <tr>\n",
       "      <th>9</th>\n",
       "      <td>20.232857</td>\n",
       "      <td>3.381429</td>\n",
       "      <td>2.857143</td>\n",
       "    </tr>\n",
       "  </tbody>\n",
       "</table>\n",
       "</div>"
      ],
      "text/plain": [
       "   total_bill       tip      size\n",
       "0   18.453333  3.493333  2.000000\n",
       "1   18.453333  3.493333  2.000000\n",
       "2   20.232857  3.381429  2.857143\n",
       "3   20.232857  3.381429  2.857143\n",
       "4   20.232857  3.381429  2.857143\n",
       "5   20.232857  3.381429  2.857143\n",
       "6   20.232857  3.381429  2.857143\n",
       "7   20.232857  3.381429  2.857143\n",
       "8   18.453333  3.493333  2.000000\n",
       "9   20.232857  3.381429  2.857143"
      ]
     },
     "execution_count": 47,
     "metadata": {},
     "output_type": "execute_result"
    }
   ],
   "source": [
    "# transform\n",
    "data.groupby(by='smoker').transform('mean')\n",
    "# data.groupby(by='smoker').transform(['mean', 'sum'])  # 会报错\n",
    "data.groupby(by='smoker').transform(lambda x: x.mean())"
   ]
  },
  {
   "cell_type": "code",
   "execution_count": 48,
   "metadata": {},
   "outputs": [
    {
     "data": {
      "text/html": [
       "<div>\n",
       "<style scoped>\n",
       "    .dataframe tbody tr th:only-of-type {\n",
       "        vertical-align: middle;\n",
       "    }\n",
       "\n",
       "    .dataframe tbody tr th {\n",
       "        vertical-align: top;\n",
       "    }\n",
       "\n",
       "    .dataframe thead th {\n",
       "        text-align: right;\n",
       "    }\n",
       "</style>\n",
       "<table border=\"1\" class=\"dataframe\">\n",
       "  <thead>\n",
       "    <tr style=\"text-align: right;\">\n",
       "      <th></th>\n",
       "      <th>total_bill</th>\n",
       "      <th>tip</th>\n",
       "      <th>size</th>\n",
       "    </tr>\n",
       "    <tr>\n",
       "      <th>smoker</th>\n",
       "      <th></th>\n",
       "      <th></th>\n",
       "      <th></th>\n",
       "    </tr>\n",
       "  </thead>\n",
       "  <tbody>\n",
       "    <tr>\n",
       "      <th>No</th>\n",
       "      <td>20.232857</td>\n",
       "      <td>3.381429</td>\n",
       "      <td>2.857143</td>\n",
       "    </tr>\n",
       "    <tr>\n",
       "      <th>Yes</th>\n",
       "      <td>18.453333</td>\n",
       "      <td>3.493333</td>\n",
       "      <td>2.000000</td>\n",
       "    </tr>\n",
       "  </tbody>\n",
       "</table>\n",
       "</div>"
      ],
      "text/plain": [
       "        total_bill       tip      size\n",
       "smoker                                \n",
       "No       20.232857  3.381429  2.857143\n",
       "Yes      18.453333  3.493333  2.000000"
      ]
     },
     "execution_count": 48,
     "metadata": {},
     "output_type": "execute_result"
    },
    {
     "data": {
      "text/html": [
       "<div>\n",
       "<style scoped>\n",
       "    .dataframe tbody tr th:only-of-type {\n",
       "        vertical-align: middle;\n",
       "    }\n",
       "\n",
       "    .dataframe tbody tr th {\n",
       "        vertical-align: top;\n",
       "    }\n",
       "\n",
       "    .dataframe thead tr th {\n",
       "        text-align: left;\n",
       "    }\n",
       "\n",
       "    .dataframe thead tr:last-of-type th {\n",
       "        text-align: right;\n",
       "    }\n",
       "</style>\n",
       "<table border=\"1\" class=\"dataframe\">\n",
       "  <thead>\n",
       "    <tr>\n",
       "      <th></th>\n",
       "      <th colspan=\"2\" halign=\"left\">total_bill</th>\n",
       "      <th colspan=\"2\" halign=\"left\">tip</th>\n",
       "      <th colspan=\"2\" halign=\"left\">size</th>\n",
       "    </tr>\n",
       "    <tr>\n",
       "      <th></th>\n",
       "      <th>mean</th>\n",
       "      <th>sum</th>\n",
       "      <th>mean</th>\n",
       "      <th>sum</th>\n",
       "      <th>mean</th>\n",
       "      <th>sum</th>\n",
       "    </tr>\n",
       "    <tr>\n",
       "      <th>smoker</th>\n",
       "      <th></th>\n",
       "      <th></th>\n",
       "      <th></th>\n",
       "      <th></th>\n",
       "      <th></th>\n",
       "      <th></th>\n",
       "    </tr>\n",
       "  </thead>\n",
       "  <tbody>\n",
       "    <tr>\n",
       "      <th>No</th>\n",
       "      <td>20.232857</td>\n",
       "      <td>141.63</td>\n",
       "      <td>3.381429</td>\n",
       "      <td>23.67</td>\n",
       "      <td>2.857143</td>\n",
       "      <td>20</td>\n",
       "    </tr>\n",
       "    <tr>\n",
       "      <th>Yes</th>\n",
       "      <td>18.453333</td>\n",
       "      <td>55.36</td>\n",
       "      <td>3.493333</td>\n",
       "      <td>10.48</td>\n",
       "      <td>2.000000</td>\n",
       "      <td>6</td>\n",
       "    </tr>\n",
       "  </tbody>\n",
       "</table>\n",
       "</div>"
      ],
      "text/plain": [
       "       total_bill               tip             size    \n",
       "             mean     sum      mean    sum      mean sum\n",
       "smoker                                                  \n",
       "No      20.232857  141.63  3.381429  23.67  2.857143  20\n",
       "Yes     18.453333   55.36  3.493333  10.48  2.000000   6"
      ]
     },
     "execution_count": 48,
     "metadata": {},
     "output_type": "execute_result"
    },
    {
     "data": {
      "text/html": [
       "<div>\n",
       "<style scoped>\n",
       "    .dataframe tbody tr th:only-of-type {\n",
       "        vertical-align: middle;\n",
       "    }\n",
       "\n",
       "    .dataframe tbody tr th {\n",
       "        vertical-align: top;\n",
       "    }\n",
       "\n",
       "    .dataframe thead th {\n",
       "        text-align: right;\n",
       "    }\n",
       "</style>\n",
       "<table border=\"1\" class=\"dataframe\">\n",
       "  <thead>\n",
       "    <tr style=\"text-align: right;\">\n",
       "      <th></th>\n",
       "      <th>total_bill</th>\n",
       "      <th>tip</th>\n",
       "      <th>size</th>\n",
       "    </tr>\n",
       "    <tr>\n",
       "      <th>smoker</th>\n",
       "      <th></th>\n",
       "      <th></th>\n",
       "      <th></th>\n",
       "    </tr>\n",
       "  </thead>\n",
       "  <tbody>\n",
       "    <tr>\n",
       "      <th>No</th>\n",
       "      <td>20.232857</td>\n",
       "      <td>3.381429</td>\n",
       "      <td>2.857143</td>\n",
       "    </tr>\n",
       "    <tr>\n",
       "      <th>Yes</th>\n",
       "      <td>18.453333</td>\n",
       "      <td>3.493333</td>\n",
       "      <td>2.000000</td>\n",
       "    </tr>\n",
       "  </tbody>\n",
       "</table>\n",
       "</div>"
      ],
      "text/plain": [
       "        total_bill       tip      size\n",
       "smoker                                \n",
       "No       20.232857  3.381429  2.857143\n",
       "Yes      18.453333  3.493333  2.000000"
      ]
     },
     "execution_count": 48,
     "metadata": {},
     "output_type": "execute_result"
    }
   ],
   "source": [
    "# agg\n",
    "data.groupby(by='smoker').agg('mean')\n",
    "data.groupby(by='smoker').agg(['mean', 'sum'])\n",
    "data.groupby(by='smoker').agg(lambda x: x.mean())"
   ]
  },
  {
   "cell_type": "code",
   "execution_count": 49,
   "metadata": {},
   "outputs": [
    {
     "data": {
      "text/html": [
       "<div>\n",
       "<style scoped>\n",
       "    .dataframe tbody tr th:only-of-type {\n",
       "        vertical-align: middle;\n",
       "    }\n",
       "\n",
       "    .dataframe tbody tr th {\n",
       "        vertical-align: top;\n",
       "    }\n",
       "\n",
       "    .dataframe thead th {\n",
       "        text-align: right;\n",
       "    }\n",
       "</style>\n",
       "<table border=\"1\" class=\"dataframe\">\n",
       "  <thead>\n",
       "    <tr style=\"text-align: right;\">\n",
       "      <th></th>\n",
       "      <th>total_bill</th>\n",
       "      <th>tip</th>\n",
       "      <th>size</th>\n",
       "    </tr>\n",
       "    <tr>\n",
       "      <th>smoker</th>\n",
       "      <th></th>\n",
       "      <th></th>\n",
       "      <th></th>\n",
       "    </tr>\n",
       "  </thead>\n",
       "  <tbody>\n",
       "    <tr>\n",
       "      <th>No</th>\n",
       "      <td>20.232857</td>\n",
       "      <td>3.381429</td>\n",
       "      <td>2.857143</td>\n",
       "    </tr>\n",
       "    <tr>\n",
       "      <th>Yes</th>\n",
       "      <td>18.453333</td>\n",
       "      <td>3.493333</td>\n",
       "      <td>2.000000</td>\n",
       "    </tr>\n",
       "  </tbody>\n",
       "</table>\n",
       "</div>"
      ],
      "text/plain": [
       "        total_bill       tip      size\n",
       "smoker                                \n",
       "No       20.232857  3.381429  2.857143\n",
       "Yes      18.453333  3.493333  2.000000"
      ]
     },
     "execution_count": 49,
     "metadata": {},
     "output_type": "execute_result"
    }
   ],
   "source": [
    "# apply\n",
    "# data.groupby(by='smoker').apply('mean')  # 会报错\n",
    "data.groupby(by='smoker').apply(lambda x: x.mean())"
   ]
  },
  {
   "cell_type": "markdown",
   "metadata": {},
   "source": [
    "**transform、agg、apply三者之间的异同**\n",
    "\n",
    "**相同点：**\n",
    "* 1. 都能传入聚合函数\n",
    "\n",
    "**不同点：**\n",
    "* 1. transform聚合后的结果是展开的，也就是说，它聚合之后返回的是与原Series长度（帧率）一样的一个Series，只不过对应的值被聚合后的值所替代了，而agg与apply则不是展开的；\n",
    "* 2. agg可以以列表、字典的形式同时传入多个聚合函数，但是apply和transform则不可以；\n",
    "* 3. apply不能传入str形式的聚合函数名，agg和transform则可以。"
   ]
  },
  {
   "cell_type": "markdown",
   "metadata": {},
   "source": [
    "### （二）分组时间重采样"
   ]
  },
  {
   "cell_type": "code",
   "execution_count": 76,
   "metadata": {
    "scrolled": false
   },
   "outputs": [
    {
     "data": {
      "text/html": [
       "<div>\n",
       "<style scoped>\n",
       "    .dataframe tbody tr th:only-of-type {\n",
       "        vertical-align: middle;\n",
       "    }\n",
       "\n",
       "    .dataframe tbody tr th {\n",
       "        vertical-align: top;\n",
       "    }\n",
       "\n",
       "    .dataframe thead th {\n",
       "        text-align: right;\n",
       "    }\n",
       "</style>\n",
       "<table border=\"1\" class=\"dataframe\">\n",
       "  <thead>\n",
       "    <tr style=\"text-align: right;\">\n",
       "      <th></th>\n",
       "      <th>key</th>\n",
       "      <th>time</th>\n",
       "      <th>value</th>\n",
       "    </tr>\n",
       "  </thead>\n",
       "  <tbody>\n",
       "    <tr>\n",
       "      <th>0</th>\n",
       "      <td>a</td>\n",
       "      <td>2020-08-18 00:00:00</td>\n",
       "      <td>0</td>\n",
       "    </tr>\n",
       "    <tr>\n",
       "      <th>1</th>\n",
       "      <td>b</td>\n",
       "      <td>2020-08-18 00:00:00</td>\n",
       "      <td>1</td>\n",
       "    </tr>\n",
       "    <tr>\n",
       "      <th>2</th>\n",
       "      <td>c</td>\n",
       "      <td>2020-08-18 00:00:00</td>\n",
       "      <td>2</td>\n",
       "    </tr>\n",
       "    <tr>\n",
       "      <th>3</th>\n",
       "      <td>a</td>\n",
       "      <td>2020-08-18 00:01:00</td>\n",
       "      <td>3</td>\n",
       "    </tr>\n",
       "    <tr>\n",
       "      <th>4</th>\n",
       "      <td>b</td>\n",
       "      <td>2020-08-18 00:01:00</td>\n",
       "      <td>4</td>\n",
       "    </tr>\n",
       "    <tr>\n",
       "      <th>5</th>\n",
       "      <td>c</td>\n",
       "      <td>2020-08-18 00:01:00</td>\n",
       "      <td>5</td>\n",
       "    </tr>\n",
       "    <tr>\n",
       "      <th>6</th>\n",
       "      <td>a</td>\n",
       "      <td>2020-08-18 00:02:00</td>\n",
       "      <td>6</td>\n",
       "    </tr>\n",
       "    <tr>\n",
       "      <th>7</th>\n",
       "      <td>b</td>\n",
       "      <td>2020-08-18 00:02:00</td>\n",
       "      <td>7</td>\n",
       "    </tr>\n",
       "    <tr>\n",
       "      <th>8</th>\n",
       "      <td>c</td>\n",
       "      <td>2020-08-18 00:02:00</td>\n",
       "      <td>8</td>\n",
       "    </tr>\n",
       "    <tr>\n",
       "      <th>9</th>\n",
       "      <td>a</td>\n",
       "      <td>2020-08-18 00:03:00</td>\n",
       "      <td>9</td>\n",
       "    </tr>\n",
       "    <tr>\n",
       "      <th>10</th>\n",
       "      <td>b</td>\n",
       "      <td>2020-08-18 00:03:00</td>\n",
       "      <td>10</td>\n",
       "    </tr>\n",
       "    <tr>\n",
       "      <th>11</th>\n",
       "      <td>c</td>\n",
       "      <td>2020-08-18 00:03:00</td>\n",
       "      <td>11</td>\n",
       "    </tr>\n",
       "    <tr>\n",
       "      <th>12</th>\n",
       "      <td>a</td>\n",
       "      <td>2020-08-18 00:04:00</td>\n",
       "      <td>12</td>\n",
       "    </tr>\n",
       "    <tr>\n",
       "      <th>13</th>\n",
       "      <td>b</td>\n",
       "      <td>2020-08-18 00:04:00</td>\n",
       "      <td>13</td>\n",
       "    </tr>\n",
       "    <tr>\n",
       "      <th>14</th>\n",
       "      <td>c</td>\n",
       "      <td>2020-08-18 00:04:00</td>\n",
       "      <td>14</td>\n",
       "    </tr>\n",
       "  </tbody>\n",
       "</table>\n",
       "</div>"
      ],
      "text/plain": [
       "   key                time  value\n",
       "0    a 2020-08-18 00:00:00      0\n",
       "1    b 2020-08-18 00:00:00      1\n",
       "2    c 2020-08-18 00:00:00      2\n",
       "3    a 2020-08-18 00:01:00      3\n",
       "4    b 2020-08-18 00:01:00      4\n",
       "5    c 2020-08-18 00:01:00      5\n",
       "6    a 2020-08-18 00:02:00      6\n",
       "7    b 2020-08-18 00:02:00      7\n",
       "8    c 2020-08-18 00:02:00      8\n",
       "9    a 2020-08-18 00:03:00      9\n",
       "10   b 2020-08-18 00:03:00     10\n",
       "11   c 2020-08-18 00:03:00     11\n",
       "12   a 2020-08-18 00:04:00     12\n",
       "13   b 2020-08-18 00:04:00     13\n",
       "14   c 2020-08-18 00:04:00     14"
      ]
     },
     "execution_count": 76,
     "metadata": {},
     "output_type": "execute_result"
    },
    {
     "data": {
      "text/plain": [
       "TimeGrouper(key='time', freq=<5 * Minutes>, axis=0, sort=True, closed='left', label='left', how='mean', convention='e', origin='start_day')"
      ]
     },
     "execution_count": 76,
     "metadata": {},
     "output_type": "execute_result"
    },
    {
     "data": {
      "text/html": [
       "<div>\n",
       "<style scoped>\n",
       "    .dataframe tbody tr th:only-of-type {\n",
       "        vertical-align: middle;\n",
       "    }\n",
       "\n",
       "    .dataframe tbody tr th {\n",
       "        vertical-align: top;\n",
       "    }\n",
       "\n",
       "    .dataframe thead th {\n",
       "        text-align: right;\n",
       "    }\n",
       "</style>\n",
       "<table border=\"1\" class=\"dataframe\">\n",
       "  <thead>\n",
       "    <tr style=\"text-align: right;\">\n",
       "      <th></th>\n",
       "      <th></th>\n",
       "      <th>value</th>\n",
       "    </tr>\n",
       "    <tr>\n",
       "      <th>key</th>\n",
       "      <th>time</th>\n",
       "      <th></th>\n",
       "    </tr>\n",
       "  </thead>\n",
       "  <tbody>\n",
       "    <tr>\n",
       "      <th rowspan=\"15\" valign=\"top\">a</th>\n",
       "      <th>2020-08-18 00:00:00</th>\n",
       "      <td>0</td>\n",
       "    </tr>\n",
       "    <tr>\n",
       "      <th>2020-08-18 00:01:00</th>\n",
       "      <td>3</td>\n",
       "    </tr>\n",
       "    <tr>\n",
       "      <th>2020-08-18 00:02:00</th>\n",
       "      <td>6</td>\n",
       "    </tr>\n",
       "    <tr>\n",
       "      <th>2020-08-18 00:03:00</th>\n",
       "      <td>9</td>\n",
       "    </tr>\n",
       "    <tr>\n",
       "      <th>2020-08-18 00:04:00</th>\n",
       "      <td>12</td>\n",
       "    </tr>\n",
       "    <tr>\n",
       "      <th>2020-08-18 00:05:00</th>\n",
       "      <td>15</td>\n",
       "    </tr>\n",
       "    <tr>\n",
       "      <th>2020-08-18 00:06:00</th>\n",
       "      <td>18</td>\n",
       "    </tr>\n",
       "    <tr>\n",
       "      <th>2020-08-18 00:07:00</th>\n",
       "      <td>21</td>\n",
       "    </tr>\n",
       "    <tr>\n",
       "      <th>2020-08-18 00:08:00</th>\n",
       "      <td>24</td>\n",
       "    </tr>\n",
       "    <tr>\n",
       "      <th>2020-08-18 00:09:00</th>\n",
       "      <td>27</td>\n",
       "    </tr>\n",
       "    <tr>\n",
       "      <th>2020-08-18 00:10:00</th>\n",
       "      <td>30</td>\n",
       "    </tr>\n",
       "    <tr>\n",
       "      <th>2020-08-18 00:11:00</th>\n",
       "      <td>33</td>\n",
       "    </tr>\n",
       "    <tr>\n",
       "      <th>2020-08-18 00:12:00</th>\n",
       "      <td>36</td>\n",
       "    </tr>\n",
       "    <tr>\n",
       "      <th>2020-08-18 00:13:00</th>\n",
       "      <td>39</td>\n",
       "    </tr>\n",
       "    <tr>\n",
       "      <th>2020-08-18 00:14:00</th>\n",
       "      <td>42</td>\n",
       "    </tr>\n",
       "    <tr>\n",
       "      <th rowspan=\"15\" valign=\"top\">b</th>\n",
       "      <th>2020-08-18 00:00:00</th>\n",
       "      <td>1</td>\n",
       "    </tr>\n",
       "    <tr>\n",
       "      <th>2020-08-18 00:01:00</th>\n",
       "      <td>4</td>\n",
       "    </tr>\n",
       "    <tr>\n",
       "      <th>2020-08-18 00:02:00</th>\n",
       "      <td>7</td>\n",
       "    </tr>\n",
       "    <tr>\n",
       "      <th>2020-08-18 00:03:00</th>\n",
       "      <td>10</td>\n",
       "    </tr>\n",
       "    <tr>\n",
       "      <th>2020-08-18 00:04:00</th>\n",
       "      <td>13</td>\n",
       "    </tr>\n",
       "    <tr>\n",
       "      <th>2020-08-18 00:05:00</th>\n",
       "      <td>16</td>\n",
       "    </tr>\n",
       "    <tr>\n",
       "      <th>2020-08-18 00:06:00</th>\n",
       "      <td>19</td>\n",
       "    </tr>\n",
       "    <tr>\n",
       "      <th>2020-08-18 00:07:00</th>\n",
       "      <td>22</td>\n",
       "    </tr>\n",
       "    <tr>\n",
       "      <th>2020-08-18 00:08:00</th>\n",
       "      <td>25</td>\n",
       "    </tr>\n",
       "    <tr>\n",
       "      <th>2020-08-18 00:09:00</th>\n",
       "      <td>28</td>\n",
       "    </tr>\n",
       "    <tr>\n",
       "      <th>2020-08-18 00:10:00</th>\n",
       "      <td>31</td>\n",
       "    </tr>\n",
       "    <tr>\n",
       "      <th>2020-08-18 00:11:00</th>\n",
       "      <td>34</td>\n",
       "    </tr>\n",
       "    <tr>\n",
       "      <th>2020-08-18 00:12:00</th>\n",
       "      <td>37</td>\n",
       "    </tr>\n",
       "    <tr>\n",
       "      <th>2020-08-18 00:13:00</th>\n",
       "      <td>40</td>\n",
       "    </tr>\n",
       "    <tr>\n",
       "      <th>2020-08-18 00:14:00</th>\n",
       "      <td>43</td>\n",
       "    </tr>\n",
       "    <tr>\n",
       "      <th rowspan=\"15\" valign=\"top\">c</th>\n",
       "      <th>2020-08-18 00:00:00</th>\n",
       "      <td>2</td>\n",
       "    </tr>\n",
       "    <tr>\n",
       "      <th>2020-08-18 00:01:00</th>\n",
       "      <td>5</td>\n",
       "    </tr>\n",
       "    <tr>\n",
       "      <th>2020-08-18 00:02:00</th>\n",
       "      <td>8</td>\n",
       "    </tr>\n",
       "    <tr>\n",
       "      <th>2020-08-18 00:03:00</th>\n",
       "      <td>11</td>\n",
       "    </tr>\n",
       "    <tr>\n",
       "      <th>2020-08-18 00:04:00</th>\n",
       "      <td>14</td>\n",
       "    </tr>\n",
       "    <tr>\n",
       "      <th>2020-08-18 00:05:00</th>\n",
       "      <td>17</td>\n",
       "    </tr>\n",
       "    <tr>\n",
       "      <th>2020-08-18 00:06:00</th>\n",
       "      <td>20</td>\n",
       "    </tr>\n",
       "    <tr>\n",
       "      <th>2020-08-18 00:07:00</th>\n",
       "      <td>23</td>\n",
       "    </tr>\n",
       "    <tr>\n",
       "      <th>2020-08-18 00:08:00</th>\n",
       "      <td>26</td>\n",
       "    </tr>\n",
       "    <tr>\n",
       "      <th>2020-08-18 00:09:00</th>\n",
       "      <td>29</td>\n",
       "    </tr>\n",
       "    <tr>\n",
       "      <th>2020-08-18 00:10:00</th>\n",
       "      <td>32</td>\n",
       "    </tr>\n",
       "    <tr>\n",
       "      <th>2020-08-18 00:11:00</th>\n",
       "      <td>35</td>\n",
       "    </tr>\n",
       "    <tr>\n",
       "      <th>2020-08-18 00:12:00</th>\n",
       "      <td>38</td>\n",
       "    </tr>\n",
       "    <tr>\n",
       "      <th>2020-08-18 00:13:00</th>\n",
       "      <td>41</td>\n",
       "    </tr>\n",
       "    <tr>\n",
       "      <th>2020-08-18 00:14:00</th>\n",
       "      <td>44</td>\n",
       "    </tr>\n",
       "  </tbody>\n",
       "</table>\n",
       "</div>"
      ],
      "text/plain": [
       "                         value\n",
       "key time                      \n",
       "a   2020-08-18 00:00:00      0\n",
       "    2020-08-18 00:01:00      3\n",
       "    2020-08-18 00:02:00      6\n",
       "    2020-08-18 00:03:00      9\n",
       "    2020-08-18 00:04:00     12\n",
       "    2020-08-18 00:05:00     15\n",
       "    2020-08-18 00:06:00     18\n",
       "    2020-08-18 00:07:00     21\n",
       "    2020-08-18 00:08:00     24\n",
       "    2020-08-18 00:09:00     27\n",
       "    2020-08-18 00:10:00     30\n",
       "    2020-08-18 00:11:00     33\n",
       "    2020-08-18 00:12:00     36\n",
       "    2020-08-18 00:13:00     39\n",
       "    2020-08-18 00:14:00     42\n",
       "b   2020-08-18 00:00:00      1\n",
       "    2020-08-18 00:01:00      4\n",
       "    2020-08-18 00:02:00      7\n",
       "    2020-08-18 00:03:00     10\n",
       "    2020-08-18 00:04:00     13\n",
       "    2020-08-18 00:05:00     16\n",
       "    2020-08-18 00:06:00     19\n",
       "    2020-08-18 00:07:00     22\n",
       "    2020-08-18 00:08:00     25\n",
       "    2020-08-18 00:09:00     28\n",
       "    2020-08-18 00:10:00     31\n",
       "    2020-08-18 00:11:00     34\n",
       "    2020-08-18 00:12:00     37\n",
       "    2020-08-18 00:13:00     40\n",
       "    2020-08-18 00:14:00     43\n",
       "c   2020-08-18 00:00:00      2\n",
       "    2020-08-18 00:01:00      5\n",
       "    2020-08-18 00:02:00      8\n",
       "    2020-08-18 00:03:00     11\n",
       "    2020-08-18 00:04:00     14\n",
       "    2020-08-18 00:05:00     17\n",
       "    2020-08-18 00:06:00     20\n",
       "    2020-08-18 00:07:00     23\n",
       "    2020-08-18 00:08:00     26\n",
       "    2020-08-18 00:09:00     29\n",
       "    2020-08-18 00:10:00     32\n",
       "    2020-08-18 00:11:00     35\n",
       "    2020-08-18 00:12:00     38\n",
       "    2020-08-18 00:13:00     41\n",
       "    2020-08-18 00:14:00     44"
      ]
     },
     "execution_count": 76,
     "metadata": {},
     "output_type": "execute_result"
    },
    {
     "data": {
      "text/html": [
       "<div>\n",
       "<style scoped>\n",
       "    .dataframe tbody tr th:only-of-type {\n",
       "        vertical-align: middle;\n",
       "    }\n",
       "\n",
       "    .dataframe tbody tr th {\n",
       "        vertical-align: top;\n",
       "    }\n",
       "\n",
       "    .dataframe thead th {\n",
       "        text-align: right;\n",
       "    }\n",
       "</style>\n",
       "<table border=\"1\" class=\"dataframe\">\n",
       "  <thead>\n",
       "    <tr style=\"text-align: right;\">\n",
       "      <th></th>\n",
       "      <th></th>\n",
       "      <th>value</th>\n",
       "    </tr>\n",
       "    <tr>\n",
       "      <th>key</th>\n",
       "      <th>time</th>\n",
       "      <th></th>\n",
       "    </tr>\n",
       "  </thead>\n",
       "  <tbody>\n",
       "    <tr>\n",
       "      <th rowspan=\"3\" valign=\"top\">a</th>\n",
       "      <th>2020-08-18 00:00:00</th>\n",
       "      <td>30</td>\n",
       "    </tr>\n",
       "    <tr>\n",
       "      <th>2020-08-18 00:05:00</th>\n",
       "      <td>105</td>\n",
       "    </tr>\n",
       "    <tr>\n",
       "      <th>2020-08-18 00:10:00</th>\n",
       "      <td>180</td>\n",
       "    </tr>\n",
       "    <tr>\n",
       "      <th rowspan=\"3\" valign=\"top\">b</th>\n",
       "      <th>2020-08-18 00:00:00</th>\n",
       "      <td>35</td>\n",
       "    </tr>\n",
       "    <tr>\n",
       "      <th>2020-08-18 00:05:00</th>\n",
       "      <td>110</td>\n",
       "    </tr>\n",
       "    <tr>\n",
       "      <th>2020-08-18 00:10:00</th>\n",
       "      <td>185</td>\n",
       "    </tr>\n",
       "    <tr>\n",
       "      <th rowspan=\"3\" valign=\"top\">c</th>\n",
       "      <th>2020-08-18 00:00:00</th>\n",
       "      <td>40</td>\n",
       "    </tr>\n",
       "    <tr>\n",
       "      <th>2020-08-18 00:05:00</th>\n",
       "      <td>115</td>\n",
       "    </tr>\n",
       "    <tr>\n",
       "      <th>2020-08-18 00:10:00</th>\n",
       "      <td>190</td>\n",
       "    </tr>\n",
       "  </tbody>\n",
       "</table>\n",
       "</div>"
      ],
      "text/plain": [
       "                         value\n",
       "key time                      \n",
       "a   2020-08-18 00:00:00     30\n",
       "    2020-08-18 00:05:00    105\n",
       "    2020-08-18 00:10:00    180\n",
       "b   2020-08-18 00:00:00     35\n",
       "    2020-08-18 00:05:00    110\n",
       "    2020-08-18 00:10:00    185\n",
       "c   2020-08-18 00:00:00     40\n",
       "    2020-08-18 00:05:00    115\n",
       "    2020-08-18 00:10:00    190"
      ]
     },
     "execution_count": 76,
     "metadata": {},
     "output_type": "execute_result"
    }
   ],
   "source": [
    "# 生成数据\n",
    "time = pd.date_range(start='2020-08-18 00:00:00', periods=15, freq='min')\n",
    "df = pd.DataFrame({'key': ['a', 'b', 'c']*15,\n",
    "                   'time': time.repeat(3),\n",
    "                   'value': np.arange(15*3)})\n",
    "df[:15]\n",
    "\n",
    "# 按照key进行分组，然后在组内重采样，然后再聚合\n",
    "time_key = pd.Grouper(key='time', freq='5min')  # 这里的key名要和下面groupby的目标df里的col名保持一致\n",
    "time_key\n",
    "\n",
    "df.groupby(['key', 'time']).sum()\n",
    "df.groupby(['key', time_key]).sum()"
   ]
  },
  {
   "cell_type": "markdown",
   "metadata": {},
   "source": [
    "## 三、方法链技术"
   ]
  },
  {
   "cell_type": "code",
   "execution_count": 79,
   "metadata": {},
   "outputs": [],
   "source": [
    "pass"
   ]
  }
 ],
 "metadata": {
  "kernelspec": {
   "display_name": "Python 3",
   "language": "python",
   "name": "python3"
  },
  "language_info": {
   "codemirror_mode": {
    "name": "ipython",
    "version": 3
   },
   "file_extension": ".py",
   "mimetype": "text/x-python",
   "name": "python",
   "nbconvert_exporter": "python",
   "pygments_lexer": "ipython3",
   "version": "3.7.3"
  }
 },
 "nbformat": 4,
 "nbformat_minor": 2
}
