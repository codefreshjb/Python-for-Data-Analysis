{
 "cells": [
  {
   "cell_type": "code",
   "execution_count": 340,
   "metadata": {},
   "outputs": [],
   "source": [
    "# 开篇导包\n",
    "import pandas as pd\n",
    "import numpy as np\n",
    "import matplotlib.pyplot as plt\n",
    "from datetime import datetime, timedelta\n",
    "\n",
    "# 显示全部结果\n",
    "from IPython.core.interactiveshell import InteractiveShell\n",
    "InteractiveShell.ast_node_interactivity = 'all'"
   ]
  },
  {
   "cell_type": "markdown",
   "metadata": {
    "heading_collapsed": true
   },
   "source": [
    "## 一、创建时间对象"
   ]
  },
  {
   "cell_type": "markdown",
   "metadata": {
    "heading_collapsed": true,
    "hidden": true
   },
   "source": [
    "### （一）创建一个时间点"
   ]
  },
  {
   "cell_type": "markdown",
   "metadata": {
    "heading_collapsed": true,
    "hidden": true
   },
   "source": [
    "#### 1. datetime模块"
   ]
  },
  {
   "cell_type": "code",
   "execution_count": 3,
   "metadata": {
    "hidden": true
   },
   "outputs": [
    {
     "data": {
      "text/plain": [
       "datetime.datetime(2020, 8, 12, 13, 58)"
      ]
     },
     "execution_count": 3,
     "metadata": {},
     "output_type": "execute_result"
    },
    {
     "data": {
      "text/plain": [
       "datetime.datetime(2020, 8, 15, 20, 47, 23, 984331)"
      ]
     },
     "execution_count": 3,
     "metadata": {},
     "output_type": "execute_result"
    },
    {
     "data": {
      "text/plain": [
       "'datetime模块详细了解可以参考官方文档'"
      ]
     },
     "execution_count": 3,
     "metadata": {},
     "output_type": "execute_result"
    }
   ],
   "source": [
    "# 1. datetime(year, month, day[, hour[, minute[, second[, microsecond[,tzinfo]]]]])\n",
    "datetime(2020,8,12,13,58)\n",
    "\n",
    "# 2. datetime.now()\n",
    "datetime.now()\n",
    "\n",
    "'''datetime模块详细了解可以参考官方文档'''"
   ]
  },
  {
   "cell_type": "markdown",
   "metadata": {
    "heading_collapsed": true,
    "hidden": true
   },
   "source": [
    "#### 2. pd.Timestamp()"
   ]
  },
  {
   "cell_type": "markdown",
   "metadata": {
    "hidden": true
   },
   "source": [
    "```python\n",
    "pandas.Timestamp(ts_input=<object object>, freq=None, tz=None, unit=None, year=None, month=None, day=None, hour=None, minute=None, second=None, microsecond=None, nanosecond=None, tzinfo=None, *, fold=None)\n",
    "```\n",
    "\n",
    "**Parameters:**\n",
    "> * **ts_input:** datetime-like, str, int, float\n",
    "    * Value to be converted to Timestamp.\n",
    "> * **freq:** str, DateOffset\n",
    "    * Offset which Timestamp will have.\n",
    "> * **tz:** str, pytz.timezone, dateutil.tz.tzfile or None\n",
    "    * Time zone for time which Timestamp will have.\n",
    "> * **unit:** str\n",
    "    * Unit used for conversion if ts_input is of type int or float. The valid values are ‘D’, ‘h’, ‘m’, ‘s’, ‘ms’, ‘us’, and ‘ns’. For example, ‘s’ means seconds and ‘ms’ means milliseconds.\n",
    "> * **year, month, day** int\n",
    "> * **hour, minute, second, microsecond** int, optional, default 0\n",
    "> * **nanosecond:** int, optional, default 0\n",
    "    * New in version 0.23.0.\n",
    "> * **tzinfo:** datetime.tzinfo, optional, default None\n",
    "> * **fold:** {0, 1}, default None, keyword-only\n",
    "    * Due to daylight saving time, one wall clock time can occur twice when shifting from summer to winter time; fold describes whether the datetime-like corresponds to the first (0) or the second time (1) the wall clock hits the ambiguous time (New in version 1.1.0.)"
   ]
  },
  {
   "cell_type": "code",
   "execution_count": 145,
   "metadata": {
    "hidden": true
   },
   "outputs": [
    {
     "data": {
      "text/plain": [
       "Timestamp('2020-12-31 13:59:00')"
      ]
     },
     "execution_count": 145,
     "metadata": {},
     "output_type": "execute_result"
    }
   ],
   "source": [
    "pd.Timestamp(2020,12,31,13,59)"
   ]
  },
  {
   "cell_type": "markdown",
   "metadata": {
    "heading_collapsed": true,
    "hidden": true
   },
   "source": [
    "#### 3. pd.Period()"
   ]
  },
  {
   "cell_type": "markdown",
   "metadata": {
    "hidden": true
   },
   "source": [
    "```python\n",
    "pandas.Period(value=None, freq=None, ordinal=None, year=None, month=None, quarter=None, day=None, hour=None, minute=None, second=None)\n",
    "```\n",
    "\n",
    "**Parameters:**\n",
    "> * **value:** Period or str, default None\n",
    "    * The time period represented (e.g., ‘4Q2005’).\n",
    "\n",
    "> * **freq:** str, default None\n",
    "    * One of pandas period strings or corresponding objects.\n",
    "\n",
    "> * **ordinal:** int, default None\n",
    "    * The period offset from the gregorian proleptic epoch.\n",
    "\n",
    "> * **year：** int, default None\n",
    "    * Year value of the period.\n",
    "\n",
    "> * **month:** int, default 1\n",
    "    * Month value of the period.\n",
    "\n",
    "> * **quarter:** int, default None\n",
    "    * Quarter value of the period.\n",
    "\n",
    "> * **day:** int, default 1\n",
    "    * Day value of the period.\n",
    "\n",
    "> * **hour:** int, default 0\n",
    "    * Hour value of the period.\n",
    "\n",
    "> * **minute:** int, default 0\n",
    "    * Minute value of the period.\n",
    "\n",
    "> * **second:** int, default 0\n",
    "    * Second value of the period."
   ]
  },
  {
   "cell_type": "code",
   "execution_count": 202,
   "metadata": {
    "hidden": true
   },
   "outputs": [
    {
     "data": {
      "text/plain": [
       "Period('2020-01-31 13:12:34', 'S')"
      ]
     },
     "execution_count": 202,
     "metadata": {},
     "output_type": "execute_result"
    },
    {
     "data": {
      "text/plain": [
       "Period('2020-01-01', 'D')"
      ]
     },
     "execution_count": 202,
     "metadata": {},
     "output_type": "execute_result"
    },
    {
     "data": {
      "text/plain": [
       "Period('2020-01', 'M')"
      ]
     },
     "execution_count": 202,
     "metadata": {},
     "output_type": "execute_result"
    }
   ],
   "source": [
    "pd.Period('2020-01-31 13:12:34')\n",
    "pd.Period('2020-01-01')\n",
    "pd.Period('2020-01')"
   ]
  },
  {
   "cell_type": "markdown",
   "metadata": {
    "heading_collapsed": true,
    "hidden": true
   },
   "source": [
    "### （二）创建时间间隔"
   ]
  },
  {
   "cell_type": "code",
   "execution_count": 225,
   "metadata": {
    "hidden": true
   },
   "outputs": [
    {
     "data": {
      "text/plain": [
       "datetime.timedelta(days=30)"
      ]
     },
     "execution_count": 225,
     "metadata": {},
     "output_type": "execute_result"
    },
    {
     "data": {
      "text/plain": [
       "datetime.datetime(2020, 8, 16, 19, 59, 41, 443217)"
      ]
     },
     "execution_count": 225,
     "metadata": {},
     "output_type": "execute_result"
    },
    {
     "data": {
      "text/plain": [
       "datetime.datetime(2020, 8, 20, 19, 59, 41, 444231)"
      ]
     },
     "execution_count": 225,
     "metadata": {},
     "output_type": "execute_result"
    }
   ],
   "source": [
    "delta = datetime(2020,1,31) - datetime(2020,1,1)\n",
    "delta \n",
    "\n",
    "datetime.now()\n",
    "datetime.now() + 2*timedelta(2)"
   ]
  },
  {
   "cell_type": "markdown",
   "metadata": {
    "heading_collapsed": true,
    "hidden": true
   },
   "source": [
    "### （三）创建一个时间段"
   ]
  },
  {
   "cell_type": "markdown",
   "metadata": {
    "heading_collapsed": true,
    "hidden": true
   },
   "source": [
    "#### 1. pd.date_range()"
   ]
  },
  {
   "cell_type": "markdown",
   "metadata": {
    "hidden": true
   },
   "source": [
    "```python\n",
    "pandas.date_range(start=None, end=None, periods=None, freq=None, tz=None, normalize=False, name=None, closed=None, **kwargs)\n",
    "```\n",
    "\n",
    "**Parameters:**\n",
    "> * **start:** str or datetime-like, optional\n",
    "    * Left bound for generating dates. （时间段左侧）\n",
    "> * **end:** str or datetime-like, optional\n",
    "    * Right bound for generating dates. （时间段右侧）\n",
    "> * **periods:** int, optional\n",
    "    * Number of periods to generate. （产生的时间段里的时间点的个数）\n",
    "> * **freq:** str or DateOffset, default ‘D’ \n",
    "    * Frequency strings can have multiples, e.g. ‘5H’. See [here](https://pandas.pydata.org/pandas-docs/stable/user_guide/timeseries.html#timeseries-offset-aliases) for a list of frequency aliases. （时间间隔的频率）\n",
    "> * **tz:** str or tzinfo, optional\n",
    "    * Time zone name for returning localized DatetimeIndex, for example ‘Asia/Hong_Kong’. By default, the resulting DatetimeIndex is timezone-naive. (时区）\n",
    "> * **normalize:** bool, default False\n",
    "    * Normalize start/end dates to midnight before generating date range. （是否将开始/结束日期标准化为午夜，然后再生成日期范围）\n",
    "> * **name:** str, default None\n",
    "    * Name of the resulting DatetimeIndex. （给返回的Datetimeindex命名）\n",
    "> * **closed:** {None, ‘left’, ‘right’}, optional\n",
    "    * Make the interval closed with respect to the given frequency to the ‘left’, ‘right’, or both sides (None, the default). （使区间相对于给定频率左闭合、右闭合、双向闭合）\n",
    "> * ****kwargs**\n",
    "    * For compatibility. Has no effect on the result.\n",
    "\n",
    "**Returns:**\n",
    ">    * rng: DatetimeIndex"
   ]
  },
  {
   "cell_type": "code",
   "execution_count": 32,
   "metadata": {
    "hidden": true
   },
   "outputs": [
    {
     "data": {
      "text/plain": [
       "DatetimeIndex(['2020-01-01 02:00:00+08:00', '2020-01-01 04:00:00+08:00',\n",
       "               '2020-01-01 06:00:00+08:00', '2020-01-01 08:00:00+08:00',\n",
       "               '2020-01-01 10:00:00+08:00', '2020-01-01 12:00:00+08:00',\n",
       "               '2020-01-01 14:00:00+08:00', '2020-01-01 16:00:00+08:00',\n",
       "               '2020-01-01 18:00:00+08:00', '2020-01-01 20:00:00+08:00',\n",
       "               '2020-01-01 22:00:00+08:00', '2020-01-02 00:00:00+08:00',\n",
       "               '2020-01-02 02:00:00+08:00', '2020-01-02 04:00:00+08:00',\n",
       "               '2020-01-02 06:00:00+08:00', '2020-01-02 08:00:00+08:00',\n",
       "               '2020-01-02 10:00:00+08:00', '2020-01-02 12:00:00+08:00',\n",
       "               '2020-01-02 14:00:00+08:00'],\n",
       "              dtype='datetime64[ns, Asia/Hong_Kong]', name='时间段', freq='2H')"
      ]
     },
     "execution_count": 32,
     "metadata": {},
     "output_type": "execute_result"
    }
   ],
   "source": [
    "pd.date_range(start='2020-01-01', periods=20, freq='2h', tz='Asia/Hong_Kong', normalize=True, name='时间段', closed='right')"
   ]
  },
  {
   "cell_type": "markdown",
   "metadata": {
    "heading_collapsed": true,
    "hidden": true
   },
   "source": [
    "#### 2. pd.bdate_range()"
   ]
  },
  {
   "cell_type": "markdown",
   "metadata": {
    "hidden": true
   },
   "source": [
    "```python\n",
    "pandas.bdate_range(start=None, end=None, periods=None, freq='B', tz=None, normalize=True, name=None, weekmask=None, holidays=None, closed=None, **kwargs)\n",
    "```\n",
    "\n",
    "**Parameters:**\n",
    "> * **start:** str or datetime-like, default None\n",
    "    * Left bound for generating dates.\n",
    "> * **end:** str or datetime-like, default None\n",
    "    * Right bound for generating dates.\n",
    "> * **periods:** int, default None\n",
    "    * Number of periods to generate.\n",
    "> * **freq:** str or DateOffset, default ‘B’ (business daily)\n",
    "    * Frequency strings can have multiples, e.g. ‘5H’.\n",
    "> * **tz:** str or None\n",
    "    * Time zone name for returning localized DatetimeIndex, for example Asia/Beijing.\n",
    "> * **normalize:** bool, default False\n",
    "    * Normalize start/end dates to midnight before generating date range.\n",
    "> * **name:** str, default None\n",
    "    * Name of the resulting DatetimeIndex.\n",
    "> * **weekmask:** str or None, default None\n",
    "    * Weekmask of valid business days, passed to numpy.busdaycalendar, only used when custom frequency strings are passed. The default value None is equivalent to ‘Mon Tue Wed Thu Fri’.\n",
    "> * **holidays:** list-like or None, default None\n",
    "    * Dates to exclude from the set of valid business days, passed to numpy.busdaycalendar, only used when custom frequency strings are passed.\n",
    "> * **closed:** str, default None\n",
    "    * Make the interval closed with respect to the given frequency to the ‘left’, ‘right’, or both sides (None).\n",
    "> * ****kwargs**\n",
    "    * For compatibility. Has no effect on the result.\n",
    "    \n",
    "**Returns:**\n",
    "> * DatetimeIndex"
   ]
  },
  {
   "cell_type": "code",
   "execution_count": 42,
   "metadata": {
    "hidden": true
   },
   "outputs": [
    {
     "data": {
      "text/plain": [
       "DatetimeIndex(['2020-01-01 02:00:00+08:00', '2020-01-01 04:00:00+08:00',\n",
       "               '2020-01-01 06:00:00+08:00', '2020-01-01 08:00:00+08:00',\n",
       "               '2020-01-01 10:00:00+08:00', '2020-01-01 12:00:00+08:00',\n",
       "               '2020-01-01 14:00:00+08:00', '2020-01-01 16:00:00+08:00',\n",
       "               '2020-01-01 18:00:00+08:00', '2020-01-01 20:00:00+08:00',\n",
       "               '2020-01-01 22:00:00+08:00', '2020-01-02 00:00:00+08:00',\n",
       "               '2020-01-02 02:00:00+08:00', '2020-01-02 04:00:00+08:00',\n",
       "               '2020-01-02 06:00:00+08:00', '2020-01-02 08:00:00+08:00',\n",
       "               '2020-01-02 10:00:00+08:00', '2020-01-02 12:00:00+08:00',\n",
       "               '2020-01-02 14:00:00+08:00'],\n",
       "              dtype='datetime64[ns, Asia/Hong_Kong]', name='时间段', freq='2H')"
      ]
     },
     "execution_count": 42,
     "metadata": {},
     "output_type": "execute_result"
    }
   ],
   "source": [
    "# 类似pd.date_range()\n",
    "pd.bdate_range(start='2020-01-01', periods=20, freq='2h', tz='Asia/Hong_Kong', normalize=True, name='时间段', closed='right')"
   ]
  },
  {
   "cell_type": "markdown",
   "metadata": {
    "heading_collapsed": true,
    "hidden": true
   },
   "source": [
    "#### 3. pd.Period_range()"
   ]
  },
  {
   "cell_type": "markdown",
   "metadata": {
    "hidden": true
   },
   "source": [
    "```python\n",
    "pandas.period_range(start=None, end=None, periods=None, freq=None, name=None)\n",
    "```\n",
    "\n",
    "**Parameters:**\n",
    "> * **start:** str or period-like, default None\n",
    "    * Left bound for generating periods.\n",
    "> * **end:** str or period-like, default None\n",
    "    * Right bound for generating periods.\n",
    "> * **periods:** int, default None\n",
    "    * Number of periods to generate.\n",
    "> * **freq:** str or DateOffset, optional\n",
    "    * Frequency alias. By default the freq is taken from start or end if those are Period objects. Otherwise, the default is \"D\" for daily frequency.\n",
    "> * **name:** str, default None\n",
    "    * Name of the resulting PeriodIndex.\n",
    "\n",
    "**Returns:**\n",
    "> * PeriodIndex"
   ]
  },
  {
   "cell_type": "code",
   "execution_count": 25,
   "metadata": {
    "hidden": true
   },
   "outputs": [
    {
     "data": {
      "text/plain": [
       "PeriodIndex(['2020-01', '2020-02', '2020-03', '2020-04', '2020-05', '2020-06',\n",
       "             '2020-07', '2020-08', '2020-09', '2020-10'],\n",
       "            dtype='period[M]', freq='M')"
      ]
     },
     "execution_count": 25,
     "metadata": {},
     "output_type": "execute_result"
    }
   ],
   "source": [
    "pd.period_range(start='2020-01-01', periods=10, freq='M')"
   ]
  },
  {
   "cell_type": "markdown",
   "metadata": {
    "heading_collapsed": true,
    "hidden": true
   },
   "source": [
    "### （四）创建以时间为索引的Series 或者 DataFrame"
   ]
  },
  {
   "cell_type": "code",
   "execution_count": 47,
   "metadata": {
    "hidden": true
   },
   "outputs": [
    {
     "data": {
      "text/plain": [
       "DatetimeIndex(['2020-01-01', '2020-02-02', '2020-03-03'], dtype='datetime64[ns]', freq=None)"
      ]
     },
     "execution_count": 47,
     "metadata": {},
     "output_type": "execute_result"
    },
    {
     "data": {
      "text/plain": [
       "2020-01-01    0\n",
       "2020-02-02    1\n",
       "2020-03-03    2\n",
       "dtype: int64"
      ]
     },
     "execution_count": 47,
     "metadata": {},
     "output_type": "execute_result"
    }
   ],
   "source": [
    "# 1\n",
    "date_index = ['2020-01-01', '2020-02-02', '2020-03-03']\n",
    "pd.to_datetime(date_index)\n",
    "\n",
    "date_series =  pd.Series(range(len(date_index)), index=date_index)\n",
    "date_series"
   ]
  },
  {
   "cell_type": "code",
   "execution_count": 149,
   "metadata": {
    "hidden": true
   },
   "outputs": [
    {
     "data": {
      "text/plain": [
       "DatetimeIndex(['2020-01-01 00:00:00', '2020-01-01 01:00:00',\n",
       "               '2020-01-01 02:00:00', '2020-01-01 03:00:00',\n",
       "               '2020-01-01 04:00:00', '2020-01-01 05:00:00',\n",
       "               '2020-01-01 06:00:00', '2020-01-01 07:00:00',\n",
       "               '2020-01-01 08:00:00', '2020-01-01 09:00:00'],\n",
       "              dtype='datetime64[ns]', freq='H')"
      ]
     },
     "execution_count": 149,
     "metadata": {},
     "output_type": "execute_result"
    },
    {
     "data": {
      "text/plain": [
       "2020-01-01 00:00:00    0\n",
       "2020-01-01 01:00:00    1\n",
       "2020-01-01 02:00:00    2\n",
       "2020-01-01 03:00:00    3\n",
       "2020-01-01 04:00:00    4\n",
       "2020-01-01 05:00:00    5\n",
       "2020-01-01 06:00:00    6\n",
       "2020-01-01 07:00:00    7\n",
       "2020-01-01 08:00:00    8\n",
       "2020-01-01 09:00:00    9\n",
       "Freq: H, dtype: int64"
      ]
     },
     "execution_count": 149,
     "metadata": {},
     "output_type": "execute_result"
    }
   ],
   "source": [
    "# 2\n",
    "date_index = pd.date_range(start='2020-01-01', periods=10, freq='1h')\n",
    "date_index\n",
    "\n",
    "date_series = pd.Series(range(len(date_index)), index=date_index)\n",
    "date_series"
   ]
  },
  {
   "cell_type": "markdown",
   "metadata": {
    "heading_collapsed": true,
    "hidden": true
   },
   "source": [
    "### （五）创建时间索引"
   ]
  },
  {
   "cell_type": "markdown",
   "metadata": {
    "heading_collapsed": true,
    "hidden": true
   },
   "source": [
    "#### 1. pd.DatetimeIndex()"
   ]
  },
  {
   "cell_type": "markdown",
   "metadata": {
    "hidden": true
   },
   "source": [
    "```python\n",
    "pandas.DatetimeIndex(data=None, freq=<object object>, tz=None, normalize=False, closed=None, ambiguous='raise', dayfirst=False, yearfirst=False, dtype=None, copy=False, name=None)\n",
    "```\n",
    "\n",
    "**Parameters:**\n",
    "> * **data:** array-like (1-dimensional), optional\n",
    "    * Optional datetime-like data to construct index with.\n",
    "\n",
    "> * **freq:** str or pandas offset object, optional\n",
    "    * One of pandas date offset strings or corresponding objects. The string ‘infer’ can be passed in order to set the frequency of the index as the inferred frequency upon creation.\n",
    "\n",
    "> * **tz:** pytz.timezone or dateutil.tz.tzfile or datetime.tzinfo or str\n",
    "    * Set the Timezone of the data.\n",
    "\n",
    "> * **normalize:** bool, default False\n",
    "    * Normalize start/end dates to midnight before generating date range.\n",
    "\n",
    "> * **closed:** {‘left’, ‘right’}, optional\n",
    "    * Set whether to include start and end that are on the boundary. The default includes boundary points on either end.\n",
    "\n",
    "> * **ambiguous:** ‘infer’, bool-ndarray, ‘NaT’, default ‘raise’\n",
    "    > * When clocks moved backward due to DST, ambiguous times may arise. For example in Central European Time (UTC+01), when going from 03:00 DST to 02:00 non-DST, 02:30:00 local time occurs both at 00:30:00 UTC and at 01:30:00 UTC. In such a situation, the ambiguous parameter dictates how ambiguous times should be handled.\n",
    "    * ‘infer’ will attempt to infer fall dst-transition hours based on order\n",
    "    * bool-ndarray where True signifies a DST time, False signifies a non-DST time (note that this flag is only applicable for ambiguous times)\n",
    "    * ‘NaT’ will return NaT where there are ambiguous times\n",
    "    * ‘raise’ will raise an AmbiguousTimeError if there are ambiguous times.\n",
    "\n",
    "> * **dayfirst:** bool, default False\n",
    "    * If True, parse dates in data with the day first order.\n",
    "\n",
    "> * **yearfirst:** bool, default False\n",
    "    * If True parse dates in data with the year first order.\n",
    "\n",
    "> * **dtype:** numpy.dtype or DatetimeTZDtype or str, default None\n",
    "    * Note that the only NumPy dtype allowed is ‘datetime64[ns]’.\n",
    "\n",
    "> * **copy:** bool, default False\n",
    "    * Make a copy of input ndarray.\n",
    "\n",
    "> * **name:** label, default None\n",
    "    * Name to be stored in the index."
   ]
  },
  {
   "cell_type": "code",
   "execution_count": 163,
   "metadata": {
    "hidden": true
   },
   "outputs": [
    {
     "data": {
      "text/plain": [
       "DatetimeIndex(['2020-01-01', '2020-02-01', '2020-03-01'], dtype='datetime64[ns]', freq='MS')"
      ]
     },
     "execution_count": 163,
     "metadata": {},
     "output_type": "execute_result"
    }
   ],
   "source": [
    "data = ['2020-01', '2020-02', '2020-03']\n",
    "pd.DatetimeIndex(data, freq='infer')  # freq=infer 推测data的频率"
   ]
  },
  {
   "cell_type": "markdown",
   "metadata": {
    "heading_collapsed": true,
    "hidden": true
   },
   "source": [
    "#### 2. pd.PeriodIndex()"
   ]
  },
  {
   "cell_type": "markdown",
   "metadata": {
    "hidden": true
   },
   "source": [
    "```python\n",
    " pandas.PeriodIndex(data=None, ordinal=None, freq=None, tz=None, dtype=None, copy=False, name=None, **fields)\n",
    "```\n",
    "\n",
    "**Parameters:**\n",
    "> * **data:** array-like (1d int np.ndarray or PeriodArray), optional\n",
    "    * Optional period-like data to construct index with.\n",
    "\n",
    "> * **copy:** bool\n",
    "    * Make a copy of input ndarray.\n",
    "\n",
    "> * **freq:** str or period object, optional\n",
    "    * One of pandas period strings or corresponding objects.\n",
    "\n",
    "> * **year:** int, array, or Series, default None\n",
    "> * **month:** int, array, or Series, default None\n",
    "> * **quarter:** int, array, or Series, default None\n",
    "> * **day:** int, array, or Series, default None\n",
    "> * **hour:** int, array, or Series, default None\n",
    "> * **minute:** int, array, or Series, default None\n",
    "> * **second:** int, array, or Series, default None\n",
    "> * **tz:** object, default None\n",
    "    * Timezone for converting datetime64 data to Periods.\n",
    "\n",
    "> * **dtype:** str or PeriodDtype, default None"
   ]
  },
  {
   "cell_type": "code",
   "execution_count": 196,
   "metadata": {
    "hidden": true
   },
   "outputs": [
    {
     "data": {
      "text/plain": [
       "PeriodIndex(['2020Q1', '2020Q2', '2020Q3'], dtype='period[Q-DEC]', freq='Q-DEC')"
      ]
     },
     "execution_count": 196,
     "metadata": {},
     "output_type": "execute_result"
    }
   ],
   "source": [
    "# 1\n",
    "data = ['2020Q1', '2020Q2', '2020Q3']\n",
    "pd.PeriodIndex(data, freq='Q')"
   ]
  },
  {
   "cell_type": "code",
   "execution_count": 201,
   "metadata": {
    "hidden": true
   },
   "outputs": [
    {
     "data": {
      "text/html": [
       "<div>\n",
       "<style scoped>\n",
       "    .dataframe tbody tr th:only-of-type {\n",
       "        vertical-align: middle;\n",
       "    }\n",
       "\n",
       "    .dataframe tbody tr th {\n",
       "        vertical-align: top;\n",
       "    }\n",
       "\n",
       "    .dataframe thead th {\n",
       "        text-align: right;\n",
       "    }\n",
       "</style>\n",
       "<table border=\"1\" class=\"dataframe\">\n",
       "  <thead>\n",
       "    <tr style=\"text-align: right;\">\n",
       "      <th></th>\n",
       "      <th>year</th>\n",
       "      <th>quarter</th>\n",
       "      <th>realgdp</th>\n",
       "      <th>realcons</th>\n",
       "      <th>realinv</th>\n",
       "      <th>realgovt</th>\n",
       "      <th>realdpi</th>\n",
       "      <th>cpi</th>\n",
       "      <th>m1</th>\n",
       "      <th>tbilrate</th>\n",
       "      <th>unemp</th>\n",
       "      <th>pop</th>\n",
       "      <th>infl</th>\n",
       "      <th>realint</th>\n",
       "    </tr>\n",
       "  </thead>\n",
       "  <tbody>\n",
       "    <tr>\n",
       "      <th>0</th>\n",
       "      <td>1959.0</td>\n",
       "      <td>1.0</td>\n",
       "      <td>2710.349</td>\n",
       "      <td>1707.4</td>\n",
       "      <td>286.898</td>\n",
       "      <td>470.045</td>\n",
       "      <td>1886.9</td>\n",
       "      <td>28.98</td>\n",
       "      <td>139.7</td>\n",
       "      <td>2.82</td>\n",
       "      <td>5.8</td>\n",
       "      <td>177.146</td>\n",
       "      <td>0.00</td>\n",
       "      <td>0.00</td>\n",
       "    </tr>\n",
       "    <tr>\n",
       "      <th>1</th>\n",
       "      <td>1959.0</td>\n",
       "      <td>2.0</td>\n",
       "      <td>2778.801</td>\n",
       "      <td>1733.7</td>\n",
       "      <td>310.859</td>\n",
       "      <td>481.301</td>\n",
       "      <td>1919.7</td>\n",
       "      <td>29.15</td>\n",
       "      <td>141.7</td>\n",
       "      <td>3.08</td>\n",
       "      <td>5.1</td>\n",
       "      <td>177.830</td>\n",
       "      <td>2.34</td>\n",
       "      <td>0.74</td>\n",
       "    </tr>\n",
       "    <tr>\n",
       "      <th>2</th>\n",
       "      <td>1959.0</td>\n",
       "      <td>3.0</td>\n",
       "      <td>2775.488</td>\n",
       "      <td>1751.8</td>\n",
       "      <td>289.226</td>\n",
       "      <td>491.260</td>\n",
       "      <td>1916.4</td>\n",
       "      <td>29.35</td>\n",
       "      <td>140.5</td>\n",
       "      <td>3.82</td>\n",
       "      <td>5.3</td>\n",
       "      <td>178.657</td>\n",
       "      <td>2.74</td>\n",
       "      <td>1.09</td>\n",
       "    </tr>\n",
       "    <tr>\n",
       "      <th>3</th>\n",
       "      <td>1959.0</td>\n",
       "      <td>4.0</td>\n",
       "      <td>2785.204</td>\n",
       "      <td>1753.7</td>\n",
       "      <td>299.356</td>\n",
       "      <td>484.052</td>\n",
       "      <td>1931.3</td>\n",
       "      <td>29.37</td>\n",
       "      <td>140.0</td>\n",
       "      <td>4.33</td>\n",
       "      <td>5.6</td>\n",
       "      <td>179.386</td>\n",
       "      <td>0.27</td>\n",
       "      <td>4.06</td>\n",
       "    </tr>\n",
       "    <tr>\n",
       "      <th>4</th>\n",
       "      <td>1960.0</td>\n",
       "      <td>1.0</td>\n",
       "      <td>2847.699</td>\n",
       "      <td>1770.5</td>\n",
       "      <td>331.722</td>\n",
       "      <td>462.199</td>\n",
       "      <td>1955.5</td>\n",
       "      <td>29.54</td>\n",
       "      <td>139.6</td>\n",
       "      <td>3.50</td>\n",
       "      <td>5.2</td>\n",
       "      <td>180.007</td>\n",
       "      <td>2.31</td>\n",
       "      <td>1.19</td>\n",
       "    </tr>\n",
       "  </tbody>\n",
       "</table>\n",
       "</div>"
      ],
      "text/plain": [
       "     year  quarter   realgdp  realcons  realinv  realgovt  realdpi    cpi  \\\n",
       "0  1959.0      1.0  2710.349    1707.4  286.898   470.045   1886.9  28.98   \n",
       "1  1959.0      2.0  2778.801    1733.7  310.859   481.301   1919.7  29.15   \n",
       "2  1959.0      3.0  2775.488    1751.8  289.226   491.260   1916.4  29.35   \n",
       "3  1959.0      4.0  2785.204    1753.7  299.356   484.052   1931.3  29.37   \n",
       "4  1960.0      1.0  2847.699    1770.5  331.722   462.199   1955.5  29.54   \n",
       "\n",
       "      m1  tbilrate  unemp      pop  infl  realint  \n",
       "0  139.7      2.82    5.8  177.146  0.00     0.00  \n",
       "1  141.7      3.08    5.1  177.830  2.34     0.74  \n",
       "2  140.5      3.82    5.3  178.657  2.74     1.09  \n",
       "3  140.0      4.33    5.6  179.386  0.27     4.06  \n",
       "4  139.6      3.50    5.2  180.007  2.31     1.19  "
      ]
     },
     "execution_count": 201,
     "metadata": {},
     "output_type": "execute_result"
    },
    {
     "data": {
      "text/plain": [
       "PeriodIndex(['1959Q1', '1959Q2', '1959Q3', '1959Q4', '1960Q1', '1960Q2',\n",
       "             '1960Q3', '1960Q4', '1961Q1', '1961Q2'],\n",
       "            dtype='period[Q-DEC]', freq='Q-DEC')"
      ]
     },
     "execution_count": 201,
     "metadata": {},
     "output_type": "execute_result"
    }
   ],
   "source": [
    "# 2\n",
    "data = pd.read_csv('.\\\\data_for_book\\\\chapter_11\\\\macrodata.csv')\n",
    "data.head()\n",
    "\n",
    "pd.PeriodIndex(year=data.year, quarter=data.quarter)[:10]"
   ]
  },
  {
   "cell_type": "markdown",
   "metadata": {
    "heading_collapsed": true
   },
   "source": [
    "## 二、时间转换"
   ]
  },
  {
   "cell_type": "markdown",
   "metadata": {
    "heading_collapsed": true,
    "hidden": true
   },
   "source": [
    "### （一）时间转换成文本"
   ]
  },
  {
   "cell_type": "code",
   "execution_count": 56,
   "metadata": {
    "hidden": true
   },
   "outputs": [
    {
     "data": {
      "text/plain": [
       "Timestamp('2020-01-01 00:00:00')"
      ]
     },
     "execution_count": 56,
     "metadata": {},
     "output_type": "execute_result"
    },
    {
     "data": {
      "text/plain": [
       "'2020-01-01 00:00:00'"
      ]
     },
     "execution_count": 56,
     "metadata": {},
     "output_type": "execute_result"
    }
   ],
   "source": [
    "# 1\n",
    "date = pd.Timestamp('2020-01-01')\n",
    "date\n",
    "\n",
    "str_date = str(date)\n",
    "str_date"
   ]
  },
  {
   "cell_type": "code",
   "execution_count": 66,
   "metadata": {
    "hidden": true
   },
   "outputs": [
    {
     "data": {
      "text/plain": [
       "Timestamp('2020-01-01 00:00:00')"
      ]
     },
     "execution_count": 66,
     "metadata": {},
     "output_type": "execute_result"
    },
    {
     "data": {
      "text/plain": [
       "'2020-01-01'"
      ]
     },
     "execution_count": 66,
     "metadata": {},
     "output_type": "execute_result"
    }
   ],
   "source": [
    "# 2\n",
    "date = pd.Timestamp('2020-01-01')\n",
    "date\n",
    "\n",
    "date.strftime('%Y-%m-%d')"
   ]
  },
  {
   "cell_type": "markdown",
   "metadata": {
    "heading_collapsed": true,
    "hidden": true
   },
   "source": [
    "### （二）文本转换成时间"
   ]
  },
  {
   "cell_type": "markdown",
   "metadata": {
    "hidden": true
   },
   "source": [
    "#### 1. datetime.strptime()  已知格式"
   ]
  },
  {
   "cell_type": "code",
   "execution_count": 71,
   "metadata": {
    "hidden": true
   },
   "outputs": [
    {
     "data": {
      "text/plain": [
       "datetime.datetime(2020, 1, 1, 8, 7, 55)"
      ]
     },
     "execution_count": 71,
     "metadata": {},
     "output_type": "execute_result"
    }
   ],
   "source": [
    "# 1\n",
    "str_date = '2020-01-01 08:07:55'\n",
    "datetime.strptime(str_date, '%Y-%m-%d %H:%M:%S')"
   ]
  },
  {
   "cell_type": "code",
   "execution_count": 73,
   "metadata": {
    "hidden": true
   },
   "outputs": [
    {
     "data": {
      "text/plain": [
       "[datetime.datetime(2020, 1, 1, 8, 7, 55),\n",
       " datetime.datetime(2020, 1, 1, 8, 7, 59)]"
      ]
     },
     "execution_count": 73,
     "metadata": {},
     "output_type": "execute_result"
    }
   ],
   "source": [
    "# 2\n",
    "str_date = ['2020-01-01 08:07:55', '2020-01-01 08:07:59']\n",
    "[datetime.strptime(x, '%Y-%m-%d %H:%M:%S') for x in str_date]"
   ]
  },
  {
   "cell_type": "markdown",
   "metadata": {
    "hidden": true
   },
   "source": [
    "#### 2. parse()  不需要知道具体格式"
   ]
  },
  {
   "cell_type": "code",
   "execution_count": 77,
   "metadata": {
    "hidden": true
   },
   "outputs": [
    {
     "data": {
      "text/plain": [
       "datetime.datetime(2020, 1, 31, 22, 45)"
      ]
     },
     "execution_count": 77,
     "metadata": {},
     "output_type": "execute_result"
    },
    {
     "data": {
      "text/plain": [
       "datetime.datetime(2020, 1, 31, 0, 0)"
      ]
     },
     "execution_count": 77,
     "metadata": {},
     "output_type": "execute_result"
    }
   ],
   "source": [
    "from dateutil.parser import parse\n",
    "\n",
    "parse('Jan 31, 2020 10:45 PM')\n",
    "parse('31/01/2020')"
   ]
  },
  {
   "cell_type": "markdown",
   "metadata": {
    "hidden": true
   },
   "source": [
    "#### 3. pd.to_datetime()"
   ]
  },
  {
   "cell_type": "markdown",
   "metadata": {
    "hidden": true
   },
   "source": [
    "**参考：** https://pandas.pydata.org/pandas-docs/stable/reference/api/pandas.to_datetime.html"
   ]
  },
  {
   "cell_type": "code",
   "execution_count": 171,
   "metadata": {
    "hidden": true
   },
   "outputs": [
    {
     "data": {
      "text/plain": [
       "['2020-01-01 08:07:55', '2020-01-01 08:07:59']"
      ]
     },
     "execution_count": 171,
     "metadata": {},
     "output_type": "execute_result"
    },
    {
     "data": {
      "text/plain": [
       "DatetimeIndex(['2020-01-01 08:07:55', '2020-01-01 08:07:59'], dtype='datetime64[ns]', freq=None)"
      ]
     },
     "execution_count": 171,
     "metadata": {},
     "output_type": "execute_result"
    },
    {
     "data": {
      "text/plain": [
       "DatetimeIndex(['2020-01-01 08:07:55', '2020-01-01 08:07:59', 'NaT'], dtype='datetime64[ns]', freq=None)"
      ]
     },
     "execution_count": 171,
     "metadata": {},
     "output_type": "execute_result"
    }
   ],
   "source": [
    "str_date_list = ['2020-01-01 08:07:55', '2020-01-01 08:07:59']\n",
    "str_date_list\n",
    "\n",
    "pd.to_datetime(str_date_list)\n",
    "pd.to_datetime(str_date_list + [None])"
   ]
  },
  {
   "cell_type": "markdown",
   "metadata": {
    "hidden": true
   },
   "source": [
    "### （三）timestamp、period之间的相互转换"
   ]
  },
  {
   "cell_type": "markdown",
   "metadata": {
    "hidden": true
   },
   "source": [
    "#### 1. timestamp.to_period()      < timestamp ——> period >"
   ]
  },
  {
   "cell_type": "code",
   "execution_count": 190,
   "metadata": {
    "hidden": true
   },
   "outputs": [
    {
     "data": {
      "text/plain": [
       "DatetimeIndex(['2020-01-01 12:00:00', '2020-01-11 12:00:00',\n",
       "               '2020-01-21 12:00:00', '2020-01-31 12:00:00',\n",
       "               '2020-02-10 12:00:00', '2020-02-20 12:00:00',\n",
       "               '2020-03-01 12:00:00', '2020-03-11 12:00:00',\n",
       "               '2020-03-21 12:00:00', '2020-03-31 12:00:00'],\n",
       "              dtype='datetime64[ns]', freq='10D')"
      ]
     },
     "execution_count": 190,
     "metadata": {},
     "output_type": "execute_result"
    },
    {
     "data": {
      "text/plain": [
       "PeriodIndex(['2020-01-01', '2020-01-11', '2020-01-21', '2020-01-31',\n",
       "             '2020-02-10', '2020-02-20', '2020-03-01', '2020-03-11',\n",
       "             '2020-03-21', '2020-03-31'],\n",
       "            dtype='period[D]', freq='D')"
      ]
     },
     "execution_count": 190,
     "metadata": {},
     "output_type": "execute_result"
    },
    {
     "data": {
      "text/plain": [
       "PeriodIndex(['2020-01', '2020-01', '2020-01', '2020-01', '2020-02', '2020-02',\n",
       "             '2020-03', '2020-03', '2020-03', '2020-03'],\n",
       "            dtype='period[M]', freq='M')"
      ]
     },
     "execution_count": 190,
     "metadata": {},
     "output_type": "execute_result"
    }
   ],
   "source": [
    "timestamp = pd.date_range(start='2020-01-01 12:00:00', periods=10, freq='10d')\n",
    "timestamp\n",
    "\n",
    "timestamp.to_period('D')\n",
    "timestamp.to_period('M')"
   ]
  },
  {
   "cell_type": "markdown",
   "metadata": {
    "hidden": true
   },
   "source": [
    "#### 2. period.to_timestamp()  < period ——> timestamp >"
   ]
  },
  {
   "cell_type": "markdown",
   "metadata": {
    "hidden": true
   },
   "source": [
    "```python\n",
    "Period.to_timestamp()\n",
    "```\n",
    "**Parameters:**\n",
    "> * **freq:** str or DateOffset\n",
    "    * Target frequency. Default is ‘D’ if self.freq is week or longer and ‘S’ otherwise.\n",
    "\n",
    "> * **how:** str, default ‘S’ (start)\n",
    "    * One of ‘S’, ‘E’. Can be aliased as case insensitive ‘Start’, ‘Finish’, ‘Begin’, ‘End’.\n",
    "\n",
    "**Returns:**\n",
    "> * Timestamp"
   ]
  },
  {
   "cell_type": "code",
   "execution_count": 195,
   "metadata": {
    "hidden": true
   },
   "outputs": [
    {
     "data": {
      "text/plain": [
       "PeriodIndex(['2020-01', '2020-02', '2020-03', '2020-04', '2020-05', '2020-06',\n",
       "             '2020-07', '2020-08', '2020-09', '2020-10'],\n",
       "            dtype='period[M]', freq='M')"
      ]
     },
     "execution_count": 195,
     "metadata": {},
     "output_type": "execute_result"
    },
    {
     "data": {
      "text/plain": [
       "DatetimeIndex(['2020-01-31 23:59:59.999999999',\n",
       "               '2020-02-29 23:59:59.999999999',\n",
       "               '2020-03-31 23:59:59.999999999',\n",
       "               '2020-04-30 23:59:59.999999999',\n",
       "               '2020-05-31 23:59:59.999999999',\n",
       "               '2020-06-30 23:59:59.999999999',\n",
       "               '2020-07-31 23:59:59.999999999',\n",
       "               '2020-08-31 23:59:59.999999999',\n",
       "               '2020-09-30 23:59:59.999999999',\n",
       "               '2020-10-31 23:59:59.999999999'],\n",
       "              dtype='datetime64[ns]', freq=None)"
      ]
     },
     "execution_count": 195,
     "metadata": {},
     "output_type": "execute_result"
    }
   ],
   "source": [
    "period = pd.period_range(start='2020-01-01', periods=10, freq='M')\n",
    "period\n",
    "\n",
    "period.to_timestamp(freq='D', how='E')"
   ]
  },
  {
   "cell_type": "markdown",
   "metadata": {
    "heading_collapsed": true
   },
   "source": [
    "## 三、索引与切片"
   ]
  },
  {
   "cell_type": "code",
   "execution_count": 25,
   "metadata": {
    "hidden": true
   },
   "outputs": [
    {
     "data": {
      "text/plain": [
       "PeriodIndex(['2020-01-01', '2020-01-04', '2020-01-07', '2020-01-10',\n",
       "             '2020-01-13', '2020-01-16', '2020-01-19', '2020-01-22',\n",
       "             '2020-01-25', '2020-01-28', '2020-01-31'],\n",
       "            dtype='period[3D]', freq='3D')"
      ]
     },
     "execution_count": 25,
     "metadata": {},
     "output_type": "execute_result"
    },
    {
     "data": {
      "text/plain": [
       "2020-01-01   -1.528057\n",
       "2020-01-04   -0.896449\n",
       "2020-01-07    1.127672\n",
       "2020-01-10    0.723355\n",
       "2020-01-13   -0.007153\n",
       "2020-01-16    1.716142\n",
       "2020-01-19    0.629378\n",
       "2020-01-22   -0.009486\n",
       "2020-01-25   -1.887332\n",
       "2020-01-28   -0.620787\n",
       "2020-01-31   -0.779772\n",
       "Freq: 3D, dtype: float64"
      ]
     },
     "execution_count": 25,
     "metadata": {},
     "output_type": "execute_result"
    }
   ],
   "source": [
    "# 生成一个TimeSeries\n",
    "time_index = pd.period_range(start='2020-01-01', end='2020-01-31', freq='3d')\n",
    "time_index\n",
    "\n",
    "time_series = pd.Series(np.random.randn(len(time_index)), index=time_index)\n",
    "time_series"
   ]
  },
  {
   "cell_type": "markdown",
   "metadata": {
    "heading_collapsed": true,
    "hidden": true
   },
   "source": [
    "### （一）基于标签号索引"
   ]
  },
  {
   "cell_type": "code",
   "execution_count": 28,
   "metadata": {
    "hidden": true
   },
   "outputs": [
    {
     "data": {
      "text/plain": [
       "1.127672400351315"
      ]
     },
     "execution_count": 28,
     "metadata": {},
     "output_type": "execute_result"
    },
    {
     "data": {
      "text/plain": [
       "2020-01-07    1.127672\n",
       "Freq: 3D, dtype: float64"
      ]
     },
     "execution_count": 28,
     "metadata": {},
     "output_type": "execute_result"
    },
    {
     "data": {
      "text/plain": [
       "2020-01-07    1.127672\n",
       "2020-01-10    0.723355\n",
       "Freq: 3D, dtype: float64"
      ]
     },
     "execution_count": 28,
     "metadata": {},
     "output_type": "execute_result"
    }
   ],
   "source": [
    "time_series[2]\n",
    "time_series[2:3]\n",
    "time_series[2:4]"
   ]
  },
  {
   "cell_type": "markdown",
   "metadata": {
    "hidden": true
   },
   "source": [
    "### （二）基于时间字符串索引"
   ]
  },
  {
   "cell_type": "code",
   "execution_count": 27,
   "metadata": {
    "hidden": true
   },
   "outputs": [
    {
     "data": {
      "text/plain": [
       "-0.8964488808715383"
      ]
     },
     "execution_count": 27,
     "metadata": {},
     "output_type": "execute_result"
    },
    {
     "data": {
      "text/plain": [
       "2020-01-04   -0.896449\n",
       "2020-01-07    1.127672\n",
       "2020-01-10    0.723355\n",
       "Freq: 3D, dtype: float64"
      ]
     },
     "execution_count": 27,
     "metadata": {},
     "output_type": "execute_result"
    },
    {
     "data": {
      "text/plain": [
       "2020-01-01   -1.528057\n",
       "2020-01-04   -0.896449\n",
       "2020-01-07    1.127672\n",
       "2020-01-10    0.723355\n",
       "2020-01-13   -0.007153\n",
       "2020-01-16    1.716142\n",
       "2020-01-19    0.629378\n",
       "2020-01-22   -0.009486\n",
       "2020-01-25   -1.887332\n",
       "2020-01-28   -0.620787\n",
       "2020-01-31   -0.779772\n",
       "Freq: 3D, dtype: float64"
      ]
     },
     "execution_count": 27,
     "metadata": {},
     "output_type": "execute_result"
    },
    {
     "data": {
      "text/plain": [
       "2020-01-07    1.127672\n",
       "2020-01-10    0.723355\n",
       "2020-01-13   -0.007153\n",
       "Freq: 3D, dtype: float64"
      ]
     },
     "execution_count": 27,
     "metadata": {},
     "output_type": "execute_result"
    }
   ],
   "source": [
    "time_series['2020-01-04']\n",
    "time_series['2020-01-04': '2020-01-10']\n",
    "time_series['2020-01']  ## 可以选取所有的2020-01的时间\n",
    "time_series['2020-01-05': '2020-01-14']  ## 也可以不用在序列里出现的时间戳进行索引，同样能显示到两个时间点之间的时间"
   ]
  },
  {
   "cell_type": "markdown",
   "metadata": {
    "hidden": true
   },
   "source": [
    "### （三）truncate()"
   ]
  },
  {
   "cell_type": "markdown",
   "metadata": {
    "hidden": true
   },
   "source": [
    "```python\n",
    "Series.truncate(before=None, after=None, axis=None, copy=True)\n",
    "```\n",
    "\n",
    "**Parameters:**\n",
    "> * **before:** date, str, int\n",
    "    * Truncate all rows before this index value.\n",
    "\n",
    "> * **after:** date, str, int\n",
    "    * Truncate all rows after this index value.\n",
    "\n",
    "> * **axis:** {0 or ‘index’, 1 or ‘columns’}, optional\n",
    "    * Axis to truncate. Truncates the index (rows) by default.\n",
    "\n",
    "> * **copy:** bool, default is True,\n",
    "    * Return a copy of the truncated section.\n",
    "\n",
    "**Returns:** type of caller\n",
    "> * The truncated Series or DataFrame."
   ]
  },
  {
   "cell_type": "code",
   "execution_count": 93,
   "metadata": {
    "hidden": true
   },
   "outputs": [
    {
     "data": {
      "text/plain": [
       "2020-01-31   -3.222076\n",
       "2020-02-29   -0.464578\n",
       "2020-03-31    0.647419\n",
       "2020-04-30   -2.080920\n",
       "2020-05-31   -0.661116\n",
       "2020-06-30    0.308991\n",
       "2020-07-31    1.156110\n",
       "2020-08-31   -1.117675\n",
       "2020-09-30    1.583798\n",
       "2020-10-31    0.898425\n",
       "2020-11-30    0.439646\n",
       "2020-12-31    2.445998\n",
       "Freq: M, dtype: float64"
      ]
     },
     "execution_count": 93,
     "metadata": {},
     "output_type": "execute_result"
    },
    {
     "data": {
      "text/plain": [
       "Series([], Freq: M, dtype: float64)"
      ]
     },
     "execution_count": 93,
     "metadata": {},
     "output_type": "execute_result"
    }
   ],
   "source": [
    "time_series.truncate(before='2020-01-20')  # 并不是选择before前的所有日期，而是抛弃前面的所有\n",
    "time_series.truncate(after='2020-01-20')  # 同上"
   ]
  },
  {
   "cell_type": "markdown",
   "metadata": {
    "heading_collapsed": true
   },
   "source": [
    "## 四、频率与偏移"
   ]
  },
  {
   "cell_type": "markdown",
   "metadata": {
    "hidden": true
   },
   "source": [
    "### （一）概念"
   ]
  },
  {
   "cell_type": "markdown",
   "metadata": {
    "hidden": true
   },
   "source": [
    "所谓频率和偏移，通俗地讲其实就是按照什么样的**间隔度**取日期。例如：按照频率“天”取数，时间**间隔度**就是1“天”。\n",
    "\n",
    "**参考：** https://pandas.pydata.org/pandas-docs/stable/user_guide/timeseries.html#timeseries-offset-aliases"
   ]
  },
  {
   "cell_type": "code",
   "execution_count": 106,
   "metadata": {
    "hidden": true
   },
   "outputs": [
    {
     "data": {
      "text/plain": [
       "DatetimeIndex(['2020-01-01', '2020-01-02', '2020-01-03', '2020-01-04',\n",
       "               '2020-01-05', '2020-01-06', '2020-01-07', '2020-01-08',\n",
       "               '2020-01-09', '2020-01-10'],\n",
       "              dtype='datetime64[ns]', freq='D')"
      ]
     },
     "execution_count": 106,
     "metadata": {},
     "output_type": "execute_result"
    },
    {
     "data": {
      "text/plain": [
       "DatetimeIndex(['2020-01-01', '2020-01-03', '2020-01-05', '2020-01-07',\n",
       "               '2020-01-09', '2020-01-11', '2020-01-13', '2020-01-15',\n",
       "               '2020-01-17', '2020-01-19'],\n",
       "              dtype='datetime64[ns]', freq='2D')"
      ]
     },
     "execution_count": 106,
     "metadata": {},
     "output_type": "execute_result"
    },
    {
     "data": {
      "text/plain": [
       "DatetimeIndex(['2020-01-01', '2020-01-02', '2020-01-03', '2020-01-06',\n",
       "               '2020-01-07', '2020-01-08', '2020-01-09', '2020-01-10',\n",
       "               '2020-01-13', '2020-01-14'],\n",
       "              dtype='datetime64[ns]', freq='B')"
      ]
     },
     "execution_count": 106,
     "metadata": {},
     "output_type": "execute_result"
    },
    {
     "data": {
      "text/plain": [
       "DatetimeIndex(['2020-01-31', '2020-02-28', '2020-03-31', '2020-04-30',\n",
       "               '2020-05-29', '2020-06-30', '2020-07-31', '2020-08-31',\n",
       "               '2020-09-30', '2020-10-30'],\n",
       "              dtype='datetime64[ns]', freq='BM')"
      ]
     },
     "execution_count": 106,
     "metadata": {},
     "output_type": "execute_result"
    },
    {
     "data": {
      "text/plain": [
       "DatetimeIndex(['2020-01-31', '2020-02-29', '2020-03-31', '2020-04-30',\n",
       "               '2020-05-31', '2020-06-30', '2020-07-31', '2020-08-31',\n",
       "               '2020-09-30', '2020-10-31'],\n",
       "              dtype='datetime64[ns]', freq='M')"
      ]
     },
     "execution_count": 106,
     "metadata": {},
     "output_type": "execute_result"
    }
   ],
   "source": [
    "pd.date_range(start='2020-01-01', periods=10, freq='D')  # 取每天\n",
    "\n",
    "pd.date_range(start='2020-01-01', periods=10, freq='2D')  # 隔一日取\n",
    "\n",
    "pd.date_range(start='2020-01-01', periods=10, freq='B')  # 取工作日\n",
    "\n",
    "pd.date_range(start='2020-01-01', periods=10, freq='BM') # 取该月最后一个工作日\n",
    "\n",
    "pd.date_range(start='2020-01-01', periods=10, freq='M')  # 取月末"
   ]
  },
  {
   "cell_type": "markdown",
   "metadata": {
    "hidden": true
   },
   "source": [
    "### （二）调用"
   ]
  },
  {
   "cell_type": "markdown",
   "metadata": {
    "hidden": true
   },
   "source": [
    "频率是可以调用的"
   ]
  },
  {
   "cell_type": "code",
   "execution_count": 105,
   "metadata": {
    "hidden": true
   },
   "outputs": [
    {
     "data": {
      "text/plain": [
       "<Day>"
      ]
     },
     "execution_count": 105,
     "metadata": {},
     "output_type": "execute_result"
    },
    {
     "data": {
      "text/plain": [
       "<MonthEnd>"
      ]
     },
     "execution_count": 105,
     "metadata": {},
     "output_type": "execute_result"
    },
    {
     "data": {
      "text/plain": [
       "<BusinessDay>"
      ]
     },
     "execution_count": 105,
     "metadata": {},
     "output_type": "execute_result"
    },
    {
     "data": {
      "text/plain": [
       "<BusinessHour: BH=09:00-17:00>"
      ]
     },
     "execution_count": 105,
     "metadata": {},
     "output_type": "execute_result"
    }
   ],
   "source": [
    "from pandas.tseries.offsets import *\n",
    "\n",
    "Day()\n",
    "\n",
    "MonthEnd()\n",
    "\n",
    "BusinessDay()\n",
    "\n",
    "BusinessHour()"
   ]
  },
  {
   "cell_type": "markdown",
   "metadata": {
    "hidden": true
   },
   "source": [
    "### （三）滚动"
   ]
  },
  {
   "cell_type": "code",
   "execution_count": 134,
   "metadata": {
    "hidden": true
   },
   "outputs": [
    {
     "data": {
      "text/plain": [
       "Timestamp('2020-02-29 00:00:00')"
      ]
     },
     "execution_count": 134,
     "metadata": {},
     "output_type": "execute_result"
    },
    {
     "data": {
      "text/plain": [
       "Timestamp('2020-01-31 00:00:00')"
      ]
     },
     "execution_count": 134,
     "metadata": {},
     "output_type": "execute_result"
    },
    {
     "data": {
      "text/plain": [
       "2020-01-01    0.084975\n",
       "2020-01-11    0.906924\n",
       "2020-01-21    0.310939\n",
       "2020-01-31   -0.042238\n",
       "2020-02-10   -0.181269\n",
       "2020-02-20    1.475492\n",
       "2020-03-01   -1.179055\n",
       "2020-03-11    0.922947\n",
       "2020-03-21   -0.226860\n",
       "2020-03-31   -0.167299\n",
       "Freq: 10D, dtype: float64"
      ]
     },
     "execution_count": 134,
     "metadata": {},
     "output_type": "execute_result"
    },
    {
     "data": {
      "text/plain": [
       "2020-01-31    0.315150\n",
       "2020-02-29    0.647111\n",
       "2020-03-31   -0.162567\n",
       "dtype: float64"
      ]
     },
     "execution_count": 134,
     "metadata": {},
     "output_type": "execute_result"
    }
   ],
   "source": [
    "offset = MonthEnd()\n",
    "\n",
    "time = datetime(2020,2,15)\n",
    "\n",
    "# 向前滚动到这个月月末\n",
    "offset.rollforward(time)\n",
    "\n",
    "# 向后退到上个月的月末\n",
    "offset.rollback(time)\n",
    "\n",
    "# 例子\n",
    "time_series = pd.Series(np.random.randn(10),\n",
    "                        index=pd.date_range(start='2020-01-01', periods=10, freq='10d'))\n",
    "\n",
    "time_series\n",
    "\n",
    "time_series.groupby(by=offset.rollforward).mean()"
   ]
  },
  {
   "cell_type": "markdown",
   "metadata": {
    "heading_collapsed": true
   },
   "source": [
    "## 五、日期移位"
   ]
  },
  {
   "cell_type": "markdown",
   "metadata": {
    "hidden": true
   },
   "source": [
    "```python\n",
    "Series.shift(periods=1, freq=None, axis=0, fill_value=None)\n",
    "```\n",
    "\n",
    "**Parameters:**\n",
    "> * **periods:** int  （位移数）\n",
    "    * Number of periods to shift. Can be positive or negative.\n",
    "\n",
    "> * **freq:** DateOffset, tseries.offsets, timedelta, or str, optional  （频率）\n",
    "    * Offset to use from the tseries module or time rule (e.g. ‘EOM’). If freq is specified then the index values are shifted but the data is not realigned. That is, use freq if you would like to extend the index when shifting and preserve the original data. If freq is specified as “infer” then it will be inferred from the freq or inferred_freq attributes of the index. If neither of those attributes exist, a ValueError is thrown\n",
    "\n",
    "> * **axis:** {0 or ‘index’, 1 or ‘columns’, None}, default None  （位移轴向）\n",
    "    * Shift direction.\n",
    "\n",
    "> * **fill_value:** object, optional  （用来填充空缺值的值）\n",
    "    * The scalar value to use for newly introduced missing values. the default depends on the dtype of self. For numeric data, np.nan is used. For datetime, timedelta, or period data, etc. NaT is used. For extension dtypes, self.dtype.na_value is used.(Changed in version 1.1.0.)\n",
    "\n",
    "\n",
    "**Returns:** Series\n",
    "> * Copy of input object, shifted.\n",
    "\n",
    "\n",
    "\n",
    "```python\n",
    "DataFrame.shift(periods=1, freq=None, axis=0, fill_value=None)\n",
    "```\n",
    "**同上**"
   ]
  },
  {
   "cell_type": "code",
   "execution_count": 83,
   "metadata": {
    "hidden": true
   },
   "outputs": [
    {
     "data": {
      "text/plain": [
       "DatetimeIndex(['2020-01-31', '2020-02-29', '2020-03-31', '2020-04-30',\n",
       "               '2020-05-31', '2020-06-30', '2020-07-31', '2020-08-31',\n",
       "               '2020-09-30', '2020-10-31', '2020-11-30', '2020-12-31'],\n",
       "              dtype='datetime64[ns]', freq='M')"
      ]
     },
     "execution_count": 83,
     "metadata": {},
     "output_type": "execute_result"
    },
    {
     "data": {
      "text/plain": [
       "2020-01-31   -3.222076\n",
       "2020-02-29   -0.464578\n",
       "2020-03-31    0.647419\n",
       "2020-04-30   -2.080920\n",
       "2020-05-31   -0.661116\n",
       "2020-06-30    0.308991\n",
       "2020-07-31    1.156110\n",
       "2020-08-31   -1.117675\n",
       "2020-09-30    1.583798\n",
       "2020-10-31    0.898425\n",
       "2020-11-30    0.439646\n",
       "2020-12-31    2.445998\n",
       "Freq: M, dtype: float64"
      ]
     },
     "execution_count": 83,
     "metadata": {},
     "output_type": "execute_result"
    }
   ],
   "source": [
    "# 生成一个TimeSeries\n",
    "time_index = pd.date_range(start='2020-01-01', end='2020-12-31', freq='M')\n",
    "time_index\n",
    "\n",
    "time_series = pd.Series(np.random.randn(len(time_index)), index=time_index)\n",
    "time_series"
   ]
  },
  {
   "cell_type": "code",
   "execution_count": 92,
   "metadata": {
    "hidden": true
   },
   "outputs": [
    {
     "data": {
      "text/html": [
       "<div>\n",
       "<style scoped>\n",
       "    .dataframe tbody tr th:only-of-type {\n",
       "        vertical-align: middle;\n",
       "    }\n",
       "\n",
       "    .dataframe tbody tr th {\n",
       "        vertical-align: top;\n",
       "    }\n",
       "\n",
       "    .dataframe thead th {\n",
       "        text-align: right;\n",
       "    }\n",
       "</style>\n",
       "<table border=\"1\" class=\"dataframe\">\n",
       "  <thead>\n",
       "    <tr style=\"text-align: right;\">\n",
       "      <th></th>\n",
       "      <th>t_1</th>\n",
       "      <th>t_2</th>\n",
       "      <th>t_1 / t_2</th>\n",
       "      <th>t_periods</th>\n",
       "      <th>t_freq=M</th>\n",
       "      <th>t_fill_value</th>\n",
       "      <th>t_periods=-1</th>\n",
       "    </tr>\n",
       "  </thead>\n",
       "  <tbody>\n",
       "    <tr>\n",
       "      <th>2020-01-31</th>\n",
       "      <td>-3.222076</td>\n",
       "      <td>NaN</td>\n",
       "      <td>NaN</td>\n",
       "      <td>NaN</td>\n",
       "      <td>NaN</td>\n",
       "      <td>1.000000</td>\n",
       "      <td>-0.464578</td>\n",
       "    </tr>\n",
       "    <tr>\n",
       "      <th>2020-02-29</th>\n",
       "      <td>-0.464578</td>\n",
       "      <td>-3.222076</td>\n",
       "      <td>5.935490</td>\n",
       "      <td>NaN</td>\n",
       "      <td>NaN</td>\n",
       "      <td>1.000000</td>\n",
       "      <td>0.647419</td>\n",
       "    </tr>\n",
       "    <tr>\n",
       "      <th>2020-03-31</th>\n",
       "      <td>0.647419</td>\n",
       "      <td>-0.464578</td>\n",
       "      <td>-1.717584</td>\n",
       "      <td>-3.222076</td>\n",
       "      <td>NaN</td>\n",
       "      <td>-3.222076</td>\n",
       "      <td>-2.080920</td>\n",
       "    </tr>\n",
       "    <tr>\n",
       "      <th>2020-04-30</th>\n",
       "      <td>-2.080920</td>\n",
       "      <td>0.647419</td>\n",
       "      <td>-1.311122</td>\n",
       "      <td>-0.464578</td>\n",
       "      <td>-3.222076</td>\n",
       "      <td>-0.464578</td>\n",
       "      <td>-0.661116</td>\n",
       "    </tr>\n",
       "    <tr>\n",
       "      <th>2020-05-31</th>\n",
       "      <td>-0.661116</td>\n",
       "      <td>-2.080920</td>\n",
       "      <td>2.147589</td>\n",
       "      <td>0.647419</td>\n",
       "      <td>-0.464578</td>\n",
       "      <td>0.647419</td>\n",
       "      <td>0.308991</td>\n",
       "    </tr>\n",
       "    <tr>\n",
       "      <th>2020-06-30</th>\n",
       "      <td>0.308991</td>\n",
       "      <td>-0.661116</td>\n",
       "      <td>-3.139596</td>\n",
       "      <td>-2.080920</td>\n",
       "      <td>0.647419</td>\n",
       "      <td>-2.080920</td>\n",
       "      <td>1.156110</td>\n",
       "    </tr>\n",
       "    <tr>\n",
       "      <th>2020-07-31</th>\n",
       "      <td>1.156110</td>\n",
       "      <td>0.308991</td>\n",
       "      <td>-0.732732</td>\n",
       "      <td>-0.661116</td>\n",
       "      <td>-2.080920</td>\n",
       "      <td>-0.661116</td>\n",
       "      <td>-1.117675</td>\n",
       "    </tr>\n",
       "    <tr>\n",
       "      <th>2020-08-31</th>\n",
       "      <td>-1.117675</td>\n",
       "      <td>1.156110</td>\n",
       "      <td>-2.034388</td>\n",
       "      <td>0.308991</td>\n",
       "      <td>-0.661116</td>\n",
       "      <td>0.308991</td>\n",
       "      <td>1.583798</td>\n",
       "    </tr>\n",
       "    <tr>\n",
       "      <th>2020-09-30</th>\n",
       "      <td>1.583798</td>\n",
       "      <td>-1.117675</td>\n",
       "      <td>-1.705693</td>\n",
       "      <td>1.156110</td>\n",
       "      <td>0.308991</td>\n",
       "      <td>1.156110</td>\n",
       "      <td>0.898425</td>\n",
       "    </tr>\n",
       "    <tr>\n",
       "      <th>2020-10-31</th>\n",
       "      <td>0.898425</td>\n",
       "      <td>1.583798</td>\n",
       "      <td>0.762860</td>\n",
       "      <td>-1.117675</td>\n",
       "      <td>1.156110</td>\n",
       "      <td>-1.117675</td>\n",
       "      <td>0.439646</td>\n",
       "    </tr>\n",
       "    <tr>\n",
       "      <th>2020-11-30</th>\n",
       "      <td>0.439646</td>\n",
       "      <td>0.898425</td>\n",
       "      <td>1.043519</td>\n",
       "      <td>1.583798</td>\n",
       "      <td>-1.117675</td>\n",
       "      <td>1.583798</td>\n",
       "      <td>2.445998</td>\n",
       "    </tr>\n",
       "    <tr>\n",
       "      <th>2020-12-31</th>\n",
       "      <td>2.445998</td>\n",
       "      <td>0.439646</td>\n",
       "      <td>-0.820259</td>\n",
       "      <td>0.898425</td>\n",
       "      <td>1.583798</td>\n",
       "      <td>0.898425</td>\n",
       "      <td>NaN</td>\n",
       "    </tr>\n",
       "    <tr>\n",
       "      <th>2021-01-31</th>\n",
       "      <td>NaN</td>\n",
       "      <td>NaN</td>\n",
       "      <td>NaN</td>\n",
       "      <td>NaN</td>\n",
       "      <td>0.898425</td>\n",
       "      <td>NaN</td>\n",
       "      <td>NaN</td>\n",
       "    </tr>\n",
       "    <tr>\n",
       "      <th>2021-02-28</th>\n",
       "      <td>NaN</td>\n",
       "      <td>NaN</td>\n",
       "      <td>NaN</td>\n",
       "      <td>NaN</td>\n",
       "      <td>0.439646</td>\n",
       "      <td>NaN</td>\n",
       "      <td>NaN</td>\n",
       "    </tr>\n",
       "    <tr>\n",
       "      <th>2021-03-31</th>\n",
       "      <td>NaN</td>\n",
       "      <td>NaN</td>\n",
       "      <td>NaN</td>\n",
       "      <td>NaN</td>\n",
       "      <td>2.445998</td>\n",
       "      <td>NaN</td>\n",
       "      <td>NaN</td>\n",
       "    </tr>\n",
       "  </tbody>\n",
       "</table>\n",
       "</div>"
      ],
      "text/plain": [
       "                 t_1       t_2  t_1 / t_2  t_periods  t_freq=M  t_fill_value  \\\n",
       "2020-01-31 -3.222076       NaN        NaN        NaN       NaN      1.000000   \n",
       "2020-02-29 -0.464578 -3.222076   5.935490        NaN       NaN      1.000000   \n",
       "2020-03-31  0.647419 -0.464578  -1.717584  -3.222076       NaN     -3.222076   \n",
       "2020-04-30 -2.080920  0.647419  -1.311122  -0.464578 -3.222076     -0.464578   \n",
       "2020-05-31 -0.661116 -2.080920   2.147589   0.647419 -0.464578      0.647419   \n",
       "2020-06-30  0.308991 -0.661116  -3.139596  -2.080920  0.647419     -2.080920   \n",
       "2020-07-31  1.156110  0.308991  -0.732732  -0.661116 -2.080920     -0.661116   \n",
       "2020-08-31 -1.117675  1.156110  -2.034388   0.308991 -0.661116      0.308991   \n",
       "2020-09-30  1.583798 -1.117675  -1.705693   1.156110  0.308991      1.156110   \n",
       "2020-10-31  0.898425  1.583798   0.762860  -1.117675  1.156110     -1.117675   \n",
       "2020-11-30  0.439646  0.898425   1.043519   1.583798 -1.117675      1.583798   \n",
       "2020-12-31  2.445998  0.439646  -0.820259   0.898425  1.583798      0.898425   \n",
       "2021-01-31       NaN       NaN        NaN        NaN  0.898425           NaN   \n",
       "2021-02-28       NaN       NaN        NaN        NaN  0.439646           NaN   \n",
       "2021-03-31       NaN       NaN        NaN        NaN  2.445998           NaN   \n",
       "\n",
       "            t_periods=-1  \n",
       "2020-01-31     -0.464578  \n",
       "2020-02-29      0.647419  \n",
       "2020-03-31     -2.080920  \n",
       "2020-04-30     -0.661116  \n",
       "2020-05-31      0.308991  \n",
       "2020-06-30      1.156110  \n",
       "2020-07-31     -1.117675  \n",
       "2020-08-31      1.583798  \n",
       "2020-09-30      0.898425  \n",
       "2020-10-31      0.439646  \n",
       "2020-11-30      2.445998  \n",
       "2020-12-31           NaN  \n",
       "2021-01-31           NaN  \n",
       "2021-02-28           NaN  \n",
       "2021-03-31           NaN  "
      ]
     },
     "execution_count": 92,
     "metadata": {},
     "output_type": "execute_result"
    }
   ],
   "source": [
    "# 对比进行理解\n",
    "t_1 = time_series\n",
    "t_2 = time_series.shift(periods=1)\n",
    "t_3 = time_series.shift(periods=2)\n",
    "t_4 = time_series.shift(periods=3, freq='M')\n",
    "t_5 = time_series.shift(periods=2, fill_value=1)\n",
    "t_6 = time_series.shift(periods= -1)\n",
    "t_12 = (t_2 - t_1) / t_1\n",
    "\n",
    "df = pd.DataFrame({'t_1': t_1, \n",
    "                   't_2': t_2,\n",
    "                   't_1 / t_2': t_12,\n",
    "                   't_periods': t_3,\n",
    "                   't_freq=M': t_4,\n",
    "                   't_fill_value': t_5,\n",
    "                   't_periods=-1': t_6})\n",
    "df"
   ]
  },
  {
   "cell_type": "markdown",
   "metadata": {
    "heading_collapsed": true
   },
   "source": [
    "## 六、时区转换"
   ]
  },
  {
   "cell_type": "code",
   "execution_count": 135,
   "metadata": {
    "hidden": true
   },
   "outputs": [
    {
     "data": {
      "text/plain": [
       "DatetimeIndex(['2020-01-01', '2020-01-02', '2020-01-03', '2020-01-04',\n",
       "               '2020-01-05', '2020-01-06', '2020-01-07', '2020-01-08',\n",
       "               '2020-01-09', '2020-01-10'],\n",
       "              dtype='datetime64[ns]', freq='D')"
      ]
     },
     "execution_count": 135,
     "metadata": {},
     "output_type": "execute_result"
    },
    {
     "data": {
      "text/plain": [
       "2020-01-01    0.829003\n",
       "2020-01-02   -0.392194\n",
       "2020-01-03   -0.084971\n",
       "2020-01-04   -1.607287\n",
       "2020-01-05    1.724516\n",
       "2020-01-06   -0.484670\n",
       "2020-01-07   -0.067558\n",
       "2020-01-08    0.482948\n",
       "2020-01-09   -0.403767\n",
       "2020-01-10   -0.920825\n",
       "Freq: D, dtype: float64"
      ]
     },
     "execution_count": 135,
     "metadata": {},
     "output_type": "execute_result"
    }
   ],
   "source": [
    "# 生成一个TimeSeries\n",
    "time_index = pd.date_range(start='2020-01-01', end='2020-01-10', freq='D')\n",
    "time_index\n",
    "\n",
    "time_series = pd.Series(np.random.randn(len(time_index)), index=time_index)\n",
    "time_series"
   ]
  },
  {
   "cell_type": "markdown",
   "metadata": {
    "hidden": true
   },
   "source": [
    "### （一）tz_localize()"
   ]
  },
  {
   "cell_type": "code",
   "execution_count": 137,
   "metadata": {
    "hidden": true
   },
   "outputs": [
    {
     "data": {
      "text/plain": [
       "2020-01-01 00:00:00+00:00    0.829003\n",
       "2020-01-02 00:00:00+00:00   -0.392194\n",
       "2020-01-03 00:00:00+00:00   -0.084971\n",
       "2020-01-04 00:00:00+00:00   -1.607287\n",
       "2020-01-05 00:00:00+00:00    1.724516\n",
       "2020-01-06 00:00:00+00:00   -0.484670\n",
       "2020-01-07 00:00:00+00:00   -0.067558\n",
       "2020-01-08 00:00:00+00:00    0.482948\n",
       "2020-01-09 00:00:00+00:00   -0.403767\n",
       "2020-01-10 00:00:00+00:00   -0.920825\n",
       "Freq: D, dtype: float64"
      ]
     },
     "execution_count": 137,
     "metadata": {},
     "output_type": "execute_result"
    }
   ],
   "source": [
    "time_series.tz_localize('UTC')"
   ]
  },
  {
   "cell_type": "markdown",
   "metadata": {
    "hidden": true
   },
   "source": [
    "### （二）tz_convert()"
   ]
  },
  {
   "cell_type": "code",
   "execution_count": 144,
   "metadata": {
    "hidden": true
   },
   "outputs": [
    {
     "data": {
      "text/plain": [
       "2020-01-01 00:00:00+00:00    0.829003\n",
       "2020-01-02 00:00:00+00:00   -0.392194\n",
       "2020-01-03 00:00:00+00:00   -0.084971\n",
       "2020-01-04 00:00:00+00:00   -1.607287\n",
       "2020-01-05 00:00:00+00:00    1.724516\n",
       "2020-01-06 00:00:00+00:00   -0.484670\n",
       "2020-01-07 00:00:00+00:00   -0.067558\n",
       "2020-01-08 00:00:00+00:00    0.482948\n",
       "2020-01-09 00:00:00+00:00   -0.403767\n",
       "2020-01-10 00:00:00+00:00   -0.920825\n",
       "Freq: D, dtype: float64"
      ]
     },
     "execution_count": 144,
     "metadata": {},
     "output_type": "execute_result"
    },
    {
     "data": {
      "text/plain": [
       "2019-12-31 19:00:00-05:00    0.829003\n",
       "2020-01-01 19:00:00-05:00   -0.392194\n",
       "2020-01-02 19:00:00-05:00   -0.084971\n",
       "2020-01-03 19:00:00-05:00   -1.607287\n",
       "2020-01-04 19:00:00-05:00    1.724516\n",
       "2020-01-05 19:00:00-05:00   -0.484670\n",
       "2020-01-06 19:00:00-05:00   -0.067558\n",
       "2020-01-07 19:00:00-05:00    0.482948\n",
       "2020-01-08 19:00:00-05:00   -0.403767\n",
       "2020-01-09 19:00:00-05:00   -0.920825\n",
       "Freq: D, dtype: float64"
      ]
     },
     "execution_count": 144,
     "metadata": {},
     "output_type": "execute_result"
    },
    {
     "data": {
      "text/plain": [
       "2020-01-01 08:00:00+08:00    0.829003\n",
       "2020-01-02 08:00:00+08:00   -0.392194\n",
       "2020-01-03 08:00:00+08:00   -0.084971\n",
       "2020-01-04 08:00:00+08:00   -1.607287\n",
       "2020-01-05 08:00:00+08:00    1.724516\n",
       "2020-01-06 08:00:00+08:00   -0.484670\n",
       "2020-01-07 08:00:00+08:00   -0.067558\n",
       "2020-01-08 08:00:00+08:00    0.482948\n",
       "2020-01-09 08:00:00+08:00   -0.403767\n",
       "2020-01-10 08:00:00+08:00   -0.920825\n",
       "Freq: D, dtype: float64"
      ]
     },
     "execution_count": 144,
     "metadata": {},
     "output_type": "execute_result"
    }
   ],
   "source": [
    "time_utc = time_series.tz_localize('UTC')\n",
    "time_utc\n",
    "\n",
    "time_New_York = time_utc.tz_convert('America/New_York')\n",
    "time_New_York\n",
    "\n",
    "time_shanghai = time_New_York.tz_convert('Asia/Shanghai')\n",
    "time_shanghai"
   ]
  },
  {
   "cell_type": "markdown",
   "metadata": {
    "heading_collapsed": true
   },
   "source": [
    "## 七、重新采样 —— resample方法"
   ]
  },
  {
   "cell_type": "markdown",
   "metadata": {
    "hidden": true
   },
   "source": [
    "```python\n",
    "DataFrame.resample(rule, axis=0, closed=None, label=None, convention='start', kind=None, loffset=None, base=None, on=None, level=None, origin='start_day', offset=None)\n",
    "```\n",
    "\n",
    "**Parameters:**\n",
    "> * **rule:** DateOffset, Timedelta or str  （进行采样的频率或者偏移）\n",
    "    * The offset string or object representing target conversion.\n",
    "\n",
    "> * **axis:** {0 or ‘index’, 1 or ‘columns’}, default 0  （采样轴向）\n",
    "    * Which axis to use for up- or down-sampling. For Series this will default to 0, i.e. along the rows. Must be DatetimeIndex, TimedeltaIndex or PeriodIndex.\n",
    "\n",
    "> * **closed:** {‘right’, ‘left’}, default None  （决定采样区间的哪一边是闭合的，这影响到后面进行聚合的结果）\n",
    "    * Which side of bin interval is closed. The default is ‘left’ for all frequency offsets except for ‘M’, ‘A’, ‘Q’, ‘BM’, ‘BA’, ‘BQ’, and ‘W’ which all have a default of ‘right’.\n",
    "\n",
    "> * **label:** {‘right’, ‘left’}, default None  （决定用区间的哪一边作为采样后的标签，例如：采样前是2020-01-01 到 2020-01-31 的间隔，label参数用来确定是选择2020-01-01还是2020-01-31作为采样后新的标签）\n",
    "    * Which bin edge label to label bucket with. The default is ‘left’ for all frequency offsets except for ‘M’, ‘A’, ‘Q’, ‘BM’, ‘BA’, ‘BQ’, and ‘W’ which all have a default of ‘right’.\n",
    "\n",
    "> * **convention:** {‘start’, ‘end’, ‘s’, ‘e’}, default ‘start’  （在对PeriodIndex对象进行重新采样时，决定是采用‘start’还是‘end’\n",
    "    * For PeriodIndex only, controls whether to use the start or end of rule.\n",
    "\n",
    "> * **kind:** {‘timestamp’, ‘period’}, optional, default None  （决定新标签是以period还是timestamp显示）\n",
    "    * Pass ‘timestamp’ to convert the resulting index to a DateTimeIndex or ‘period’ to convert it to a PeriodIndex. By default the input representation is retained.\n",
    "\n",
    "> * **loffset:** timedelta, default None  （对新标签进行时间校正，比如loffset='-1s'，则把新标签向前移动一秒）\n",
    "    * Adjust the resampled time labels.\n",
    "    * —— Deprecated since version 1.1.0: You should add the loffset to the df.index after the resample. See below.\n",
    "\n",
    "> * **base:** int, default 0  （原点偏离度，会影响后面聚合的结果）\n",
    "    * For frequencies that evenly subdivide 1 day, the “origin” of the aggregated intervals. For example, for ‘5min’ frequency, base could range from 0 through 4. Defaults to 0.\n",
    "    * —— Deprecated since version 1.1.0: The new arguments that you should use are ‘offset’ or ‘origin’.\n",
    "    \n",
    "> * **on:** str, optional  （对于DataFrame对象，可以指定进行采样的col，但是该col必须要是 datetime-like 的形式）\n",
    "    For a DataFrame, column to use instead of index for resampling. Column must be datetime-like.\n",
    "    \n",
    "> * **level:** str or int, optional　　（针对多层索引的，指定某一层索引作为采样的目标索引）\n",
    "    *　For a MultiIndex, level (name or number) to use for resampling. level must be datetime-like.\n",
    "    \n",
    "> * **origin:** {‘epoch’, ‘start’, ‘start_day’}, Timestamp or str, default ‘start_day’  （决定采样区间的原点）\n",
    "    * The timestamp on which to adjust the grouping. The timezone of origin must match the timezone of the index. If a timestamp is not used, these values are also supported:\n",
    "        * ‘epoch’: origin is 1970-01-01\n",
    "        * ‘start’: origin is the first value of the timeseries\n",
    "        * ‘start_day’: origin is the first day at midnight of the timeseries\n",
    "        * *New in version 1.1.0.*\n",
    "        \n",
    "> * **offset:** Timedelta or str, default is None  （对对新标签进行时间校正）\n",
    "    * An offset timedelta added to the origin.\n",
    "        * *New in version 1.1.0.*\n",
    "        \n",
    "**Returns：**\n",
    "> * Resampler object\n",
    "\n",
    "\n",
    "```python\n",
    "Series.resample(rule, axis=0, closed=None, label=None, convention='start', kind=None, loffset=None, base=None, on=None, level=None, origin='start_day', offset=None)\n",
    "``` \n",
    "**同上**"
   ]
  },
  {
   "cell_type": "markdown",
   "metadata": {
    "hidden": true
   },
   "source": [
    "### （一）参数详解"
   ]
  },
  {
   "cell_type": "code",
   "execution_count": 312,
   "metadata": {
    "hidden": true
   },
   "outputs": [
    {
     "data": {
      "text/plain": [
       "2020-01-01 11:00:00     0\n",
       "2020-01-02 11:00:00     1\n",
       "2020-01-03 11:00:00     2\n",
       "2020-01-04 11:00:00     3\n",
       "2020-01-05 11:00:00     4\n",
       "                       ..\n",
       "2020-04-05 11:00:00    95\n",
       "2020-04-06 11:00:00    96\n",
       "2020-04-07 11:00:00    97\n",
       "2020-04-08 11:00:00    98\n",
       "2020-04-09 11:00:00    99\n",
       "Freq: D, Length: 100, dtype: int32"
      ]
     },
     "execution_count": 312,
     "metadata": {},
     "output_type": "execute_result"
    }
   ],
   "source": [
    "# 生成一个时间序列\n",
    "rng = pd.date_range('2020-01-01 11:00:00', periods=100, freq='D')\n",
    "time_series = pd.Series(np.arange(len(rng)), index=rng)\n",
    "time_series"
   ]
  },
  {
   "cell_type": "code",
   "execution_count": 313,
   "metadata": {
    "hidden": true
   },
   "outputs": [
    {
     "data": {
      "text/plain": [
       "2020-01-31    15\n",
       "2020-02-29    45\n",
       "2020-03-31    75\n",
       "2020-04-30    95\n",
       "Freq: M, dtype: int32"
      ]
     },
     "execution_count": 313,
     "metadata": {},
     "output_type": "execute_result"
    }
   ],
   "source": [
    "# rule参数\n",
    "time_series.resample('M').mean()"
   ]
  },
  {
   "cell_type": "code",
   "execution_count": 314,
   "metadata": {
    "hidden": true
   },
   "outputs": [],
   "source": [
    "# axis参数  略"
   ]
  },
  {
   "cell_type": "code",
   "execution_count": 318,
   "metadata": {
    "hidden": true
   },
   "outputs": [
    {
     "data": {
      "text/plain": [
       "2020-01-31    14.5\n",
       "2020-02-29    44.0\n",
       "2020-03-31    74.0\n",
       "2020-04-30    94.5\n",
       "Freq: M, dtype: float64"
      ]
     },
     "execution_count": 318,
     "metadata": {},
     "output_type": "execute_result"
    },
    {
     "data": {
      "text/plain": [
       "2020-01-31    15\n",
       "2020-02-29    45\n",
       "2020-03-31    75\n",
       "2020-04-30    95\n",
       "Freq: M, dtype: int32"
      ]
     },
     "execution_count": 318,
     "metadata": {},
     "output_type": "execute_result"
    }
   ],
   "source": [
    "# closed参数\n",
    "time_series.resample(rule='M', closed='left').mean()\n",
    "time_series.resample(rule='M', closed='right').mean()"
   ]
  },
  {
   "cell_type": "code",
   "execution_count": 296,
   "metadata": {
    "hidden": true
   },
   "outputs": [
    {
     "data": {
      "text/plain": [
       "2019-12-31    0.037707\n",
       "2020-01-31   -0.080797\n",
       "2020-02-29   -0.072224\n",
       "2020-03-31    0.135264\n",
       "Freq: M, dtype: float64"
      ]
     },
     "execution_count": 296,
     "metadata": {},
     "output_type": "execute_result"
    },
    {
     "data": {
      "text/plain": [
       "2020-01-31    0.037707\n",
       "2020-02-29   -0.080797\n",
       "2020-03-31   -0.072224\n",
       "2020-04-30    0.135264\n",
       "Freq: M, dtype: float64"
      ]
     },
     "execution_count": 296,
     "metadata": {},
     "output_type": "execute_result"
    }
   ],
   "source": [
    "# label参数\n",
    "time_series.resample(rule='M', label='left').mean()\n",
    "time_series.resample(rule='M', label='right').mean()"
   ]
  },
  {
   "cell_type": "code",
   "execution_count": 297,
   "metadata": {
    "hidden": true
   },
   "outputs": [
    {
     "data": {
      "text/plain": [
       "2020-01-31    0.037707\n",
       "2020-02-29   -0.080797\n",
       "2020-03-31   -0.072224\n",
       "2020-04-30    0.135264\n",
       "Freq: M, dtype: float64"
      ]
     },
     "execution_count": 297,
     "metadata": {},
     "output_type": "execute_result"
    },
    {
     "data": {
      "text/plain": [
       "2020-01-31    0.037707\n",
       "2020-02-29   -0.080797\n",
       "2020-03-31   -0.072224\n",
       "2020-04-30    0.135264\n",
       "Freq: M, dtype: float64"
      ]
     },
     "execution_count": 297,
     "metadata": {},
     "output_type": "execute_result"
    }
   ],
   "source": [
    "# convention参数 不知道有啥用\n",
    "time_series.resample(rule='M', convention='start').mean()\n",
    "time_series.resample(rule='M', convention='end').mean()"
   ]
  },
  {
   "cell_type": "code",
   "execution_count": 298,
   "metadata": {
    "hidden": true
   },
   "outputs": [
    {
     "data": {
      "text/plain": [
       "2020-01    0.037707\n",
       "2020-02   -0.080797\n",
       "2020-03   -0.072224\n",
       "2020-04    0.135264\n",
       "Freq: M, dtype: float64"
      ]
     },
     "execution_count": 298,
     "metadata": {},
     "output_type": "execute_result"
    },
    {
     "data": {
      "text/plain": [
       "2020-01-31    0.037707\n",
       "2020-02-29   -0.080797\n",
       "2020-03-31   -0.072224\n",
       "2020-04-30    0.135264\n",
       "Freq: M, dtype: float64"
      ]
     },
     "execution_count": 298,
     "metadata": {},
     "output_type": "execute_result"
    }
   ],
   "source": [
    "# kind参数\n",
    "time_series.resample(rule='M', kind='period').mean()\n",
    "time_series.resample(rule='M', kind='timestamp').mean()"
   ]
  },
  {
   "cell_type": "code",
   "execution_count": 299,
   "metadata": {
    "hidden": true
   },
   "outputs": [
    {
     "data": {
      "text/plain": [
       "2020-01-31    0.037707\n",
       "2020-02-29   -0.080797\n",
       "2020-03-31   -0.072224\n",
       "2020-04-30    0.135264\n",
       "Freq: M, dtype: float64"
      ]
     },
     "execution_count": 299,
     "metadata": {},
     "output_type": "execute_result"
    },
    {
     "name": "stderr",
     "output_type": "stream",
     "text": [
      "D:\\software\\Anaconda\\lib\\site-packages\\ipykernel_launcher.py:3: FutureWarning: 'loffset' in .resample() and in Grouper() is deprecated.\n",
      "\n",
      ">>> df.resample(freq=\"3s\", loffset=\"8H\")\n",
      "\n",
      "becomes:\n",
      "\n",
      ">>> from pandas.tseries.frequencies import to_offset\n",
      ">>> df = df.resample(freq=\"3s\").mean()\n",
      ">>> df.index = df.index.to_timestamp() + to_offset(\"8H\")\n",
      "\n",
      "  This is separate from the ipykernel package so we can avoid doing imports until\n"
     ]
    },
    {
     "data": {
      "text/plain": [
       "2020-01-30 23:00:00    0.037707\n",
       "2020-02-28 23:00:00   -0.080797\n",
       "2020-03-30 23:00:00   -0.072224\n",
       "2020-04-29 23:00:00    0.135264\n",
       "dtype: float64"
      ]
     },
     "execution_count": 299,
     "metadata": {},
     "output_type": "execute_result"
    }
   ],
   "source": [
    "# loffset参数\n",
    "time_series.resample(rule='M').mean()\n",
    "time_series.resample(rule='M', loffset='-1h').mean()"
   ]
  },
  {
   "cell_type": "code",
   "execution_count": 300,
   "metadata": {
    "hidden": true
   },
   "outputs": [
    {
     "data": {
      "text/plain": [
       "2020-01-01    0.370813\n",
       "2020-01-11   -0.657081\n",
       "2020-01-21    0.369556\n",
       "2020-01-31    0.185829\n",
       "2020-02-10   -0.206455\n",
       "2020-02-20   -0.180082\n",
       "2020-03-01    0.140963\n",
       "2020-03-11   -0.312580\n",
       "2020-03-21   -0.128349\n",
       "2020-03-31    0.197808\n",
       "Freq: 10D, dtype: float64"
      ]
     },
     "execution_count": 300,
     "metadata": {},
     "output_type": "execute_result"
    },
    {
     "name": "stderr",
     "output_type": "stream",
     "text": [
      "D:\\software\\Anaconda\\lib\\site-packages\\ipykernel_launcher.py:3: FutureWarning: 'base' in .resample() and in Grouper() is deprecated.\n",
      "The new arguments that you should use are 'offset' or 'origin'.\n",
      "\n",
      ">>> df.resample(freq=\"3s\", base=2)\n",
      "\n",
      "becomes:\n",
      "\n",
      ">>> df.resample(freq=\"3s\", offset=\"2s\")\n",
      "\n",
      "  This is separate from the ipykernel package so we can avoid doing imports until\n"
     ]
    },
    {
     "data": {
      "text/plain": [
       "2019-12-24   -0.048649\n",
       "2020-01-03    0.165839\n",
       "2020-01-13   -0.372825\n",
       "2020-01-23    0.489138\n",
       "2020-02-02   -0.054974\n",
       "2020-02-12   -0.262656\n",
       "2020-02-22   -0.233507\n",
       "2020-03-03    0.250828\n",
       "2020-03-13   -0.222385\n",
       "2020-03-23    0.077684\n",
       "2020-04-02   -0.058738\n",
       "Freq: 10D, dtype: float64"
      ]
     },
     "execution_count": 300,
     "metadata": {},
     "output_type": "execute_result"
    }
   ],
   "source": [
    "# base参数\n",
    "time_series.resample(rule='10D').mean()\n",
    "time_series.resample(rule='10D', base=2).mean()  # base=2，以默认状态为原点，向前偏移10-2的单位"
   ]
  },
  {
   "cell_type": "code",
   "execution_count": 301,
   "metadata": {
    "hidden": true
   },
   "outputs": [],
   "source": [
    "# on参数  略"
   ]
  },
  {
   "cell_type": "code",
   "execution_count": 302,
   "metadata": {
    "hidden": true
   },
   "outputs": [],
   "source": [
    "# level参数  略"
   ]
  },
  {
   "cell_type": "code",
   "execution_count": 303,
   "metadata": {
    "hidden": true
   },
   "outputs": [
    {
     "data": {
      "text/plain": [
       "2020-01-01 00:00:00    0.051773\n",
       "2020-02-11 16:00:00   -0.091803\n",
       "2020-03-24 08:00:00   -0.035667\n",
       "Freq: 1000H, dtype: float64"
      ]
     },
     "execution_count": 303,
     "metadata": {},
     "output_type": "execute_result"
    },
    {
     "data": {
      "text/plain": [
       "2020-01-01 11:00:00    0.051773\n",
       "2020-02-12 03:00:00   -0.153095\n",
       "2020-03-24 19:00:00    0.128733\n",
       "Freq: 1000H, dtype: float64"
      ]
     },
     "execution_count": 303,
     "metadata": {},
     "output_type": "execute_result"
    },
    {
     "data": {
      "text/plain": [
       "2020-01-01 00:00:00    0.051773\n",
       "2020-02-11 16:00:00   -0.091803\n",
       "2020-03-24 08:00:00   -0.035667\n",
       "Freq: 1000H, dtype: float64"
      ]
     },
     "execution_count": 303,
     "metadata": {},
     "output_type": "execute_result"
    },
    {
     "data": {
      "text/plain": [
       "2019-12-20 00:00:00    0.027763\n",
       "2020-01-30 16:00:00   -0.007098\n",
       "2020-03-12 08:00:00   -0.094402\n",
       "Freq: 1000H, dtype: float64"
      ]
     },
     "execution_count": 303,
     "metadata": {},
     "output_type": "execute_result"
    }
   ],
   "source": [
    "# origin参数\n",
    "time_series.resample(rule='1000H').mean()\n",
    "time_series.resample(rule='1000H', origin='start').mean()  # 以区间最开始时间作为原点  \n",
    "time_series.resample(rule='1000H', origin='start_day').mean() # 以区间最开始那一天的午夜点为原点\n",
    "time_series.resample(rule='1000H', origin='epoch').mean()"
   ]
  },
  {
   "cell_type": "code",
   "execution_count": 307,
   "metadata": {
    "hidden": true
   },
   "outputs": [
    {
     "data": {
      "text/plain": [
       "2020-01-01    0.370813\n",
       "2020-01-11   -0.657081\n",
       "2020-01-21    0.369556\n",
       "2020-01-31    0.185829\n",
       "2020-02-10   -0.206455\n",
       "2020-02-20   -0.180082\n",
       "2020-03-01    0.140963\n",
       "2020-03-11   -0.312580\n",
       "2020-03-21   -0.128349\n",
       "2020-03-31    0.197808\n",
       "Freq: 10D, dtype: float64"
      ]
     },
     "execution_count": 307,
     "metadata": {},
     "output_type": "execute_result"
    },
    {
     "data": {
      "text/plain": [
       "2019-12-24   -0.048649\n",
       "2020-01-03    0.165839\n",
       "2020-01-13   -0.372825\n",
       "2020-01-23    0.489138\n",
       "2020-02-02   -0.054974\n",
       "2020-02-12   -0.262656\n",
       "2020-02-22   -0.233507\n",
       "2020-03-03    0.250828\n",
       "2020-03-13   -0.222385\n",
       "2020-03-23    0.077684\n",
       "2020-04-02   -0.058738\n",
       "Freq: 10D, dtype: float64"
      ]
     },
     "execution_count": 307,
     "metadata": {},
     "output_type": "execute_result"
    }
   ],
   "source": [
    "# offset参数 同base参数\n",
    "time_series.resample(rule='10D').mean()\n",
    "time_series.resample(rule='10D', offset='2D').mean()  # offset='2D'，以默认状态为原点，向前偏移10-2的单位"
   ]
  },
  {
   "cell_type": "markdown",
   "metadata": {
    "hidden": true
   },
   "source": [
    "### （二）向下采样"
   ]
  },
  {
   "cell_type": "markdown",
   "metadata": {
    "hidden": true
   },
   "source": [
    "**高频向低频转换**"
   ]
  },
  {
   "cell_type": "code",
   "execution_count": 323,
   "metadata": {
    "hidden": true
   },
   "outputs": [
    {
     "data": {
      "text/plain": [
       "2020-01-01 00:00:00     1\n",
       "2020-01-01 00:01:00     2\n",
       "2020-01-01 00:02:00     3\n",
       "2020-01-01 00:03:00     4\n",
       "2020-01-01 00:04:00     5\n",
       "2020-01-01 00:05:00     6\n",
       "2020-01-01 00:06:00     7\n",
       "2020-01-01 00:07:00     8\n",
       "2020-01-01 00:08:00     9\n",
       "2020-01-01 00:09:00    10\n",
       "2020-01-01 00:10:00    11\n",
       "2020-01-01 00:11:00    12\n",
       "Freq: T, dtype: int32"
      ]
     },
     "execution_count": 323,
     "metadata": {},
     "output_type": "execute_result"
    }
   ],
   "source": [
    "# 生成时间序列\n",
    "rng = pd.date_range('2020-01-01', periods=12, freq='T')\n",
    "\n",
    "time_series = pd.Series(np.arange(1,13), index=rng)\n",
    "\n",
    "time_series"
   ]
  },
  {
   "cell_type": "code",
   "execution_count": 325,
   "metadata": {
    "hidden": true
   },
   "outputs": [
    {
     "data": {
      "text/plain": [
       "2020-01-01 00:00:00    15\n",
       "2020-01-01 00:05:00    40\n",
       "2020-01-01 00:10:00    23\n",
       "Freq: 5T, dtype: int32"
      ]
     },
     "execution_count": 325,
     "metadata": {},
     "output_type": "execute_result"
    },
    {
     "data": {
      "text/plain": [
       "2019-12-31 23:55:00     1\n",
       "2020-01-01 00:00:00    20\n",
       "2020-01-01 00:05:00    45\n",
       "2020-01-01 00:10:00    12\n",
       "Freq: 5T, dtype: int32"
      ]
     },
     "execution_count": 325,
     "metadata": {},
     "output_type": "execute_result"
    }
   ],
   "source": [
    "time_series.resample(rule='5min', closed='left').sum()\n",
    "time_series.resample(rule='5min', closed='right').sum()"
   ]
  },
  {
   "cell_type": "markdown",
   "metadata": {
    "hidden": true
   },
   "source": [
    "### （三）向上采样"
   ]
  },
  {
   "cell_type": "markdown",
   "metadata": {
    "hidden": true
   },
   "source": [
    "**低频向高频转换**"
   ]
  },
  {
   "cell_type": "code",
   "execution_count": 331,
   "metadata": {
    "hidden": true
   },
   "outputs": [
    {
     "data": {
      "text/plain": [
       "2020-01-31    1\n",
       "2020-02-29    2\n",
       "Freq: M, dtype: int32"
      ]
     },
     "execution_count": 331,
     "metadata": {},
     "output_type": "execute_result"
    }
   ],
   "source": [
    "# 生成时间序列\n",
    "rng = pd.date_range('2020-01-01', periods=2, freq='M')\n",
    "\n",
    "time_series = pd.Series(np.arange(1,3), index=rng)\n",
    "\n",
    "time_series"
   ]
  },
  {
   "cell_type": "code",
   "execution_count": 335,
   "metadata": {
    "hidden": true
   },
   "outputs": [
    {
     "data": {
      "text/plain": [
       "2020-01-31    1.0\n",
       "2020-02-01    NaN\n",
       "2020-02-02    NaN\n",
       "2020-02-03    NaN\n",
       "2020-02-04    NaN\n",
       "Freq: D, dtype: float64"
      ]
     },
     "execution_count": 335,
     "metadata": {},
     "output_type": "execute_result"
    }
   ],
   "source": [
    "time_series.resample(rule='D').asfreq().head()"
   ]
  },
  {
   "cell_type": "code",
   "execution_count": 334,
   "metadata": {
    "hidden": true
   },
   "outputs": [
    {
     "data": {
      "text/plain": [
       "2020-01-31    1\n",
       "2020-02-01    1\n",
       "2020-02-02    1\n",
       "2020-02-03    1\n",
       "2020-02-04    1\n",
       "Freq: D, dtype: int32"
      ]
     },
     "execution_count": 334,
     "metadata": {},
     "output_type": "execute_result"
    }
   ],
   "source": [
    "time_series.resample(rule='D').ffill().head()"
   ]
  },
  {
   "cell_type": "markdown",
   "metadata": {},
   "source": [
    "## 八、移动窗口函数"
   ]
  },
  {
   "cell_type": "markdown",
   "metadata": {},
   "source": [
    "### （一）df.rolling()"
   ]
  },
  {
   "cell_type": "markdown",
   "metadata": {},
   "source": [
    "```python\n",
    "DataFrame.rolling(window, min_periods=None, center=False, win_type=None, on=None, axis=0, closed=None)\n",
    "```\n",
    "\n",
    "**Parameters:**\n",
    "> * **window:** int, offset, or BaseIndexer subclass  （时间窗的大小）\n",
    "    * Size of the moving window. This is the number of observations used for calculating the statistic. Each window will be a fixed size.\n",
    "    * If its an offset then this will be the time period of each window. Each window will be a variable sized based on the observations included in the time-period. This is only valid for datetimelike indexes.\n",
    "    * If a BaseIndexer subclass is passed, calculates the window boundaries based on the defined get_window_bounds method. Additional rolling keyword arguments, namely min_periods, center, and closed will be passed to get_window_bounds.\n",
    "\n",
    "> * **min_periods:** int, default None  （每个窗口最少包含的观测值数量，小于这个值的窗口结果为NA。）\n",
    "    * Minimum number of observations in window required to have a value (otherwise result is NA). For a window that is specified by an offset, min_periods will default to 1. Otherwise, min_periods will default to the size of the window.\n",
    "\n",
    "> * **center:** bool, default False  （把窗口的标签设置为居中。）\n",
    "    * Set the labels at the center of the window.\n",
    "\n",
    "> * **win_type:** str, default None  （窗口的类型。截取窗的各种[函数](https://docs.scipy.org/doc/scipy/reference/signal.html#window-functions)。）\n",
    "    * Provide a window type. If None, all points are evenly weighted. See the notes below for further information.\n",
    "\n",
    "> * **on:** str, optional  （对于dataframe而言，指定要计算滚动窗口的列）\n",
    "    * For a DataFrame, a datetime-like column or MultiIndex level on which to calculate the rolling window, rather than the DataFrame’s index. Provided integer column is ignored and excluded from result since an integer index is not used to calculate the rolling window.\n",
    "\n",
    "> * **axis：** int or str, default 0  （轴向）\n",
    "\n",
    "> * **closed:** str, default None  （定义区间的开闭）\n",
    "    * Make the interval closed on the ‘right’, ‘left’, ‘both’ or ‘neither’ endpoints. For offset-based windows, it defaults to ‘right’. For fixed windows, defaults to ‘both’. Remaining cases not implemented for fixed windows.\n",
    "\n",
    "**Returns：**\n",
    "> * a Window or Rolling sub-classed for the particular operation"
   ]
  },
  {
   "cell_type": "markdown",
   "metadata": {},
   "source": [
    "**参考：** https://blog.csdn.net/maymay_/article/details/80241627"
   ]
  },
  {
   "cell_type": "markdown",
   "metadata": {},
   "source": [
    "#### 1. 概念理解"
   ]
  },
  {
   "cell_type": "markdown",
   "metadata": {},
   "source": [
    "为了提升数据的准确性，将某个点的取值扩大到包含这个点的一段区间，用区间来进行判断，这个区间就是窗口。移动窗口就是窗口向一端滑行，默认是从右往左，每次滑行并不是区间整块的滑行，而是一个单位一个单位的滑行。"
   ]
  },
  {
   "cell_type": "markdown",
   "metadata": {},
   "source": [
    "如下：首先我们设置的窗口window=3，也就是3个数取一个均值。\n",
    "\n",
    "index 0,1 为NaN，是因为它们前面都不够3个数，\n",
    "\n",
    "index2 的时候，（index0+index1+index2 ）/3\n",
    "\n",
    "index3 的时候，（ index1+index2+index3）/ 3"
   ]
  },
  {
   "cell_type": "code",
   "execution_count": 337,
   "metadata": {},
   "outputs": [
    {
     "data": {
      "text/plain": [
       "0     1\n",
       "1     2\n",
       "2     3\n",
       "3     5\n",
       "4     6\n",
       "5    10\n",
       "6    12\n",
       "7    14\n",
       "8    12\n",
       "9    30\n",
       "dtype: int64"
      ]
     },
     "execution_count": 337,
     "metadata": {},
     "output_type": "execute_result"
    },
    {
     "data": {
      "text/plain": [
       "0          NaN\n",
       "1          NaN\n",
       "2     2.000000\n",
       "3     3.333333\n",
       "4     4.666667\n",
       "5     7.000000\n",
       "6     9.333333\n",
       "7    12.000000\n",
       "8    12.666667\n",
       "9    18.666667\n",
       "dtype: float64"
      ]
     },
     "execution_count": 337,
     "metadata": {},
     "output_type": "execute_result"
    }
   ],
   "source": [
    "s = [1,2,3,5,6,10,12,14,12,30]\n",
    "series = pd.Series(s)\n",
    "series\n",
    "\n",
    "series.rolling(3).mean()"
   ]
  },
  {
   "cell_type": "markdown",
   "metadata": {},
   "source": [
    "#### 2. 实例展示"
   ]
  },
  {
   "cell_type": "code",
   "execution_count": 339,
   "metadata": {},
   "outputs": [
    {
     "data": {
      "text/html": [
       "<div>\n",
       "<style scoped>\n",
       "    .dataframe tbody tr th:only-of-type {\n",
       "        vertical-align: middle;\n",
       "    }\n",
       "\n",
       "    .dataframe tbody tr th {\n",
       "        vertical-align: top;\n",
       "    }\n",
       "\n",
       "    .dataframe thead th {\n",
       "        text-align: right;\n",
       "    }\n",
       "</style>\n",
       "<table border=\"1\" class=\"dataframe\">\n",
       "  <thead>\n",
       "    <tr style=\"text-align: right;\">\n",
       "      <th></th>\n",
       "      <th>Unnamed: 0</th>\n",
       "      <th>AAPL</th>\n",
       "      <th>MSFT</th>\n",
       "      <th>XOM</th>\n",
       "      <th>SPX</th>\n",
       "    </tr>\n",
       "  </thead>\n",
       "  <tbody>\n",
       "    <tr>\n",
       "      <th>0</th>\n",
       "      <td>2003-01-02 00:00:00</td>\n",
       "      <td>7.40</td>\n",
       "      <td>21.11</td>\n",
       "      <td>29.22</td>\n",
       "      <td>909.03</td>\n",
       "    </tr>\n",
       "    <tr>\n",
       "      <th>1</th>\n",
       "      <td>2003-01-03 00:00:00</td>\n",
       "      <td>7.45</td>\n",
       "      <td>21.14</td>\n",
       "      <td>29.24</td>\n",
       "      <td>908.59</td>\n",
       "    </tr>\n",
       "    <tr>\n",
       "      <th>2</th>\n",
       "      <td>2003-01-06 00:00:00</td>\n",
       "      <td>7.45</td>\n",
       "      <td>21.52</td>\n",
       "      <td>29.96</td>\n",
       "      <td>929.01</td>\n",
       "    </tr>\n",
       "    <tr>\n",
       "      <th>3</th>\n",
       "      <td>2003-01-07 00:00:00</td>\n",
       "      <td>7.43</td>\n",
       "      <td>21.93</td>\n",
       "      <td>28.95</td>\n",
       "      <td>922.93</td>\n",
       "    </tr>\n",
       "    <tr>\n",
       "      <th>4</th>\n",
       "      <td>2003-01-08 00:00:00</td>\n",
       "      <td>7.28</td>\n",
       "      <td>21.31</td>\n",
       "      <td>28.83</td>\n",
       "      <td>909.93</td>\n",
       "    </tr>\n",
       "  </tbody>\n",
       "</table>\n",
       "</div>"
      ],
      "text/plain": [
       "            Unnamed: 0  AAPL   MSFT    XOM     SPX\n",
       "0  2003-01-02 00:00:00  7.40  21.11  29.22  909.03\n",
       "1  2003-01-03 00:00:00  7.45  21.14  29.24  908.59\n",
       "2  2003-01-06 00:00:00  7.45  21.52  29.96  929.01\n",
       "3  2003-01-07 00:00:00  7.43  21.93  28.95  922.93\n",
       "4  2003-01-08 00:00:00  7.28  21.31  28.83  909.93"
      ]
     },
     "execution_count": 339,
     "metadata": {},
     "output_type": "execute_result"
    }
   ],
   "source": [
    "data = pd.read_csv('.\\\\data_for_book\\\\chapter_11\\\\stock_px_2.csv')\n",
    "data.head()"
   ]
  },
  {
   "cell_type": "code",
   "execution_count": 356,
   "metadata": {},
   "outputs": [
    {
     "data": {
      "text/plain": [
       "<Figure size 432x288 with 0 Axes>"
      ]
     },
     "execution_count": 356,
     "metadata": {},
     "output_type": "execute_result"
    },
    {
     "data": {
      "text/plain": [
       "<matplotlib.axes._subplots.AxesSubplot at 0x256c41bb160>"
      ]
     },
     "execution_count": 356,
     "metadata": {},
     "output_type": "execute_result"
    },
    {
     "data": {
      "text/plain": [
       "<matplotlib.axes._subplots.AxesSubplot at 0x256c41bb160>"
      ]
     },
     "execution_count": 356,
     "metadata": {},
     "output_type": "execute_result"
    },
    {
     "data": {
      "image/png": "[encoded data removed]",
      "text/plain": [
       "<Figure size 432x288 with 1 Axes>"
      ]
     },
     "metadata": {
      "needs_background": "light"
     },
     "output_type": "display_data"
    }
   ],
   "source": [
    "plt.figure()\n",
    "\n",
    "data['AAPL'].plot()\n",
    "\n",
    "data['AAPL'].rolling(250).mean().plot()  # 移动平均\n",
    "\n",
    "plt.show()"
   ]
  },
  {
   "cell_type": "code",
   "execution_count": 357,
   "metadata": {},
   "outputs": [
    {
     "data": {
      "text/plain": [
       "<Figure size 432x288 with 0 Axes>"
      ]
     },
     "execution_count": 357,
     "metadata": {},
     "output_type": "execute_result"
    },
    {
     "data": {
      "text/plain": [
       "<matplotlib.axes._subplots.AxesSubplot at 0x256c4222cf8>"
      ]
     },
     "execution_count": 357,
     "metadata": {},
     "output_type": "execute_result"
    },
    {
     "data": {
      "text/plain": [
       "<matplotlib.axes._subplots.AxesSubplot at 0x256c426d978>"
      ]
     },
     "execution_count": 357,
     "metadata": {},
     "output_type": "execute_result"
    },
    {
     "data": {
      "text/plain": [
       "<Figure size 432x288 with 0 Axes>"
      ]
     },
     "metadata": {},
     "output_type": "display_data"
    },
    {
     "data": {
      "image/png": "[encoded data removed]",
      "text/plain": [
       "<Figure size 432x288 with 1 Axes>"
      ]
     },
     "metadata": {
      "needs_background": "light"
     },
     "output_type": "display_data"
    },
    {
     "data": {
      "image/png": "[encoded data removed]",
      "text/plain": [
       "<Figure size 432x288 with 1 Axes>"
      ]
     },
     "metadata": {
      "needs_background": "light"
     },
     "output_type": "display_data"
    }
   ],
   "source": [
    "plt.figure()\n",
    "\n",
    "data.plot()\n",
    "\n",
    "data.rolling(250).mean().plot()  # 移动平均\n",
    "\n",
    "plt.show()"
   ]
  },
  {
   "cell_type": "markdown",
   "metadata": {},
   "source": [
    "### （二）df.expanding()"
   ]
  },
  {
   "cell_type": "markdown",
   "metadata": {},
   "source": [
    "```python\n",
    "DataFrame.expanding(min_periods=1, center=None, axis=0)\n",
    "```\n",
    "**Parameters:**\n",
    "> * **min_periods:** int, default 1\n",
    "    * Minimum number of observations in window required to have a value (otherwise result is NA).\n",
    "\n",
    "> * **center:** bool, default False\n",
    "    * Set the labels at the center of the window.\n",
    "\n",
    "> * **axis:** int or str, default 0\n",
    "\n",
    "**Returns:**\n",
    "> * a Window sub-classed for the particular operation"
   ]
  },
  {
   "cell_type": "markdown",
   "metadata": {},
   "source": [
    "#### 1. 概念理解"
   ]
  },
  {
   "cell_type": "markdown",
   "metadata": {},
   "source": [
    "expanding是窗口累计，一个一个index进行累计，不断扩展\n",
    "\n",
    "如下：expanding后：\n",
    "\n",
    "index1: 1/1\n",
    "\n",
    "index2: (1 + 2) / 2\n",
    "\n",
    "index3: (1 + 2 + 3) / 3\n",
    "\n",
    "..."
   ]
  },
  {
   "cell_type": "code",
   "execution_count": 353,
   "metadata": {},
   "outputs": [
    {
     "data": {
      "text/plain": [
       "0     1\n",
       "1     2\n",
       "2     3\n",
       "3     5\n",
       "4     6\n",
       "5    10\n",
       "6    12\n",
       "7    14\n",
       "8    12\n",
       "9    30\n",
       "dtype: int64"
      ]
     },
     "execution_count": 353,
     "metadata": {},
     "output_type": "execute_result"
    },
    {
     "data": {
      "text/plain": [
       "0    1.000000\n",
       "1    1.500000\n",
       "2    2.000000\n",
       "3    2.750000\n",
       "4    3.400000\n",
       "5    4.500000\n",
       "6    5.571429\n",
       "7    6.625000\n",
       "8    7.222222\n",
       "9    9.500000\n",
       "dtype: float64"
      ]
     },
     "execution_count": 353,
     "metadata": {},
     "output_type": "execute_result"
    }
   ],
   "source": [
    "s = [1,2,3,5,6,10,12,14,12,30]\n",
    "series = pd.Series(s)\n",
    "series\n",
    "\n",
    "series.expanding().mean()"
   ]
  },
  {
   "cell_type": "code",
   "execution_count": 354,
   "metadata": {},
   "outputs": [
    {
     "data": {
      "text/html": [
       "<div>\n",
       "<style scoped>\n",
       "    .dataframe tbody tr th:only-of-type {\n",
       "        vertical-align: middle;\n",
       "    }\n",
       "\n",
       "    .dataframe tbody tr th {\n",
       "        vertical-align: top;\n",
       "    }\n",
       "\n",
       "    .dataframe thead th {\n",
       "        text-align: right;\n",
       "    }\n",
       "</style>\n",
       "<table border=\"1\" class=\"dataframe\">\n",
       "  <thead>\n",
       "    <tr style=\"text-align: right;\">\n",
       "      <th></th>\n",
       "      <th>Unnamed: 0</th>\n",
       "      <th>AAPL</th>\n",
       "      <th>MSFT</th>\n",
       "      <th>XOM</th>\n",
       "      <th>SPX</th>\n",
       "    </tr>\n",
       "  </thead>\n",
       "  <tbody>\n",
       "    <tr>\n",
       "      <th>0</th>\n",
       "      <td>2003-01-02 00:00:00</td>\n",
       "      <td>7.40</td>\n",
       "      <td>21.11</td>\n",
       "      <td>29.22</td>\n",
       "      <td>909.03</td>\n",
       "    </tr>\n",
       "    <tr>\n",
       "      <th>1</th>\n",
       "      <td>2003-01-03 00:00:00</td>\n",
       "      <td>7.45</td>\n",
       "      <td>21.14</td>\n",
       "      <td>29.24</td>\n",
       "      <td>908.59</td>\n",
       "    </tr>\n",
       "    <tr>\n",
       "      <th>2</th>\n",
       "      <td>2003-01-06 00:00:00</td>\n",
       "      <td>7.45</td>\n",
       "      <td>21.52</td>\n",
       "      <td>29.96</td>\n",
       "      <td>929.01</td>\n",
       "    </tr>\n",
       "    <tr>\n",
       "      <th>3</th>\n",
       "      <td>2003-01-07 00:00:00</td>\n",
       "      <td>7.43</td>\n",
       "      <td>21.93</td>\n",
       "      <td>28.95</td>\n",
       "      <td>922.93</td>\n",
       "    </tr>\n",
       "    <tr>\n",
       "      <th>4</th>\n",
       "      <td>2003-01-08 00:00:00</td>\n",
       "      <td>7.28</td>\n",
       "      <td>21.31</td>\n",
       "      <td>28.83</td>\n",
       "      <td>909.93</td>\n",
       "    </tr>\n",
       "  </tbody>\n",
       "</table>\n",
       "</div>"
      ],
      "text/plain": [
       "            Unnamed: 0  AAPL   MSFT    XOM     SPX\n",
       "0  2003-01-02 00:00:00  7.40  21.11  29.22  909.03\n",
       "1  2003-01-03 00:00:00  7.45  21.14  29.24  908.59\n",
       "2  2003-01-06 00:00:00  7.45  21.52  29.96  929.01\n",
       "3  2003-01-07 00:00:00  7.43  21.93  28.95  922.93\n",
       "4  2003-01-08 00:00:00  7.28  21.31  28.83  909.93"
      ]
     },
     "execution_count": 354,
     "metadata": {},
     "output_type": "execute_result"
    }
   ],
   "source": [
    "data = pd.read_csv('.\\\\data_for_book\\\\chapter_11\\\\stock_px_2.csv')\n",
    "data.head()"
   ]
  },
  {
   "cell_type": "code",
   "execution_count": 355,
   "metadata": {},
   "outputs": [
    {
     "data": {
      "text/plain": [
       "<Figure size 432x288 with 0 Axes>"
      ]
     },
     "execution_count": 355,
     "metadata": {},
     "output_type": "execute_result"
    },
    {
     "data": {
      "text/plain": [
       "<matplotlib.axes._subplots.AxesSubplot at 0x256c4684438>"
      ]
     },
     "execution_count": 355,
     "metadata": {},
     "output_type": "execute_result"
    },
    {
     "data": {
      "text/plain": [
       "<matplotlib.axes._subplots.AxesSubplot at 0x256c4684438>"
      ]
     },
     "execution_count": 355,
     "metadata": {},
     "output_type": "execute_result"
    },
    {
     "data": {
      "image/png": "[encoded data removed]",
      "text/plain": [
       "<Figure size 432x288 with 1 Axes>"
      ]
     },
     "metadata": {
      "needs_background": "light"
     },
     "output_type": "display_data"
    }
   ],
   "source": [
    "plt.figure()\n",
    "\n",
    "data['AAPL'].plot()\n",
    "\n",
    "data['AAPL'].expanding().mean().plot()  # 移动平均\n",
    "\n",
    "plt.show()"
   ]
  },
  {
   "cell_type": "code",
   "execution_count": null,
   "metadata": {},
   "outputs": [],
   "source": []
  }
 ],
 "metadata": {
  "kernelspec": {
   "display_name": "Python 3",
   "language": "python",
   "name": "python3"
  },
  "language_info": {
   "codemirror_mode": {
    "name": "ipython",
    "version": 3
   },
   "file_extension": ".py",
   "mimetype": "text/x-python",
   "name": "python",
   "nbconvert_exporter": "python",
   "pygments_lexer": "ipython3",
   "version": "3.7.3"
  }
 },
 "nbformat": 4,
 "nbformat_minor": 2
}
