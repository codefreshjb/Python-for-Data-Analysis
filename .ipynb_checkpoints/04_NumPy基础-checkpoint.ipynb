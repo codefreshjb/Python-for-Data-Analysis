{
 "cells": [
  {
   "cell_type": "code",
   "execution_count": 2,
   "metadata": {},
   "outputs": [],
   "source": [
    "import numpy as np"
   ]
  },
  {
   "cell_type": "markdown",
   "metadata": {},
   "source": [
    "## 一、ndarray - 多维数组对象"
   ]
  },
  {
   "cell_type": "markdown",
   "metadata": {
    "heading_collapsed": true
   },
   "source": [
    "### （一）定义"
   ]
  },
  {
   "cell_type": "markdown",
   "metadata": {
    "hidden": true
   },
   "source": [
    "* ndarray对象是用于存放同类型元素的多维数组，是numpy中的基本对象之一。\n",
    "* 一个ndarray是一个通用的多维同类数据容器，也就是说，它包含的每一个元素均为相同类型。每一个数组都有一个shape属性，用来表征数组每一维度的数量；每一个数组都有一个dtype属性，用来描述数组的数据类型。"
   ]
  },
  {
   "cell_type": "markdown",
   "metadata": {
    "heading_collapsed": true
   },
   "source": [
    "### （二）生成"
   ]
  },
  {
   "cell_type": "markdown",
   "metadata": {
    "hidden": true
   },
   "source": [
    "#### 1. np.array()"
   ]
  },
  {
   "cell_type": "code",
   "execution_count": 225,
   "metadata": {
    "hidden": true
   },
   "outputs": [
    {
     "name": "stdout",
     "output_type": "stream",
     "text": [
      "[1 2 3 4]\n",
      "(4,)\n",
      "int32\n"
     ]
    }
   ],
   "source": [
    "# 1\n",
    "arr_1 = np.array([1, 2, 3, 4])\n",
    "print(arr_1)\n",
    "print(arr_1.shape)\n",
    "print(arr_1.dtype)"
   ]
  },
  {
   "cell_type": "code",
   "execution_count": 226,
   "metadata": {
    "hidden": true
   },
   "outputs": [
    {
     "name": "stdout",
     "output_type": "stream",
     "text": [
      "[[1. 2. 3. 4.]\n",
      " [2. 4. 6. 8.]]\n",
      "(2, 4)\n",
      "float64\n"
     ]
    }
   ],
   "source": [
    "# 2\n",
    "arr_2 = np.array([[1.0, 2.0, 3.0, 4.0], [2.0, 4.0, 6.0, 8.0]])\n",
    "print(arr_2)\n",
    "print(arr_2.shape)\n",
    "print(arr_2.dtype)"
   ]
  },
  {
   "cell_type": "markdown",
   "metadata": {
    "hidden": true
   },
   "source": [
    "#### 2. np.zeros()"
   ]
  },
  {
   "cell_type": "code",
   "execution_count": 227,
   "metadata": {
    "hidden": true
   },
   "outputs": [
    {
     "data": {
      "text/plain": [
       "array([0., 0., 0., 0., 0., 0., 0., 0., 0., 0.])"
      ]
     },
     "execution_count": 227,
     "metadata": {},
     "output_type": "execute_result"
    }
   ],
   "source": [
    "# 1\n",
    "zro_1 = np.zeros(10)\n",
    "zro_1"
   ]
  },
  {
   "cell_type": "code",
   "execution_count": 228,
   "metadata": {
    "hidden": true
   },
   "outputs": [
    {
     "data": {
      "text/plain": [
       "array([[0., 0., 0., 0., 0., 0.],\n",
       "       [0., 0., 0., 0., 0., 0.],\n",
       "       [0., 0., 0., 0., 0., 0.],\n",
       "       [0., 0., 0., 0., 0., 0.]])"
      ]
     },
     "execution_count": 228,
     "metadata": {},
     "output_type": "execute_result"
    }
   ],
   "source": [
    "# 2\n",
    "zro_2 = np.zeros((4,6))\n",
    "zro_2"
   ]
  },
  {
   "cell_type": "code",
   "execution_count": 229,
   "metadata": {
    "hidden": true
   },
   "outputs": [
    {
     "data": {
      "text/plain": [
       "array([[[0., 0., 0., 0.],\n",
       "        [0., 0., 0., 0.],\n",
       "        [0., 0., 0., 0.]],\n",
       "\n",
       "       [[0., 0., 0., 0.],\n",
       "        [0., 0., 0., 0.],\n",
       "        [0., 0., 0., 0.]]])"
      ]
     },
     "execution_count": 229,
     "metadata": {},
     "output_type": "execute_result"
    }
   ],
   "source": [
    "# 3\n",
    "zro_3 = np.zeros((2, 3, 4))   # zeros(m, n, p) m 维度数  n 行数  p 列数\n",
    "zro_3"
   ]
  },
  {
   "cell_type": "markdown",
   "metadata": {
    "hidden": true
   },
   "source": [
    "#### 3. np.ones()"
   ]
  },
  {
   "cell_type": "code",
   "execution_count": 230,
   "metadata": {
    "hidden": true
   },
   "outputs": [
    {
     "data": {
      "text/plain": [
       "array([1., 1., 1., 1., 1.])"
      ]
     },
     "execution_count": 230,
     "metadata": {},
     "output_type": "execute_result"
    }
   ],
   "source": [
    "# 1\n",
    "ones_1 = np.ones(5)\n",
    "ones_1"
   ]
  },
  {
   "cell_type": "code",
   "execution_count": 231,
   "metadata": {
    "hidden": true
   },
   "outputs": [
    {
     "data": {
      "text/plain": [
       "array([[1., 1., 1., 1., 1.],\n",
       "       [1., 1., 1., 1., 1.],\n",
       "       [1., 1., 1., 1., 1.]])"
      ]
     },
     "execution_count": 231,
     "metadata": {},
     "output_type": "execute_result"
    }
   ],
   "source": [
    "# 2\n",
    "ones_2 = np.ones((3, 5))\n",
    "ones_2"
   ]
  },
  {
   "cell_type": "code",
   "execution_count": 232,
   "metadata": {
    "hidden": true
   },
   "outputs": [
    {
     "data": {
      "text/plain": [
       "array([[[1., 1., 1., 1.],\n",
       "        [1., 1., 1., 1.],\n",
       "        [1., 1., 1., 1.]],\n",
       "\n",
       "       [[1., 1., 1., 1.],\n",
       "        [1., 1., 1., 1.],\n",
       "        [1., 1., 1., 1.]]])"
      ]
     },
     "execution_count": 232,
     "metadata": {},
     "output_type": "execute_result"
    }
   ],
   "source": [
    "# 3\n",
    "ones_3 = np.ones((2, 3, 4))\n",
    "ones_3"
   ]
  },
  {
   "cell_type": "markdown",
   "metadata": {
    "hidden": true
   },
   "source": [
    "#### 4. np.empty()"
   ]
  },
  {
   "cell_type": "code",
   "execution_count": 233,
   "metadata": {
    "hidden": true
   },
   "outputs": [
    {
     "data": {
      "text/plain": [
       "array([7.74860419e-304, 7.74860419e-304, 7.74860419e-304])"
      ]
     },
     "execution_count": 233,
     "metadata": {},
     "output_type": "execute_result"
    }
   ],
   "source": [
    "# 1\n",
    "empty_1 = np.empty(3)\n",
    "empty_1"
   ]
  },
  {
   "cell_type": "code",
   "execution_count": 234,
   "metadata": {
    "hidden": true
   },
   "outputs": [
    {
     "data": {
      "text/plain": [
       "array([[ 56.90961039, 103.97454545, 151.03948052],\n",
       "       [198.10441558, 245.16935065, 241.64      ]])"
      ]
     },
     "execution_count": 234,
     "metadata": {},
     "output_type": "execute_result"
    }
   ],
   "source": [
    "# 2\n",
    "empty_2 = np.empty((2, 3))\n",
    "empty_2"
   ]
  },
  {
   "cell_type": "code",
   "execution_count": 235,
   "metadata": {
    "hidden": true
   },
   "outputs": [
    {
     "data": {
      "text/plain": [
       "array([[[1., 1., 1., 1.],\n",
       "        [1., 1., 1., 1.],\n",
       "        [1., 1., 1., 1.]],\n",
       "\n",
       "       [[1., 1., 1., 1.],\n",
       "        [1., 1., 1., 1.],\n",
       "        [1., 1., 1., 1.]]])"
      ]
     },
     "execution_count": 235,
     "metadata": {},
     "output_type": "execute_result"
    }
   ],
   "source": [
    "# 3\n",
    "empty_3 = np.empty((2, 3, 4))\n",
    "empty_3"
   ]
  },
  {
   "cell_type": "markdown",
   "metadata": {
    "hidden": true
   },
   "source": [
    "#### 5. np.arange().reshape()"
   ]
  },
  {
   "cell_type": "code",
   "execution_count": 236,
   "metadata": {
    "hidden": true
   },
   "outputs": [
    {
     "name": "stdout",
     "output_type": "stream",
     "text": [
      "[0 1 2 3 4 5 6 7 8 9]\n"
     ]
    },
    {
     "data": {
      "text/plain": [
       "array([[ 0,  1,  2,  3,  4,  5,  6,  7],\n",
       "       [ 8,  9, 10, 11, 12, 13, 14, 15]])"
      ]
     },
     "execution_count": 236,
     "metadata": {},
     "output_type": "execute_result"
    }
   ],
   "source": [
    "range_1 = np.arange(10)\n",
    "print(range_1)\n",
    "# 生成2维\n",
    "arr_range_1 = np.arange(16).reshape(2, 8)\n",
    "arr_range_1"
   ]
  },
  {
   "cell_type": "code",
   "execution_count": 237,
   "metadata": {
    "hidden": true
   },
   "outputs": [
    {
     "data": {
      "text/plain": [
       "array([[[ 0,  1,  2,  3],\n",
       "        [ 4,  5,  6,  7]],\n",
       "\n",
       "       [[ 8,  9, 10, 11],\n",
       "        [12, 13, 14, 15]],\n",
       "\n",
       "       [[16, 17, 18, 19],\n",
       "        [20, 21, 22, 23]],\n",
       "\n",
       "       [[24, 25, 26, 27],\n",
       "        [28, 29, 30, 31]]])"
      ]
     },
     "execution_count": 237,
     "metadata": {},
     "output_type": "execute_result"
    }
   ],
   "source": [
    "# 生成3维\n",
    "arr_range_1 = np.arange(32).reshape(4,2,4)\n",
    "arr_range_1"
   ]
  },
  {
   "cell_type": "code",
   "execution_count": 238,
   "metadata": {
    "hidden": true
   },
   "outputs": [
    {
     "data": {
      "text/plain": [
       "array([[[[ 0,  1,  2,  3],\n",
       "         [ 4,  5,  6,  7],\n",
       "         [ 8,  9, 10, 11],\n",
       "         [12, 13, 14, 15]],\n",
       "\n",
       "        [[16, 17, 18, 19],\n",
       "         [20, 21, 22, 23],\n",
       "         [24, 25, 26, 27],\n",
       "         [28, 29, 30, 31]]],\n",
       "\n",
       "\n",
       "       [[[32, 33, 34, 35],\n",
       "         [36, 37, 38, 39],\n",
       "         [40, 41, 42, 43],\n",
       "         [44, 45, 46, 47]],\n",
       "\n",
       "        [[48, 49, 50, 51],\n",
       "         [52, 53, 54, 55],\n",
       "         [56, 57, 58, 59],\n",
       "         [60, 61, 62, 63]]]])"
      ]
     },
     "execution_count": 238,
     "metadata": {},
     "output_type": "execute_result"
    }
   ],
   "source": [
    "# 生成4维\n",
    "arr_range_1 = np.arange(64).reshape(2,2,4,4)\n",
    "arr_range_1"
   ]
  },
  {
   "cell_type": "markdown",
   "metadata": {
    "hidden": true
   },
   "source": [
    "#### 6. np.random.randn()"
   ]
  },
  {
   "cell_type": "code",
   "execution_count": 239,
   "metadata": {
    "hidden": true
   },
   "outputs": [
    {
     "data": {
      "text/plain": [
       "array([[ 0.87241514, -0.13981717, -1.60195344,  0.31834693],\n",
       "       [-0.50099355,  0.59464868,  1.25572244,  0.59014774],\n",
       "       [ 0.06802696,  0.37669563, -0.12612638, -0.39486957],\n",
       "       [ 1.04695591, -0.85742154, -0.11501075,  1.41654468]])"
      ]
     },
     "execution_count": 239,
     "metadata": {},
     "output_type": "execute_result"
    }
   ],
   "source": [
    "random_1 = np.random.randn(4, 4)\n",
    "random_1"
   ]
  },
  {
   "cell_type": "markdown",
   "metadata": {
    "heading_collapsed": true
   },
   "source": [
    "### （三）基本运算"
   ]
  },
  {
   "cell_type": "code",
   "execution_count": 240,
   "metadata": {
    "hidden": true
   },
   "outputs": [
    {
     "name": "stdout",
     "output_type": "stream",
     "text": [
      "[[ 0  1  2  3  4  5  6  7]\n",
      " [ 8  9 10 11 12 13 14 15]]\n",
      "--------------------------------------------------\n",
      "[[ 0  2  4  6  8 10 12 14]\n",
      " [16 18 20 22 24 26 28 30]]\n"
     ]
    }
   ],
   "source": [
    "arr_1 = np.arange(16).reshape(2, 8)\n",
    "arr_2 = np.array([i*2 for i in range(16)]).reshape(2, 8)\n",
    "print(arr_1)\n",
    "print('-'*50)\n",
    "print(arr_2)"
   ]
  },
  {
   "cell_type": "code",
   "execution_count": 241,
   "metadata": {
    "hidden": true
   },
   "outputs": [
    {
     "data": {
      "text/plain": [
       "array([[ 0,  3,  6,  9, 12, 15, 18, 21],\n",
       "       [24, 27, 30, 33, 36, 39, 42, 45]])"
      ]
     },
     "execution_count": 241,
     "metadata": {},
     "output_type": "execute_result"
    }
   ],
   "source": [
    "# 加\n",
    "arr_1 + arr_2"
   ]
  },
  {
   "cell_type": "code",
   "execution_count": 242,
   "metadata": {
    "hidden": true
   },
   "outputs": [
    {
     "data": {
      "text/plain": [
       "array([[  0,  -1,  -2,  -3,  -4,  -5,  -6,  -7],\n",
       "       [ -8,  -9, -10, -11, -12, -13, -14, -15]])"
      ]
     },
     "execution_count": 242,
     "metadata": {},
     "output_type": "execute_result"
    }
   ],
   "source": [
    "# 减\n",
    "arr_1 - arr_2"
   ]
  },
  {
   "cell_type": "code",
   "execution_count": 243,
   "metadata": {
    "hidden": true
   },
   "outputs": [
    {
     "data": {
      "text/plain": [
       "array([[  0,   2,   8,  18,  32,  50,  72,  98],\n",
       "       [128, 162, 200, 242, 288, 338, 392, 450]])"
      ]
     },
     "execution_count": 243,
     "metadata": {},
     "output_type": "execute_result"
    }
   ],
   "source": [
    "# 乘\n",
    "arr_1 * arr_2"
   ]
  },
  {
   "cell_type": "code",
   "execution_count": 244,
   "metadata": {
    "hidden": true
   },
   "outputs": [
    {
     "name": "stderr",
     "output_type": "stream",
     "text": [
      "D:\\software\\Anaconda\\lib\\site-packages\\ipykernel_launcher.py:2: RuntimeWarning: invalid value encountered in true_divide\n",
      "  \n"
     ]
    },
    {
     "data": {
      "text/plain": [
       "array([[nan, 0.5, 0.5, 0.5, 0.5, 0.5, 0.5, 0.5],\n",
       "       [0.5, 0.5, 0.5, 0.5, 0.5, 0.5, 0.5, 0.5]])"
      ]
     },
     "execution_count": 244,
     "metadata": {},
     "output_type": "execute_result"
    }
   ],
   "source": [
    "# 除\n",
    "arr_1 / arr_2"
   ]
  },
  {
   "cell_type": "code",
   "execution_count": 245,
   "metadata": {
    "hidden": true
   },
   "outputs": [
    {
     "data": {
      "text/plain": [
       "array([[  0,   1,   4,   9,  16,  25,  36,  49],\n",
       "       [ 64,  81, 100, 121, 144, 169, 196, 225]], dtype=int32)"
      ]
     },
     "execution_count": 245,
     "metadata": {},
     "output_type": "execute_result"
    }
   ],
   "source": [
    "# 幂\n",
    "arr_1 ** 2"
   ]
  },
  {
   "cell_type": "code",
   "execution_count": 246,
   "metadata": {
    "hidden": true
   },
   "outputs": [
    {
     "data": {
      "text/plain": [
       "array([[False,  True,  True,  True,  True,  True,  True,  True],\n",
       "       [ True,  True,  True,  True,  True,  True,  True,  True]])"
      ]
     },
     "execution_count": 246,
     "metadata": {},
     "output_type": "execute_result"
    }
   ],
   "source": [
    "# 比较\n",
    "arr_1 < arr_2"
   ]
  },
  {
   "cell_type": "markdown",
   "metadata": {
    "heading_collapsed": true
   },
   "source": [
    "### （四）索引与切片"
   ]
  },
  {
   "cell_type": "markdown",
   "metadata": {
    "hidden": true
   },
   "source": [
    "#### 1. 整数索引"
   ]
  },
  {
   "cell_type": "markdown",
   "metadata": {
    "hidden": true
   },
   "source": [
    "##### 1.1 一维数组"
   ]
  },
  {
   "cell_type": "code",
   "execution_count": 247,
   "metadata": {
    "hidden": true
   },
   "outputs": [
    {
     "data": {
      "text/plain": [
       "array([0, 1, 2, 3, 4, 5, 6, 7, 8, 9])"
      ]
     },
     "execution_count": 247,
     "metadata": {},
     "output_type": "execute_result"
    }
   ],
   "source": [
    "arr_1 = np.arange(10)\n",
    "arr_1"
   ]
  },
  {
   "cell_type": "code",
   "execution_count": 248,
   "metadata": {
    "hidden": true
   },
   "outputs": [
    {
     "data": {
      "text/plain": [
       "2"
      ]
     },
     "execution_count": 248,
     "metadata": {},
     "output_type": "execute_result"
    }
   ],
   "source": [
    "arr_slice_1 = arr_1[2]\n",
    "arr_slice_1"
   ]
  },
  {
   "cell_type": "code",
   "execution_count": 249,
   "metadata": {
    "hidden": true
   },
   "outputs": [
    {
     "data": {
      "text/plain": [
       "array([2, 3, 4])"
      ]
     },
     "execution_count": 249,
     "metadata": {},
     "output_type": "execute_result"
    }
   ],
   "source": [
    "arr_slice_2 = arr_1[2:5]\n",
    "arr_slice_2"
   ]
  },
  {
   "cell_type": "code",
   "execution_count": 250,
   "metadata": {
    "hidden": true
   },
   "outputs": [
    {
     "name": "stdout",
     "output_type": "stream",
     "text": [
      "[333 444 555]\n",
      "[  0   1 333 444 555   5   6   7   8   9]\n"
     ]
    }
   ],
   "source": [
    "# 数组的切片是原数组的视图，这意味着数据并不是被复制，任何对于视图的修改都会反映到原数组上\n",
    "arr_slice_2[:] = [333, 444, 555]\n",
    "print(arr_slice_2)\n",
    "print(arr_1)"
   ]
  },
  {
   "cell_type": "markdown",
   "metadata": {
    "hidden": true
   },
   "source": [
    "##### 1.2 二维数组"
   ]
  },
  {
   "cell_type": "code",
   "execution_count": 251,
   "metadata": {
    "hidden": true
   },
   "outputs": [
    {
     "data": {
      "text/plain": [
       "array([[ 0,  1,  2,  3,  4,  5,  6,  7],\n",
       "       [ 8,  9, 10, 11, 12, 13, 14, 15],\n",
       "       [16, 17, 18, 19, 20, 21, 22, 23],\n",
       "       [24, 25, 26, 27, 28, 29, 30, 31]])"
      ]
     },
     "execution_count": 251,
     "metadata": {},
     "output_type": "execute_result"
    }
   ],
   "source": [
    "arr2_1 = np.arange(32).reshape(4,8)\n",
    "arr2_1"
   ]
  },
  {
   "cell_type": "code",
   "execution_count": 252,
   "metadata": {
    "hidden": true
   },
   "outputs": [
    {
     "name": "stdout",
     "output_type": "stream",
     "text": [
      "[]\n"
     ]
    }
   ],
   "source": [
    "print(arr_2[2:])"
   ]
  },
  {
   "cell_type": "code",
   "execution_count": 253,
   "metadata": {
    "hidden": true
   },
   "outputs": [
    {
     "name": "stdout",
     "output_type": "stream",
     "text": [
      "[ 8  9 10 11 12 13 14 15]\n",
      "--------------------------------------------------\n",
      "10\n",
      "--------------------------------------------------\n",
      "10\n"
     ]
    }
   ],
   "source": [
    "print(arr2_1[1])\n",
    "print('-'*50)\n",
    "print(arr2_1[1][2])\n",
    "print('-'*50)\n",
    "print(arr2_1[1,2])"
   ]
  },
  {
   "cell_type": "code",
   "execution_count": 254,
   "metadata": {
    "hidden": true
   },
   "outputs": [
    {
     "name": "stdout",
     "output_type": "stream",
     "text": [
      "[[ 8  9 10 11 12 13 14 15]\n",
      " [16 17 18 19 20 21 22 23]]\n",
      "--------------------------------------------------\n",
      "[16 17 18 19 20 21 22 23]\n",
      "--------------------------------------------------\n",
      "18\n"
     ]
    }
   ],
   "source": [
    "print(arr2_1[1:3])\n",
    "print('-'*50)\n",
    "print(arr2_1[1:3][1])\n",
    "print('-'*50)\n",
    "print(arr2_1[1:3][1][2])"
   ]
  },
  {
   "cell_type": "markdown",
   "metadata": {
    "hidden": true
   },
   "source": [
    "<img src='.\\img_for_book\\chapter_06\\01_img_2darray_slicing.png' width='600'>"
   ]
  },
  {
   "cell_type": "code",
   "execution_count": 255,
   "metadata": {
    "hidden": true
   },
   "outputs": [
    {
     "name": "stdout",
     "output_type": "stream",
     "text": [
      "[[ 0  1  2  3  4  5  6  7]\n",
      " [ 8  9 10 11 12 13 14 15]\n",
      " [16 17 18 19 20 21 22 23]\n",
      " [24 25 26 27 28 29 30 31]]\n",
      "--------------------------------------------------\n",
      "[[ 0  1  2  3  4  5  6  7]\n",
      " [ 8  9 10 11 12 13 14 15]]\n",
      "[[ 1  2]\n",
      " [ 9 10]]\n",
      "--------------------------------------------------\n",
      "[[16 17 18 19 20 21 22 23]\n",
      " [24 25 26 27 28 29 30 31]]\n",
      "[[19 20 21 22 23]\n",
      " [27 28 29 30 31]]\n",
      "--------------------------------------------------\n",
      "[16 17 18 19 20 21 22 23]\n",
      "[19 20 21 22 23]\n",
      "--------------------------------------------------\n",
      "[ 3 11 19 27]\n"
     ]
    }
   ],
   "source": [
    "print(arr2_1)\n",
    "print('-'*50)\n",
    "\n",
    "print(arr2_1[:2])\n",
    "print(arr2_1[:2, 1:3])\n",
    "print('-'*50)\n",
    "\n",
    "print(arr2_1[2:])\n",
    "print(arr2_1[2:, 3:])\n",
    "print('-'*50)\n",
    "\n",
    "print(arr2_1[2])\n",
    "print(arr2_1[2, 3:])\n",
    "print('-'*50)\n",
    "\n",
    "print(arr2_1[:, 3])"
   ]
  },
  {
   "cell_type": "markdown",
   "metadata": {
    "hidden": true
   },
   "source": [
    "##### 1.3 多维数组（大于2维）"
   ]
  },
  {
   "cell_type": "code",
   "execution_count": 256,
   "metadata": {
    "hidden": true
   },
   "outputs": [
    {
     "data": {
      "text/plain": [
       "array([[[ 0,  1,  2],\n",
       "        [ 3,  4,  5],\n",
       "        [ 6,  7,  8]],\n",
       "\n",
       "       [[ 9, 10, 11],\n",
       "        [12, 13, 14],\n",
       "        [15, 16, 17]],\n",
       "\n",
       "       [[18, 19, 20],\n",
       "        [21, 22, 23],\n",
       "        [24, 25, 26]],\n",
       "\n",
       "       [[27, 28, 29],\n",
       "        [30, 31, 32],\n",
       "        [33, 34, 35]]])"
      ]
     },
     "execution_count": 256,
     "metadata": {},
     "output_type": "execute_result"
    }
   ],
   "source": [
    "arr3_1 = np.arange(36).reshape(4,3,3)\n",
    "arr3_1"
   ]
  },
  {
   "cell_type": "code",
   "execution_count": 257,
   "metadata": {
    "hidden": true
   },
   "outputs": [
    {
     "name": "stdout",
     "output_type": "stream",
     "text": [
      "[[[ 0  1  2]\n",
      "  [ 3  4  5]\n",
      "  [ 6  7  8]]\n",
      "\n",
      " [[ 9 10 11]\n",
      "  [12 13 14]\n",
      "  [15 16 17]]]\n",
      "--------------------------------------------------\n",
      "[[[ 0  1  2]\n",
      "  [ 3  4  5]]\n",
      "\n",
      " [[ 9 10 11]\n",
      "  [12 13 14]]]\n",
      "--------------------------------------------------\n",
      "[[[ 0  1]\n",
      "  [ 3  4]]\n",
      "\n",
      " [[ 9 10]\n",
      "  [12 13]]]\n"
     ]
    }
   ],
   "source": [
    "print(arr3_1[0:2])\n",
    "print('-'*50)\n",
    "print(arr3_1[0:2, 0:2])\n",
    "print('-'*50)\n",
    "print(arr3_1[0:2, 0:2, 0:2])"
   ]
  },
  {
   "cell_type": "markdown",
   "metadata": {
    "hidden": true
   },
   "source": [
    "#### 2. 布尔索引"
   ]
  },
  {
   "cell_type": "code",
   "execution_count": 258,
   "metadata": {
    "hidden": true
   },
   "outputs": [
    {
     "data": {
      "text/plain": [
       "array([[-0.87540202,  1.75815788,  0.31334311,  1.05297516],\n",
       "       [ 0.22024428, -1.19947737, -1.02264892, -1.25808652],\n",
       "       [ 1.42126527,  2.1918395 ,  0.70547433,  0.89515083],\n",
       "       [ 1.32960284,  1.17671603, -1.17702689,  1.0073484 ],\n",
       "       [-0.32858649,  0.24190305,  1.39370931,  1.3146618 ],\n",
       "       [ 0.32027149,  1.11267687, -0.17088743, -1.28329049],\n",
       "       [-0.42525528,  0.17057165, -0.09314515,  0.32099832]])"
      ]
     },
     "execution_count": 258,
     "metadata": {},
     "output_type": "execute_result"
    }
   ],
   "source": [
    "name = np.array(['a', 'b', 'a', 'a', 'e', 'f', 'g'])\n",
    "arr_1 = np.random.randn(7, 4)\n",
    "arr_1"
   ]
  },
  {
   "cell_type": "code",
   "execution_count": 259,
   "metadata": {
    "hidden": true
   },
   "outputs": [
    {
     "data": {
      "text/plain": [
       "array([ True, False,  True,  True, False, False, False])"
      ]
     },
     "execution_count": 259,
     "metadata": {},
     "output_type": "execute_result"
    }
   ],
   "source": [
    "# 生成布尔值，注意，布尔条件的array的元素个数要和行数（或者列数）相等\n",
    "cond = name == 'a'\n",
    "cond"
   ]
  },
  {
   "cell_type": "code",
   "execution_count": 260,
   "metadata": {
    "hidden": true
   },
   "outputs": [
    {
     "data": {
      "text/plain": [
       "array([[-0.87540202,  1.75815788,  0.31334311,  1.05297516],\n",
       "       [ 1.42126527,  2.1918395 ,  0.70547433,  0.89515083],\n",
       "       [ 1.32960284,  1.17671603, -1.17702689,  1.0073484 ]])"
      ]
     },
     "execution_count": 260,
     "metadata": {},
     "output_type": "execute_result"
    }
   ],
   "source": [
    "arr_1[cond]  # 行索引"
   ]
  },
  {
   "cell_type": "code",
   "execution_count": 261,
   "metadata": {
    "hidden": true
   },
   "outputs": [
    {
     "data": {
      "text/plain": [
       "array([[-0.87540202,  1.75815788],\n",
       "       [ 1.42126527,  2.1918395 ],\n",
       "       [ 1.32960284,  1.17671603]])"
      ]
     },
     "execution_count": 261,
     "metadata": {},
     "output_type": "execute_result"
    }
   ],
   "source": [
    "arr_1[cond, :2]"
   ]
  },
  {
   "cell_type": "code",
   "execution_count": 262,
   "metadata": {
    "hidden": true
   },
   "outputs": [
    {
     "data": {
      "text/plain": [
       "array([False,  True, False, False,  True,  True,  True])"
      ]
     },
     "execution_count": 262,
     "metadata": {},
     "output_type": "execute_result"
    }
   ],
   "source": [
    "# 生成反向布尔条件\n",
    "cond_1 = ~cond\n",
    "cond_1"
   ]
  },
  {
   "cell_type": "code",
   "execution_count": 263,
   "metadata": {
    "hidden": true
   },
   "outputs": [
    {
     "data": {
      "text/plain": [
       "array([[ 0.22024428, -1.19947737, -1.02264892, -1.25808652],\n",
       "       [-0.32858649,  0.24190305,  1.39370931,  1.3146618 ],\n",
       "       [ 0.32027149,  1.11267687, -0.17088743, -1.28329049],\n",
       "       [-0.42525528,  0.17057165, -0.09314515,  0.32099832]])"
      ]
     },
     "execution_count": 263,
     "metadata": {},
     "output_type": "execute_result"
    }
   ],
   "source": [
    "arr_1[cond_1] "
   ]
  },
  {
   "cell_type": "code",
   "execution_count": 264,
   "metadata": {
    "hidden": true
   },
   "outputs": [
    {
     "data": {
      "text/plain": [
       "array([ True, False,  True,  True,  True, False, False])"
      ]
     },
     "execution_count": 264,
     "metadata": {},
     "output_type": "execute_result"
    }
   ],
   "source": [
    "# 生成合并布尔条件 (或)   注意：python的关键字and和or对于布尔值数组并不管用，要使用& (and) 和| (or)代替\n",
    "cond_2 = (name == 'a') | (name == 'e')\n",
    "cond_2"
   ]
  },
  {
   "cell_type": "code",
   "execution_count": 265,
   "metadata": {
    "hidden": true
   },
   "outputs": [
    {
     "data": {
      "text/plain": [
       "array([[-0.87540202,  1.75815788,  0.31334311,  1.05297516],\n",
       "       [ 1.42126527,  2.1918395 ,  0.70547433,  0.89515083],\n",
       "       [ 1.32960284,  1.17671603, -1.17702689,  1.0073484 ],\n",
       "       [-0.32858649,  0.24190305,  1.39370931,  1.3146618 ]])"
      ]
     },
     "execution_count": 265,
     "metadata": {},
     "output_type": "execute_result"
    }
   ],
   "source": [
    "arr_1[cond_2]"
   ]
  },
  {
   "cell_type": "code",
   "execution_count": 266,
   "metadata": {
    "hidden": true
   },
   "outputs": [
    {
     "data": {
      "text/plain": [
       "array([False, False, False, False, False, False, False])"
      ]
     },
     "execution_count": 266,
     "metadata": {},
     "output_type": "execute_result"
    }
   ],
   "source": [
    "# 生成合并布尔条件 (且)   注意：python的关键字and和or对于布尔值数组并不管用，要使用& (and) 和| (or)代替\n",
    "cond_3 = (name == 'a') & (name == 'e')\n",
    "cond_3"
   ]
  },
  {
   "cell_type": "code",
   "execution_count": 267,
   "metadata": {
    "hidden": true
   },
   "outputs": [
    {
     "data": {
      "text/plain": [
       "array([], shape=(0, 4), dtype=float64)"
      ]
     },
     "execution_count": 267,
     "metadata": {},
     "output_type": "execute_result"
    }
   ],
   "source": [
    "arr_1[cond_3]"
   ]
  },
  {
   "cell_type": "markdown",
   "metadata": {
    "hidden": true
   },
   "source": [
    "#### 3. 列表索引"
   ]
  },
  {
   "cell_type": "code",
   "execution_count": 268,
   "metadata": {
    "hidden": true
   },
   "outputs": [
    {
     "name": "stdout",
     "output_type": "stream",
     "text": [
      "[[ 0.  1.  2.  3.  4.  5.  6.  7.]\n",
      " [ 1.  2.  3.  4.  5.  6.  7.  8.]\n",
      " [ 2.  3.  4.  5.  6.  7.  8.  9.]\n",
      " [ 3.  4.  5.  6.  7.  8.  9. 10.]\n",
      " [ 4.  5.  6.  7.  8.  9. 10. 11.]\n",
      " [ 5.  6.  7.  8.  9. 10. 11. 12.]\n",
      " [ 6.  7.  8.  9. 10. 11. 12. 13.]\n",
      " [ 7.  8.  9. 10. 11. 12. 13. 14.]]\n"
     ]
    }
   ],
   "source": [
    "arr_1 = np.empty((8,8))\n",
    "\n",
    "for i in range(8):\n",
    "    for j in range(8):\n",
    "        arr_1[i][j] = i+j\n",
    "\n",
    "print(arr_1)"
   ]
  },
  {
   "cell_type": "code",
   "execution_count": 269,
   "metadata": {
    "hidden": true
   },
   "outputs": [
    {
     "data": {
      "text/plain": [
       "array([[ 2.,  3.,  4.,  5.,  6.,  7.,  8.,  9.],\n",
       "       [ 3.,  4.,  5.,  6.,  7.,  8.,  9., 10.],\n",
       "       [ 6.,  7.,  8.,  9., 10., 11., 12., 13.]])"
      ]
     },
     "execution_count": 269,
     "metadata": {},
     "output_type": "execute_result"
    }
   ],
   "source": [
    "arr_1[[2, 3, 6]]"
   ]
  },
  {
   "cell_type": "code",
   "execution_count": 270,
   "metadata": {
    "hidden": true
   },
   "outputs": [
    {
     "data": {
      "text/plain": [
       "array([ 4.,  6., 12.])"
      ]
     },
     "execution_count": 270,
     "metadata": {},
     "output_type": "execute_result"
    }
   ],
   "source": [
    "arr_1[[2, 3, 6], [2, 3, 6]]  # 如图，可以看成[2, 3, 4] 与 [2, 3, 4]组成的3个坐标点索引，进行精准定位索引(2, 2), (3, 3), (4, 4)"
   ]
  },
  {
   "cell_type": "markdown",
   "metadata": {
    "hidden": true
   },
   "source": [
    "<img src='.\\img_for_book\\chapter_06\\02_img_list_index.png'>"
   ]
  },
  {
   "cell_type": "markdown",
   "metadata": {
    "heading_collapsed": true
   },
   "source": [
    "### （五）转置与换轴"
   ]
  },
  {
   "cell_type": "markdown",
   "metadata": {
    "hidden": true
   },
   "source": [
    "#### 1. array.T"
   ]
  },
  {
   "cell_type": "code",
   "execution_count": 271,
   "metadata": {
    "hidden": true
   },
   "outputs": [
    {
     "data": {
      "text/plain": [
       "array([[ 0,  1,  2,  3,  4,  5,  6,  7],\n",
       "       [ 8,  9, 10, 11, 12, 13, 14, 15]])"
      ]
     },
     "execution_count": 271,
     "metadata": {},
     "output_type": "execute_result"
    }
   ],
   "source": [
    "arr_1 = np.arange(16).reshape(2,8)\n",
    "arr_1"
   ]
  },
  {
   "cell_type": "code",
   "execution_count": 272,
   "metadata": {
    "hidden": true
   },
   "outputs": [
    {
     "data": {
      "text/plain": [
       "array([[ 0,  8],\n",
       "       [ 1,  9],\n",
       "       [ 2, 10],\n",
       "       [ 3, 11],\n",
       "       [ 4, 12],\n",
       "       [ 5, 13],\n",
       "       [ 6, 14],\n",
       "       [ 7, 15]])"
      ]
     },
     "execution_count": 272,
     "metadata": {},
     "output_type": "execute_result"
    }
   ],
   "source": [
    "arr_1.T"
   ]
  },
  {
   "cell_type": "markdown",
   "metadata": {
    "hidden": true
   },
   "source": [
    "#### 2. array.transpose()"
   ]
  },
  {
   "cell_type": "markdown",
   "metadata": {
    "hidden": true
   },
   "source": [
    "##### 二维"
   ]
  },
  {
   "cell_type": "code",
   "execution_count": 273,
   "metadata": {
    "hidden": true
   },
   "outputs": [
    {
     "data": {
      "text/plain": [
       "array([[ 0,  1,  2,  3,  4,  5,  6,  7],\n",
       "       [ 8,  9, 10, 11, 12, 13, 14, 15]])"
      ]
     },
     "execution_count": 273,
     "metadata": {},
     "output_type": "execute_result"
    }
   ],
   "source": [
    "arr2_1 = np.arange(16).reshape(2,8)\n",
    "arr2_1"
   ]
  },
  {
   "cell_type": "code",
   "execution_count": 274,
   "metadata": {
    "hidden": true
   },
   "outputs": [
    {
     "data": {
      "text/plain": [
       "array([[ 0,  8],\n",
       "       [ 1,  9],\n",
       "       [ 2, 10],\n",
       "       [ 3, 11],\n",
       "       [ 4, 12],\n",
       "       [ 5, 13],\n",
       "       [ 6, 14],\n",
       "       [ 7, 15]])"
      ]
     },
     "execution_count": 274,
     "metadata": {},
     "output_type": "execute_result"
    }
   ],
   "source": [
    "arr2_1.transpose(1,0)"
   ]
  },
  {
   "cell_type": "markdown",
   "metadata": {
    "hidden": true
   },
   "source": [
    "##### 三维"
   ]
  },
  {
   "cell_type": "code",
   "execution_count": 275,
   "metadata": {
    "hidden": true
   },
   "outputs": [
    {
     "data": {
      "text/plain": [
       "array([[[ 0,  1,  2,  3],\n",
       "        [ 4,  5,  6,  7],\n",
       "        [ 8,  9, 10, 11],\n",
       "        [12, 13, 14, 15]],\n",
       "\n",
       "       [[16, 17, 18, 19],\n",
       "        [20, 21, 22, 23],\n",
       "        [24, 25, 26, 27],\n",
       "        [28, 29, 30, 31]]])"
      ]
     },
     "execution_count": 275,
     "metadata": {},
     "output_type": "execute_result"
    }
   ],
   "source": [
    "arr_1 = np.arange(32).reshape(2,4,4)\n",
    "arr_1"
   ]
  },
  {
   "cell_type": "code",
   "execution_count": 276,
   "metadata": {
    "hidden": true
   },
   "outputs": [
    {
     "data": {
      "text/plain": [
       "array([[[ 0, 16],\n",
       "        [ 4, 20],\n",
       "        [ 8, 24],\n",
       "        [12, 28]],\n",
       "\n",
       "       [[ 1, 17],\n",
       "        [ 5, 21],\n",
       "        [ 9, 25],\n",
       "        [13, 29]],\n",
       "\n",
       "       [[ 2, 18],\n",
       "        [ 6, 22],\n",
       "        [10, 26],\n",
       "        [14, 30]],\n",
       "\n",
       "       [[ 3, 19],\n",
       "        [ 7, 23],\n",
       "        [11, 27],\n",
       "        [15, 31]]])"
      ]
     },
     "execution_count": 276,
     "metadata": {},
     "output_type": "execute_result"
    }
   ],
   "source": [
    "arr_1.transpose()  # 变成了shape(4,4,2)"
   ]
  },
  {
   "cell_type": "code",
   "execution_count": 277,
   "metadata": {
    "hidden": true
   },
   "outputs": [
    {
     "data": {
      "text/plain": [
       "array([[[ 0,  1,  2,  3],\n",
       "        [16, 17, 18, 19]],\n",
       "\n",
       "       [[ 4,  5,  6,  7],\n",
       "        [20, 21, 22, 23]],\n",
       "\n",
       "       [[ 8,  9, 10, 11],\n",
       "        [24, 25, 26, 27]],\n",
       "\n",
       "       [[12, 13, 14, 15],\n",
       "        [28, 29, 30, 31]]])"
      ]
     },
     "execution_count": 277,
     "metadata": {},
     "output_type": "execute_result"
    }
   ],
   "source": [
    "arr_1.transpose(1,0,2)  # transpose(m,n,p) m 1轴转换成0轴，n 0轴转换成1轴，p 数组维度-1"
   ]
  },
  {
   "cell_type": "markdown",
   "metadata": {
    "hidden": true
   },
   "source": [
    "##### 四维"
   ]
  },
  {
   "cell_type": "code",
   "execution_count": 278,
   "metadata": {
    "hidden": true
   },
   "outputs": [
    {
     "data": {
      "text/plain": [
       "array([[[[ 0,  1,  2,  3],\n",
       "         [ 4,  5,  6,  7]],\n",
       "\n",
       "        [[ 8,  9, 10, 11],\n",
       "         [12, 13, 14, 15]]],\n",
       "\n",
       "\n",
       "       [[[16, 17, 18, 19],\n",
       "         [20, 21, 22, 23]],\n",
       "\n",
       "        [[24, 25, 26, 27],\n",
       "         [28, 29, 30, 31]]]])"
      ]
     },
     "execution_count": 278,
     "metadata": {},
     "output_type": "execute_result"
    }
   ],
   "source": [
    "arr_1 = np.arange(32).reshape(2,2,2,4)\n",
    "arr_1"
   ]
  },
  {
   "cell_type": "code",
   "execution_count": 279,
   "metadata": {
    "hidden": true
   },
   "outputs": [
    {
     "data": {
      "text/plain": [
       "array([[[[ 0,  1,  2,  3],\n",
       "         [16, 17, 18, 19]],\n",
       "\n",
       "        [[ 8,  9, 10, 11],\n",
       "         [24, 25, 26, 27]]],\n",
       "\n",
       "\n",
       "       [[[ 4,  5,  6,  7],\n",
       "         [20, 21, 22, 23]],\n",
       "\n",
       "        [[12, 13, 14, 15],\n",
       "         [28, 29, 30, 31]]]])"
      ]
     },
     "execution_count": 279,
     "metadata": {},
     "output_type": "execute_result"
    }
   ],
   "source": [
    "arr_1.transpose(2,1,0,3)  # transpose(m,n,p,q) m,n,p 表示轴数值，q 数组维度-1"
   ]
  },
  {
   "cell_type": "markdown",
   "metadata": {
    "hidden": true
   },
   "source": [
    "#### 3. array.swapaxes()"
   ]
  },
  {
   "cell_type": "code",
   "execution_count": 280,
   "metadata": {
    "hidden": true
   },
   "outputs": [
    {
     "data": {
      "text/plain": [
       "array([[[ 0,  1,  2,  3],\n",
       "        [ 4,  5,  6,  7],\n",
       "        [ 8,  9, 10, 11],\n",
       "        [12, 13, 14, 15]],\n",
       "\n",
       "       [[16, 17, 18, 19],\n",
       "        [20, 21, 22, 23],\n",
       "        [24, 25, 26, 27],\n",
       "        [28, 29, 30, 31]]])"
      ]
     },
     "execution_count": 280,
     "metadata": {},
     "output_type": "execute_result"
    }
   ],
   "source": [
    "arr_1 = np.arange(32).reshape(2,4,4)\n",
    "arr_1"
   ]
  },
  {
   "cell_type": "code",
   "execution_count": 281,
   "metadata": {
    "hidden": true
   },
   "outputs": [
    {
     "data": {
      "text/plain": [
       "array([[[ 0,  4,  8, 12],\n",
       "        [ 1,  5,  9, 13],\n",
       "        [ 2,  6, 10, 14],\n",
       "        [ 3,  7, 11, 15]],\n",
       "\n",
       "       [[16, 20, 24, 28],\n",
       "        [17, 21, 25, 29],\n",
       "        [18, 22, 26, 30],\n",
       "        [19, 23, 27, 31]]])"
      ]
     },
     "execution_count": 281,
     "metadata": {},
     "output_type": "execute_result"
    }
   ],
   "source": [
    "arr_1.swapaxes(1, 2)"
   ]
  },
  {
   "cell_type": "markdown",
   "metadata": {
    "heading_collapsed": true
   },
   "source": [
    "### （六）通用函数"
   ]
  },
  {
   "cell_type": "code",
   "execution_count": 282,
   "metadata": {
    "hidden": true
   },
   "outputs": [
    {
     "name": "stdout",
     "output_type": "stream",
     "text": [
      "[[-2.20417292 -1.13901804 -2.44807945  2.137752    1.278572  ]\n",
      " [-1.1084425   0.14127747  2.03256103  1.96525055 -0.46659597]\n",
      " [-0.48163494 -0.21612198 -0.5269453  -0.26410543 -0.11563116]\n",
      " [ 1.15029001  0.29271578 -0.66817393  1.35073195 -0.6134528 ]]\n",
      "----------------------------------------------------------------------------------------------------\n",
      "[[ 1.39371989  2.06325138 -0.22854538  0.3953729  -0.31773444]\n",
      " [ 0.00492747  1.11912772 -0.02333157  0.10421921  0.4616751 ]\n",
      " [-0.58924433 -1.07202661  2.62770866 -0.91377883  0.66334996]\n",
      " [ 0.00481884 -0.70157067 -0.22233473 -0.44974589  0.35301065]]\n"
     ]
    }
   ],
   "source": [
    "arr_1 = np.random.randn(4,5)\n",
    "arr_2 = np.random.randn(4,5)\n",
    "print(arr_1)\n",
    "print('-'*100)\n",
    "print(arr_2)"
   ]
  },
  {
   "cell_type": "markdown",
   "metadata": {
    "hidden": true
   },
   "source": [
    "#### 1. 一元通用函数（接收一个数组）"
   ]
  },
  {
   "cell_type": "code",
   "execution_count": 283,
   "metadata": {
    "hidden": true
   },
   "outputs": [
    {
     "data": {
      "text/plain": [
       "array([[2.20417292, 1.13901804, 2.44807945, 2.137752  , 1.278572  ],\n",
       "       [1.1084425 , 0.14127747, 2.03256103, 1.96525055, 0.46659597],\n",
       "       [0.48163494, 0.21612198, 0.5269453 , 0.26410543, 0.11563116],\n",
       "       [1.15029001, 0.29271578, 0.66817393, 1.35073195, 0.6134528 ]])"
      ]
     },
     "execution_count": 283,
     "metadata": {},
     "output_type": "execute_result"
    }
   ],
   "source": [
    "# 绝对值\n",
    "np.abs(arr_1)"
   ]
  },
  {
   "cell_type": "code",
   "execution_count": 284,
   "metadata": {
    "hidden": true
   },
   "outputs": [
    {
     "data": {
      "text/plain": [
       "array([[2.20417292, 1.13901804, 2.44807945, 2.137752  , 1.278572  ],\n",
       "       [1.1084425 , 0.14127747, 2.03256103, 1.96525055, 0.46659597],\n",
       "       [0.48163494, 0.21612198, 0.5269453 , 0.26410543, 0.11563116],\n",
       "       [1.15029001, 0.29271578, 0.66817393, 1.35073195, 0.6134528 ]])"
      ]
     },
     "execution_count": 284,
     "metadata": {},
     "output_type": "execute_result"
    }
   ],
   "source": [
    "# 绝对值\n",
    "np.fabs(arr_1)"
   ]
  },
  {
   "cell_type": "code",
   "execution_count": 285,
   "metadata": {
    "hidden": true
   },
   "outputs": [
    {
     "name": "stderr",
     "output_type": "stream",
     "text": [
      "D:\\software\\Anaconda\\lib\\site-packages\\ipykernel_launcher.py:2: RuntimeWarning: invalid value encountered in sqrt\n",
      "  \n"
     ]
    },
    {
     "data": {
      "text/plain": [
       "array([[       nan,        nan,        nan, 1.46210533, 1.13073958],\n",
       "       [       nan, 0.37586895, 1.42567915, 1.40187394,        nan],\n",
       "       [       nan,        nan,        nan,        nan,        nan],\n",
       "       [1.07251574, 0.54103214,        nan, 1.16220994,        nan]])"
      ]
     },
     "execution_count": 285,
     "metadata": {},
     "output_type": "execute_result"
    }
   ],
   "source": [
    "# 平方根\n",
    "np.sqrt(arr_1)"
   ]
  },
  {
   "cell_type": "code",
   "execution_count": 286,
   "metadata": {
    "hidden": true
   },
   "outputs": [
    {
     "data": {
      "text/plain": [
       "array([[4.85837825, 1.29736208, 5.993093  , 4.56998361, 1.63474637],\n",
       "       [1.22864477, 0.01995932, 4.13130433, 3.86220974, 0.2177118 ],\n",
       "       [0.23197222, 0.04670871, 0.27767135, 0.06975168, 0.01337057],\n",
       "       [1.32316711, 0.08568253, 0.4464564 , 1.82447679, 0.37632434]])"
      ]
     },
     "execution_count": 286,
     "metadata": {},
     "output_type": "execute_result"
    }
   ],
   "source": [
    "# 平方\n",
    "np.square(arr_1)"
   ]
  },
  {
   "cell_type": "code",
   "execution_count": 287,
   "metadata": {
    "hidden": true
   },
   "outputs": [
    {
     "data": {
      "text/plain": [
       "array([[0.11034175, 0.32013323, 0.08645948, 8.48035236, 3.5915074 ],\n",
       "       [0.33007265, 1.15174417, 7.63361123, 7.13670049, 0.62713342],\n",
       "       [0.61777254, 0.80563702, 0.59040573, 0.76789257, 0.89080373],\n",
       "       [3.15910895, 1.34006186, 0.51264385, 3.86024999, 0.54147802]])"
      ]
     },
     "execution_count": 287,
     "metadata": {},
     "output_type": "execute_result"
    }
   ],
   "source": [
    "# 自然指数\n",
    "np.exp(arr_1)"
   ]
  },
  {
   "cell_type": "code",
   "execution_count": 288,
   "metadata": {
    "hidden": true
   },
   "outputs": [
    {
     "name": "stdout",
     "output_type": "stream",
     "text": [
      "[[        nan         nan         nan  0.75975481  0.24574383]\n",
      " [        nan -1.95702948  0.70929659  0.67561975         nan]\n",
      " [        nan         nan         nan         nan         nan]\n",
      " [ 0.14001409 -1.22855318         nan  0.30064663         nan]]\n",
      "----------------------------------------------------------------------------------------------------\n",
      "[[        nan         nan         nan  0.32995732  0.10672519]\n",
      " [        nan -0.84992711  0.30804359  0.29341793         nan]\n",
      " [        nan         nan         nan         nan         nan]\n",
      " [ 0.06080735 -0.53355387         nan  0.13056917         nan]]\n",
      "----------------------------------------------------------------------------------------------------\n",
      "[[        nan         nan         nan  1.0960945   0.35453341]\n",
      " [        nan -2.82339673  1.02329867  0.97471326         nan]\n",
      " [        nan         nan         nan         nan         nan]\n",
      " [ 0.20199764 -1.77242758         nan  0.4337414          nan]]\n",
      "----------------------------------------------------------------------------------------------------\n",
      "[[        nan         nan         nan  1.14350662  0.82354893]\n",
      " [        nan  0.13214822  1.10940749  1.08696153 -0.62847611]\n",
      " [-0.65707554 -0.24350186 -0.74854426 -0.30666842 -0.12288107]\n",
      " [ 0.76560272  0.25674526 -1.10314433  0.85472675 -0.95050129]]\n"
     ]
    },
    {
     "name": "stderr",
     "output_type": "stream",
     "text": [
      "D:\\software\\Anaconda\\lib\\site-packages\\ipykernel_launcher.py:2: RuntimeWarning: invalid value encountered in log\n",
      "  \n",
      "D:\\software\\Anaconda\\lib\\site-packages\\ipykernel_launcher.py:4: RuntimeWarning: invalid value encountered in log10\n",
      "  after removing the cwd from sys.path.\n",
      "D:\\software\\Anaconda\\lib\\site-packages\\ipykernel_launcher.py:6: RuntimeWarning: invalid value encountered in log2\n",
      "  \n",
      "D:\\software\\Anaconda\\lib\\site-packages\\ipykernel_launcher.py:8: RuntimeWarning: invalid value encountered in log1p\n",
      "  \n"
     ]
    }
   ],
   "source": [
    "# log() 自然对数； log10() 10为底的对数； log2()2为底的对数； log1p() log(1+x)\n",
    "print(np.log(arr_1))\n",
    "print('-'*100)\n",
    "print(np.log10(arr_1))\n",
    "print('-'*100)\n",
    "print(np.log2(arr_1))\n",
    "print('-'*100)\n",
    "print(np.log1p(arr_1))"
   ]
  },
  {
   "cell_type": "code",
   "execution_count": 289,
   "metadata": {
    "hidden": true
   },
   "outputs": [
    {
     "data": {
      "text/plain": [
       "array([[-1., -1., -1.,  1.,  1.],\n",
       "       [-1.,  1.,  1.,  1., -1.],\n",
       "       [-1., -1., -1., -1., -1.],\n",
       "       [ 1.,  1., -1.,  1., -1.]])"
      ]
     },
     "execution_count": 289,
     "metadata": {},
     "output_type": "execute_result"
    }
   ],
   "source": [
    "# 计算符号值：1（正数）、0（0）、-1（负数）\n",
    "np.sign(arr_1)"
   ]
  },
  {
   "cell_type": "code",
   "execution_count": 290,
   "metadata": {
    "hidden": true
   },
   "outputs": [
    {
     "name": "stdout",
     "output_type": "stream",
     "text": [
      "[[-2.20417292 -1.13901804 -2.44807945  2.137752    1.278572  ]\n",
      " [-1.1084425   0.14127747  2.03256103  1.96525055 -0.46659597]\n",
      " [-0.48163494 -0.21612198 -0.5269453  -0.26410543 -0.11563116]\n",
      " [ 1.15029001  0.29271578 -0.66817393  1.35073195 -0.6134528 ]]\n",
      "----------------------------------------------------------------------------------------------------\n"
     ]
    },
    {
     "data": {
      "text/plain": [
       "array([[-2., -1., -2.,  3.,  2.],\n",
       "       [-1.,  1.,  3.,  2., -0.],\n",
       "       [-0., -0., -0., -0., -0.],\n",
       "       [ 2.,  1., -0.,  2., -0.]])"
      ]
     },
     "execution_count": 290,
     "metadata": {},
     "output_type": "execute_result"
    }
   ],
   "source": [
    "# 向上取整\n",
    "print(arr_1)\n",
    "print('-'*100)\n",
    "np.ceil(arr_1)"
   ]
  },
  {
   "cell_type": "code",
   "execution_count": 291,
   "metadata": {
    "hidden": true
   },
   "outputs": [
    {
     "name": "stdout",
     "output_type": "stream",
     "text": [
      "[[-2.20417292 -1.13901804 -2.44807945  2.137752    1.278572  ]\n",
      " [-1.1084425   0.14127747  2.03256103  1.96525055 -0.46659597]\n",
      " [-0.48163494 -0.21612198 -0.5269453  -0.26410543 -0.11563116]\n",
      " [ 1.15029001  0.29271578 -0.66817393  1.35073195 -0.6134528 ]]\n",
      "----------------------------------------------------------------------------------------------------\n"
     ]
    },
    {
     "data": {
      "text/plain": [
       "array([[-3., -2., -3.,  2.,  1.],\n",
       "       [-2.,  0.,  2.,  1., -1.],\n",
       "       [-1., -1., -1., -1., -1.],\n",
       "       [ 1.,  0., -1.,  1., -1.]])"
      ]
     },
     "execution_count": 291,
     "metadata": {},
     "output_type": "execute_result"
    }
   ],
   "source": [
    "# 向下取整\n",
    "print(arr_1)\n",
    "print('-'*100)\n",
    "np.floor(arr_1)"
   ]
  },
  {
   "cell_type": "code",
   "execution_count": 292,
   "metadata": {
    "hidden": true
   },
   "outputs": [
    {
     "name": "stdout",
     "output_type": "stream",
     "text": [
      "[[-2.20417292 -1.13901804 -2.44807945  2.137752    1.278572  ]\n",
      " [-1.1084425   0.14127747  2.03256103  1.96525055 -0.46659597]\n",
      " [-0.48163494 -0.21612198 -0.5269453  -0.26410543 -0.11563116]\n",
      " [ 1.15029001  0.29271578 -0.66817393  1.35073195 -0.6134528 ]]\n",
      "----------------------------------------------------------------------------------------------------\n"
     ]
    },
    {
     "data": {
      "text/plain": [
       "array([[-2., -1., -2.,  2.,  1.],\n",
       "       [-1.,  0.,  2.,  2., -0.],\n",
       "       [-0., -0., -1., -0., -0.],\n",
       "       [ 1.,  0., -1.,  1., -1.]])"
      ]
     },
     "execution_count": 292,
     "metadata": {},
     "output_type": "execute_result"
    }
   ],
   "source": [
    "# 取整(小数部分大于0.5，则进1，小于等于0.5舍)\n",
    "print(arr_1)\n",
    "print('-'*100)\n",
    "np.rint(arr_1)"
   ]
  },
  {
   "cell_type": "code",
   "execution_count": 293,
   "metadata": {
    "hidden": true
   },
   "outputs": [
    {
     "data": {
      "text/plain": [
       "array([[False, False, False, False, False],\n",
       "       [False, False, False, False, False],\n",
       "       [False, False, False, False, False],\n",
       "       [False, False, False, False, False]])"
      ]
     },
     "execution_count": 293,
     "metadata": {},
     "output_type": "execute_result"
    }
   ],
   "source": [
    "# 判断NaN\n",
    "np.isnan(arr_1)"
   ]
  },
  {
   "cell_type": "code",
   "execution_count": 294,
   "metadata": {
    "hidden": true
   },
   "outputs": [
    {
     "data": {
      "text/plain": [
       "array([[False, False, False, False, False],\n",
       "       [False, False, False, False, False],\n",
       "       [False, False, False, False, False],\n",
       "       [False, False, False, False, False]])"
      ]
     },
     "execution_count": 294,
     "metadata": {},
     "output_type": "execute_result"
    }
   ],
   "source": [
    "# 取反\n",
    "np.logical_not(arr_1)"
   ]
  },
  {
   "cell_type": "code",
   "execution_count": 295,
   "metadata": {
    "hidden": true
   },
   "outputs": [
    {
     "data": {
      "text/plain": [
       "array([[ True,  True,  True,  True,  True],\n",
       "       [ True,  True,  True,  True,  True],\n",
       "       [ True,  True,  True,  True,  True],\n",
       "       [ True,  True,  True,  True,  True]])"
      ]
     },
     "execution_count": 295,
     "metadata": {},
     "output_type": "execute_result"
    }
   ],
   "source": [
    "# 是否有限\n",
    "np.isfinite(arr_1)"
   ]
  },
  {
   "cell_type": "code",
   "execution_count": 296,
   "metadata": {
    "hidden": true
   },
   "outputs": [
    {
     "data": {
      "text/plain": [
       "array([[False, False, False, False, False],\n",
       "       [False, False, False, False, False],\n",
       "       [False, False, False, False, False],\n",
       "       [False, False, False, False, False]])"
      ]
     },
     "execution_count": 296,
     "metadata": {},
     "output_type": "execute_result"
    }
   ],
   "source": [
    "# 是否无限\n",
    "np.isinf(arr_1)"
   ]
  },
  {
   "cell_type": "code",
   "execution_count": 297,
   "metadata": {
    "hidden": true
   },
   "outputs": [
    {
     "name": "stdout",
     "output_type": "stream",
     "text": [
      "[[-0.59186977  0.41848655 -0.76900498 -0.53706653  0.28808296]\n",
      " [ 0.44605603  0.99003693 -0.44552868 -0.38430438  0.89310476]\n",
      " [ 0.88623876  0.97673641  0.86434729  0.96532641  0.99332216]\n",
      " [ 0.40822271  0.95746376  0.78495432  0.21829245  0.81766514]]\n",
      "----------------------------------------------------------------------------------------------------\n",
      "[[4.58654729 1.72191636 5.82628579 4.29913599 1.93497101]\n",
      " [1.67985435 1.00999627 3.88230541 3.63841063 1.11084522]\n",
      " [1.11824565 1.0234454  1.14207812 1.03507903 1.00669273]\n",
      " [1.73782695 1.04314803 1.23165793 2.05965029 1.19413752]]\n",
      "----------------------------------------------------------------------------------------------------\n",
      "[[-0.8060336  -0.90822299 -0.63924279  0.84353989  0.95760546]\n",
      " [-0.89500504  0.14080797  0.89526767  0.92320645 -0.44984874]\n",
      " [-0.46322874 -0.21444344 -0.50289537 -0.26104582 -0.11537366]\n",
      " [ 0.91288237  0.28855355 -0.61955364  0.9758834  -0.57569412]]\n",
      "----------------------------------------------------------------------------------------------------\n",
      "[[-4.47620554 -1.40178313 -5.73982631  4.18121636  1.65653639]\n",
      " [-1.3497817   0.1417479   3.75130582  3.49828986 -0.4837118 ]\n",
      " [-0.5004731  -0.21780838 -0.55167239 -0.26718646 -0.11588901]\n",
      " [ 1.421282    0.29691383 -0.71901408  1.80059971 -0.6526595 ]]\n",
      "----------------------------------------------------------------------------------------------------\n",
      "[[ 1.36184283 -2.17025612  0.83125963 -1.57064319  3.32406142]\n",
      " [-2.00648569  0.14222496 -2.00945014 -2.40227924 -0.5036909 ]\n",
      " [-0.52269068 -0.21955099 -0.58182096 -0.27042234 -0.11614928]\n",
      " [ 2.2362361   0.30137281 -0.78928623  4.47053204 -0.70407076]]\n",
      "----------------------------------------------------------------------------------------------------\n",
      "[[-0.97594231 -0.81408317 -0.98516045  0.97257132  0.85610398]\n",
      " [-0.80351115  0.14034498  0.96625727  0.96148847 -0.43544482]\n",
      " [-0.44755202 -0.21281876 -0.4830426  -0.25813146 -0.11511855]\n",
      " [ 0.81785013  0.2846325  -0.58377741  0.87422594 -0.54655304]]\n"
     ]
    }
   ],
   "source": [
    "# 双曲三角函数\n",
    "print(np.cos(arr_1))\n",
    "print('-'*100)\n",
    "print(np.cosh(arr_1))\n",
    "print('-'*100)\n",
    "print(np.sin(arr_1))\n",
    "print('-'*100)\n",
    "print(np.sinh(arr_1))\n",
    "print('-'*100)\n",
    "print(np.tan(arr_1))\n",
    "print('-'*100)\n",
    "print(np.tanh(arr_1))"
   ]
  },
  {
   "cell_type": "code",
   "execution_count": 298,
   "metadata": {
    "hidden": true
   },
   "outputs": [
    {
     "name": "stdout",
     "output_type": "stream",
     "text": [
      "[[       nan        nan        nan        nan        nan]\n",
      " [       nan 1.42904462        nan        nan 2.05623451]\n",
      " [2.07331566 1.78863715 2.12579868 1.83807263 1.68668673]\n",
      " [       nan 1.27373054 2.30254802        nan 2.23122165]]\n",
      "----------------------------------------------------------------------------------------------------\n",
      "[[       nan        nan        nan 1.39306937 0.73009691]\n",
      " [       nan        nan 1.33555623 1.29665878        nan]\n",
      " [       nan        nan        nan        nan        nan]\n",
      " [0.5416077         nan        nan 0.81480669        nan]]\n",
      "----------------------------------------------------------------------------------------------------\n",
      "[[        nan         nan         nan         nan         nan]\n",
      " [        nan  0.1417517          nan         nan -0.48543819]\n",
      " [-0.50251934 -0.21784082 -0.55500236 -0.2672763  -0.1158904 ]\n",
      " [        nan  0.29706579 -0.7317517          nan -0.66042532]]\n",
      "----------------------------------------------------------------------------------------------------\n",
      "[[-1.5313859  -0.97634039 -1.62777381  1.50359579  1.0653182 ]\n",
      " [-0.95601406  0.14081167  1.4581031   1.42798616 -0.45113661]\n",
      " [-0.46472559 -0.21447393 -0.50518166 -0.26112768 -0.11537502]\n",
      " [ 0.98375644  0.28868908 -0.6263988   1.10900804 -0.58032629]]\n",
      "----------------------------------------------------------------------------------------------------\n",
      "[[-1.14488225 -0.85029841 -1.18299807  1.13325441  0.90705172]\n",
      " [-0.8367854   0.14034863  1.11357711  1.10010098 -0.4365691 ]\n",
      " [-0.44884792 -0.21284832 -0.48497076 -0.25820968 -0.11511991]\n",
      " [ 0.85517759  0.2847607  -0.58904537  0.93350676 -0.55025259]]\n",
      "----------------------------------------------------------------------------------------------------\n",
      "[[        nan         nan         nan         nan         nan]\n",
      " [        nan  0.14222882         nan         nan -0.50571008]\n",
      " [-0.52511085 -0.21958448 -0.58590673 -0.27051656 -0.11615069]\n",
      " [        nan  0.30153397 -0.80743695         nan -0.71443889]]\n"
     ]
    },
    {
     "name": "stderr",
     "output_type": "stream",
     "text": [
      "D:\\software\\Anaconda\\lib\\site-packages\\ipykernel_launcher.py:2: RuntimeWarning: invalid value encountered in arccos\n",
      "  \n",
      "D:\\software\\Anaconda\\lib\\site-packages\\ipykernel_launcher.py:4: RuntimeWarning: invalid value encountered in arccosh\n",
      "  after removing the cwd from sys.path.\n",
      "D:\\software\\Anaconda\\lib\\site-packages\\ipykernel_launcher.py:6: RuntimeWarning: invalid value encountered in arcsin\n",
      "  \n",
      "D:\\software\\Anaconda\\lib\\site-packages\\ipykernel_launcher.py:12: RuntimeWarning: invalid value encountered in arctanh\n",
      "  if sys.path[0] == '':\n"
     ]
    }
   ],
   "source": [
    "# 反三角函数\n",
    "print(np.arccos(arr_1))\n",
    "print('-'*100)\n",
    "print(np.arccosh(arr_1))\n",
    "print('-'*100)\n",
    "print(np.arcsin(arr_1))\n",
    "print('-'*100)\n",
    "print(np.arcsinh(arr_1))\n",
    "print('-'*100)\n",
    "print(np.arctan(arr_1))\n",
    "print('-'*100)\n",
    "print(np.arctanh(arr_1))"
   ]
  },
  {
   "cell_type": "code",
   "execution_count": null,
   "metadata": {
    "hidden": true
   },
   "outputs": [],
   "source": []
  },
  {
   "cell_type": "markdown",
   "metadata": {
    "hidden": true
   },
   "source": [
    "#### 2. 二元通用函数（接收两个数组）"
   ]
  },
  {
   "cell_type": "code",
   "execution_count": 299,
   "metadata": {
    "hidden": true
   },
   "outputs": [
    {
     "data": {
      "text/plain": [
       "array([[-0.81045303,  0.92423334, -2.67662483,  2.5331249 ,  0.96083756],\n",
       "       [-1.10351503,  1.26040518,  2.00922946,  2.06946976, -0.00492087],\n",
       "       [-1.07087927, -1.28814859,  2.10076336, -1.17788427,  0.5477188 ],\n",
       "       [ 1.15510885, -0.40885489, -0.89050866,  0.90098606, -0.26044215]])"
      ]
     },
     "execution_count": 299,
     "metadata": {},
     "output_type": "execute_result"
    }
   ],
   "source": [
    "# 加\n",
    "np.add(arr_1, arr_2)"
   ]
  },
  {
   "cell_type": "code",
   "execution_count": 300,
   "metadata": {
    "hidden": true
   },
   "outputs": [
    {
     "data": {
      "text/plain": [
       "array([[-3.5978928 , -3.20226941, -2.21953407,  1.7423791 ,  1.59630644],\n",
       "       [-1.11336997, -0.97785025,  2.0558926 ,  1.86103134, -0.92827106],\n",
       "       [ 0.10760939,  0.85590463, -3.15465396,  0.6496734 , -0.77898112],\n",
       "       [ 1.14547117,  0.99428645, -0.4458392 ,  1.80047783, -0.96646344]])"
      ]
     },
     "execution_count": 300,
     "metadata": {},
     "output_type": "execute_result"
    }
   ],
   "source": [
    "# 减\n",
    "np.subtract(arr_1, arr_2)"
   ]
  },
  {
   "cell_type": "code",
   "execution_count": 301,
   "metadata": {
    "hidden": true
   },
   "outputs": [
    {
     "data": {
      "text/plain": [
       "array([[-3.07199963, -2.35008053,  0.55949725,  0.84520921, -0.40624636],\n",
       "       [-0.00546182,  0.15810753, -0.04742284,  0.20481686, -0.21541574],\n",
       "       [ 0.28380066,  0.23168852, -1.38465873,  0.24133395, -0.07670393],\n",
       "       [ 0.00554307, -0.20536081,  0.14855827, -0.60748614, -0.21655537]])"
      ]
     },
     "execution_count": 301,
     "metadata": {},
     "output_type": "execute_result"
    }
   ],
   "source": [
    "# 乘\n",
    "np.multiply(arr_1, arr_2)"
   ]
  },
  {
   "cell_type": "code",
   "execution_count": 302,
   "metadata": {
    "hidden": true
   },
   "outputs": [
    {
     "data": {
      "text/plain": [
       "array([[-1.58150353e+00, -5.52050055e-01,  1.07115683e+01,\n",
       "         5.40692597e+00, -4.02402713e+00],\n",
       "       [-2.24951551e+02,  1.26238912e-01, -8.71163479e+01,\n",
       "         1.88568934e+01, -1.01065873e+00],\n",
       "       [ 8.17377299e-01,  2.01601321e-01, -2.00534142e-01,\n",
       "         2.89025552e-01, -1.74313966e-01],\n",
       "       [ 2.38706649e+02, -4.17229213e-01,  3.00526113e+00,\n",
       "        -3.00332251e+00, -1.73777421e+00]])"
      ]
     },
     "execution_count": 302,
     "metadata": {},
     "output_type": "execute_result"
    }
   ],
   "source": [
    "# 除\n",
    "np.divide(arr_1, arr_2)"
   ]
  },
  {
   "cell_type": "code",
   "execution_count": 303,
   "metadata": {
    "hidden": true
   },
   "outputs": [
    {
     "data": {
      "text/plain": [
       "array([[  -2.,   -1.,   10.,    5.,   -5.],\n",
       "       [-225.,    0.,  -88.,   18.,   -2.],\n",
       "       [   0.,    0.,   -1.,    0.,   -1.],\n",
       "       [ 238.,   -1.,    3.,   -4.,   -2.]])"
      ]
     },
     "execution_count": 303,
     "metadata": {},
     "output_type": "execute_result"
    }
   ],
   "source": [
    "# 整除(余数大于0.5，向上取整，小于等于0.5，向下取整)\n",
    "np.floor_divide(arr_1, arr_2)"
   ]
  },
  {
   "cell_type": "code",
   "execution_count": 304,
   "metadata": {
    "hidden": true
   },
   "outputs": [
    {
     "name": "stderr",
     "output_type": "stream",
     "text": [
      "D:\\software\\Anaconda\\lib\\site-packages\\ipykernel_launcher.py:2: RuntimeWarning: invalid value encountered in power\n",
      "  \n"
     ]
    },
    {
     "data": {
      "text/plain": [
       "array([[       nan,        nan,        nan, 1.35038058, 0.92488925],\n",
       "       [       nan, 0.11189818, 0.98358718, 1.07295074,        nan],\n",
       "       [       nan,        nan,        nan,        nan,        nan],\n",
       "       [1.00067493, 2.36769493,        nan, 0.87352845,        nan]])"
      ]
     },
     "execution_count": 304,
     "metadata": {},
     "output_type": "execute_result"
    }
   ],
   "source": [
    "# 幂\n",
    "np.power(arr_1, arr_2)"
   ]
  },
  {
   "cell_type": "code",
   "execution_count": 305,
   "metadata": {
    "hidden": true
   },
   "outputs": [
    {
     "data": {
      "text/plain": [
       "array([[ 1.39371989,  2.06325138, -0.22854538,  2.137752  ,  1.278572  ],\n",
       "       [ 0.00492747,  1.11912772,  2.03256103,  1.96525055,  0.4616751 ],\n",
       "       [-0.48163494, -0.21612198,  2.62770866, -0.26410543,  0.66334996],\n",
       "       [ 1.15029001,  0.29271578, -0.22233473,  1.35073195,  0.35301065]])"
      ]
     },
     "execution_count": 305,
     "metadata": {},
     "output_type": "execute_result"
    }
   ],
   "source": [
    "# 逐个计算arr_1与arr_2二者中的最大值 \n",
    "np.maximum(arr_1, arr_2)\n",
    "# 同np.fmax()"
   ]
  },
  {
   "cell_type": "code",
   "execution_count": 306,
   "metadata": {
    "hidden": true
   },
   "outputs": [
    {
     "data": {
      "text/plain": [
       "array([[-2.20417292, -1.13901804, -2.44807945,  0.3953729 , -0.31773444],\n",
       "       [-1.1084425 ,  0.14127747, -0.02333157,  0.10421921, -0.46659597],\n",
       "       [-0.58924433, -1.07202661, -0.5269453 , -0.91377883, -0.11563116],\n",
       "       [ 0.00481884, -0.70157067, -0.66817393, -0.44974589, -0.6134528 ]])"
      ]
     },
     "execution_count": 306,
     "metadata": {},
     "output_type": "execute_result"
    }
   ],
   "source": [
    "# 逐个计算arr_1与arr_2二者中的最小值\n",
    "np.minimum(arr_1, arr_2)\n",
    "# 同np.fmin()"
   ]
  },
  {
   "cell_type": "code",
   "execution_count": 307,
   "metadata": {
    "hidden": true
   },
   "outputs": [
    {
     "data": {
      "text/plain": [
       "array([[ 5.83266854e-01,  9.24233341e-01, -1.62625638e-01,\n",
       "         1.60887500e-01, -3.10100192e-01],\n",
       "       [ 2.38733435e-04,  1.41277465e-01, -2.06169898e-02,\n",
       "         8.93047544e-02,  4.56754225e-01],\n",
       "       [-4.81634940e-01, -2.16121981e-01,  2.10076336e+00,\n",
       "        -2.64105432e-01,  5.47718796e-01],\n",
       "       [ 3.40522965e-03, -4.08854894e-01, -1.16973229e-03,\n",
       "        -4.48251605e-01,  9.25684945e-02]])"
      ]
     },
     "execution_count": 307,
     "metadata": {},
     "output_type": "execute_result"
    }
   ],
   "source": [
    "# 取模   7 mod 4 = 3\n",
    "np.mod(arr_1, arr_2)"
   ]
  },
  {
   "cell_type": "code",
   "execution_count": 308,
   "metadata": {
    "hidden": true
   },
   "outputs": [
    {
     "data": {
      "text/plain": [
       "array([[ 2.20417292,  1.13901804, -2.44807945,  2.137752  , -1.278572  ],\n",
       "       [ 1.1084425 ,  0.14127747, -2.03256103,  1.96525055,  0.46659597],\n",
       "       [-0.48163494, -0.21612198,  0.5269453 , -0.26410543,  0.11563116],\n",
       "       [ 1.15029001, -0.29271578, -0.66817393, -1.35073195,  0.6134528 ]])"
      ]
     },
     "execution_count": 308,
     "metadata": {},
     "output_type": "execute_result"
    }
   ],
   "source": [
    "# ？？？？？\n",
    "np.copysign(arr_1, arr_2)"
   ]
  },
  {
   "cell_type": "code",
   "execution_count": 309,
   "metadata": {
    "hidden": true
   },
   "outputs": [
    {
     "name": "stdout",
     "output_type": "stream",
     "text": [
      "[[False False False  True  True]\n",
      " [False False  True  True False]\n",
      " [ True  True False  True False]\n",
      " [ True  True False  True False]]\n",
      "----------------------------------------------------------------------------------------------------\n",
      "[[False False False  True  True]\n",
      " [False False  True  True False]\n",
      " [ True  True False  True False]\n",
      " [ True  True False  True False]]\n",
      "----------------------------------------------------------------------------------------------------\n",
      "[[ True  True  True False False]\n",
      " [ True  True False False  True]\n",
      " [False False  True False  True]\n",
      " [False False  True False  True]]\n",
      "----------------------------------------------------------------------------------------------------\n",
      "[[ True  True  True False False]\n",
      " [ True  True False False  True]\n",
      " [False False  True False  True]\n",
      " [False False  True False  True]]\n",
      "----------------------------------------------------------------------------------------------------\n",
      "[[False False False False False]\n",
      " [False False False False False]\n",
      " [False False False False False]\n",
      " [False False False False False]]\n",
      "----------------------------------------------------------------------------------------------------\n",
      "[[ True  True  True  True  True]\n",
      " [ True  True  True  True  True]\n",
      " [ True  True  True  True  True]\n",
      " [ True  True  True  True  True]]\n"
     ]
    }
   ],
   "source": [
    "# >\n",
    "print(np.greater(arr_1, arr_2))\n",
    "print('-'*100)\n",
    "\n",
    "# >=\n",
    "print(np.greater_equal(arr_1, arr_2))\n",
    "print('-'*100)\n",
    "\n",
    "# <\n",
    "print(np.less(arr_1, arr_2))\n",
    "print('-'*100)\n",
    "\n",
    "# <=\n",
    "print(np.less_equal(arr_1, arr_2))\n",
    "print('-'*100)\n",
    "\n",
    "# ==\n",
    "print(np.equal(arr_1, arr_2))\n",
    "print('-'*100)\n",
    "\n",
    "# !=\n",
    "print(np.not_equal(arr_1, arr_2))"
   ]
  },
  {
   "cell_type": "code",
   "execution_count": 310,
   "metadata": {
    "hidden": true
   },
   "outputs": [
    {
     "name": "stdout",
     "output_type": "stream",
     "text": [
      "[[ True  True  True  True  True]\n",
      " [ True  True  True  True  True]\n",
      " [ True  True  True  True  True]\n",
      " [ True  True  True  True  True]]\n",
      "----------------------------------------------------------------------------------------------------\n",
      "[[ True  True  True  True  True]\n",
      " [ True  True  True  True  True]\n",
      " [ True  True  True  True  True]\n",
      " [ True  True  True  True  True]]\n",
      "----------------------------------------------------------------------------------------------------\n",
      "[[False False False False False]\n",
      " [False False False False False]\n",
      " [False False False False False]\n",
      " [False False False False False]]\n",
      "----------------------------------------------------------------------------------------------------\n",
      "[[0. 0. 0. 0. 0.]\n",
      " [0. 0. 0. 0. 0.]\n",
      " [0. 0. 0. 0. 0.]\n",
      " [0. 0. 0. 0. 0.]]\n"
     ]
    }
   ],
   "source": [
    "# & 且\n",
    "print(np.logical_and(arr_1, arr_2))\n",
    "print('-'*100)\n",
    "\n",
    "# | 或\n",
    "print(np.logical_or(arr_1, arr_2))\n",
    "print('-'*100)\n",
    "\n",
    "# ^ 异或  0⊕0=0，1⊕0=1，0⊕1=1，1⊕1=0（同为0，异为1）\n",
    "print(np.logical_xor(arr_1, arr_2)) \n",
    "print('-'*100)\n",
    "# \n",
    "print(np.logical_not(arr_1, arr_2))"
   ]
  },
  {
   "cell_type": "markdown",
   "metadata": {
    "heading_collapsed": true
   },
   "source": [
    "### （七）其他常用函数"
   ]
  },
  {
   "cell_type": "code",
   "execution_count": 311,
   "metadata": {
    "hidden": true
   },
   "outputs": [
    {
     "data": {
      "text/plain": [
       "array([[ 0,  1,  2,  3],\n",
       "       [ 4,  5,  6,  7],\n",
       "       [ 8,  9, 10, 11],\n",
       "       [12, 13, 14, 15]])"
      ]
     },
     "execution_count": 311,
     "metadata": {},
     "output_type": "execute_result"
    }
   ],
   "source": [
    "arr_1 = np.arange(16).reshape(4, 4)\n",
    "arr_1"
   ]
  },
  {
   "cell_type": "markdown",
   "metadata": {
    "hidden": true
   },
   "source": [
    "#### 1. 统计类"
   ]
  },
  {
   "cell_type": "code",
   "execution_count": 312,
   "metadata": {
    "hidden": true
   },
   "outputs": [
    {
     "name": "stdout",
     "output_type": "stream",
     "text": [
      "[24 28 32 36]\n",
      "--------------------------------------------------\n",
      "[ 6 22 38 54]\n"
     ]
    }
   ],
   "source": [
    "# 求和\n",
    "print(arr_1.sum(axis=0))\n",
    "print('-'*50)\n",
    "print(arr_1.sum(axis=1))"
   ]
  },
  {
   "cell_type": "code",
   "execution_count": 313,
   "metadata": {
    "hidden": true
   },
   "outputs": [
    {
     "data": {
      "text/plain": [
       "array([6., 7., 8., 9.])"
      ]
     },
     "execution_count": 313,
     "metadata": {},
     "output_type": "execute_result"
    }
   ],
   "source": [
    "# 平均\n",
    "arr_1.mean(axis=0)"
   ]
  },
  {
   "cell_type": "code",
   "execution_count": 314,
   "metadata": {
    "hidden": true
   },
   "outputs": [
    {
     "name": "stdout",
     "output_type": "stream",
     "text": [
      "4.6097722286464435\n",
      "--------------------\n",
      "21.25\n"
     ]
    }
   ],
   "source": [
    "# 标准差\n",
    "print(arr_1.std())\n",
    "print('-'*20)\n",
    "print(arr_1.var())"
   ]
  },
  {
   "cell_type": "code",
   "execution_count": 315,
   "metadata": {
    "hidden": true
   },
   "outputs": [
    {
     "name": "stdout",
     "output_type": "stream",
     "text": [
      "15\n",
      "--------------------\n",
      "0\n"
     ]
    }
   ],
   "source": [
    "# 最大值与最小值\n",
    "print(arr_1.max())\n",
    "print('-'*20)\n",
    "print(arr_1.min())"
   ]
  },
  {
   "cell_type": "code",
   "execution_count": 316,
   "metadata": {
    "hidden": true
   },
   "outputs": [
    {
     "name": "stdout",
     "output_type": "stream",
     "text": [
      "15\n",
      "--------------------\n",
      "0\n"
     ]
    }
   ],
   "source": [
    "# 最大值与最小值的位置\n",
    "print(arr_1.argmax())\n",
    "print('-'*20)\n",
    "print(arr_1.argmin())"
   ]
  },
  {
   "cell_type": "code",
   "execution_count": 317,
   "metadata": {
    "hidden": true
   },
   "outputs": [
    {
     "data": {
      "text/plain": [
       "array([  0,   1,   3,   6,  10,  15,  21,  28,  36,  45,  55,  66,  78,\n",
       "        91, 105, 120], dtype=int32)"
      ]
     },
     "execution_count": 317,
     "metadata": {},
     "output_type": "execute_result"
    }
   ],
   "source": [
    "# 累加\n",
    "arr_1.cumsum()"
   ]
  },
  {
   "cell_type": "code",
   "execution_count": 318,
   "metadata": {
    "hidden": true
   },
   "outputs": [
    {
     "data": {
      "text/plain": [
       "array([0, 0, 0, 0, 0, 0, 0, 0, 0, 0, 0, 0, 0, 0, 0, 0], dtype=int32)"
      ]
     },
     "execution_count": 318,
     "metadata": {},
     "output_type": "execute_result"
    }
   ],
   "source": [
    "# 累乘\n",
    "arr_1.cumprod()"
   ]
  },
  {
   "cell_type": "markdown",
   "metadata": {
    "hidden": true
   },
   "source": [
    "#### 2. 布尔类"
   ]
  },
  {
   "cell_type": "code",
   "execution_count": 319,
   "metadata": {
    "hidden": true
   },
   "outputs": [],
   "source": [
    "arr_bool = np.array([False, True, True, False, False, True])"
   ]
  },
  {
   "cell_type": "code",
   "execution_count": 320,
   "metadata": {
    "hidden": true
   },
   "outputs": [
    {
     "data": {
      "text/plain": [
       "True"
      ]
     },
     "execution_count": 320,
     "metadata": {},
     "output_type": "execute_result"
    }
   ],
   "source": [
    "# 是否存在一个True\n",
    "arr_bool.any()"
   ]
  },
  {
   "cell_type": "code",
   "execution_count": 321,
   "metadata": {
    "hidden": true
   },
   "outputs": [
    {
     "data": {
      "text/plain": [
       "False"
      ]
     },
     "execution_count": 321,
     "metadata": {},
     "output_type": "execute_result"
    }
   ],
   "source": [
    "# 是否都是True\n",
    "arr_bool.all()"
   ]
  },
  {
   "cell_type": "markdown",
   "metadata": {
    "hidden": true
   },
   "source": [
    "#### 3. 排序"
   ]
  },
  {
   "cell_type": "code",
   "execution_count": 322,
   "metadata": {
    "hidden": true
   },
   "outputs": [
    {
     "data": {
      "text/plain": [
       "array([[-1.17475931, -1.75005005, -1.93813   ],\n",
       "       [-0.42425523,  1.06793484, -0.82001494],\n",
       "       [-0.23877725, -0.8981082 ,  1.90268897],\n",
       "       [ 0.21457378, -0.57629065,  1.06037033],\n",
       "       [-0.00275478,  0.71697048,  0.03292909]])"
      ]
     },
     "execution_count": 322,
     "metadata": {},
     "output_type": "execute_result"
    }
   ],
   "source": [
    "arr_1 = np.random.randn(5,3)\n",
    "arr_1"
   ]
  },
  {
   "cell_type": "code",
   "execution_count": 323,
   "metadata": {
    "hidden": true
   },
   "outputs": [
    {
     "data": {
      "text/plain": [
       "array([[-1.17475931, -1.75005005, -1.93813   ],\n",
       "       [-0.42425523, -0.8981082 , -0.82001494],\n",
       "       [-0.23877725, -0.57629065,  0.03292909],\n",
       "       [-0.00275478,  0.71697048,  1.06037033],\n",
       "       [ 0.21457378,  1.06793484,  1.90268897]])"
      ]
     },
     "execution_count": 323,
     "metadata": {},
     "output_type": "execute_result"
    }
   ],
   "source": [
    "arr_1.sort(axis=0) # 按照0轴排序\n",
    "arr_1"
   ]
  },
  {
   "cell_type": "markdown",
   "metadata": {
    "hidden": true
   },
   "source": [
    "#### 4.集合"
   ]
  },
  {
   "cell_type": "code",
   "execution_count": 324,
   "metadata": {
    "hidden": true
   },
   "outputs": [],
   "source": [
    "arr_1 = np.array(['a', 'b', 'b', 'd', 'c', 'e', 'e'])\n",
    "arr_2 = np.array(['a', 'a', 'g', 'g', 'c', 'b'])"
   ]
  },
  {
   "cell_type": "code",
   "execution_count": 325,
   "metadata": {
    "hidden": true
   },
   "outputs": [
    {
     "data": {
      "text/plain": [
       "array(['a', 'b', 'c', 'd', 'e'], dtype='<U1')"
      ]
     },
     "execution_count": 325,
     "metadata": {},
     "output_type": "execute_result"
    }
   ],
   "source": [
    "# 取唯一值，并排序\n",
    "np.unique(arr_1)"
   ]
  },
  {
   "cell_type": "code",
   "execution_count": 326,
   "metadata": {
    "hidden": true
   },
   "outputs": [
    {
     "data": {
      "text/plain": [
       "array(['a', 'b', 'c'], dtype='<U1')"
      ]
     },
     "execution_count": 326,
     "metadata": {},
     "output_type": "execute_result"
    }
   ],
   "source": [
    "# 求交集\n",
    "np.intersect1d(arr_1, arr_2)"
   ]
  },
  {
   "cell_type": "code",
   "execution_count": 327,
   "metadata": {
    "hidden": true
   },
   "outputs": [
    {
     "data": {
      "text/plain": [
       "array(['a', 'b', 'c', 'd', 'e', 'g'], dtype='<U1')"
      ]
     },
     "execution_count": 327,
     "metadata": {},
     "output_type": "execute_result"
    }
   ],
   "source": [
    "# 求并集\n",
    "np.union1d(arr_1, arr_2)"
   ]
  },
  {
   "cell_type": "code",
   "execution_count": 328,
   "metadata": {
    "hidden": true
   },
   "outputs": [
    {
     "data": {
      "text/plain": [
       "array([ True,  True,  True, False,  True, False, False])"
      ]
     },
     "execution_count": 328,
     "metadata": {},
     "output_type": "execute_result"
    }
   ],
   "source": [
    "# 计算arr_1中的元素是否包含在arr_2中，返回一个布尔数组\n",
    "np.in1d(arr_1, arr_2)  #可以用来筛选一列不在另一列的值"
   ]
  },
  {
   "cell_type": "code",
   "execution_count": 329,
   "metadata": {
    "hidden": true
   },
   "outputs": [
    {
     "data": {
      "text/plain": [
       "array(['d', 'e'], dtype='<U1')"
      ]
     },
     "execution_count": 329,
     "metadata": {},
     "output_type": "execute_result"
    }
   ],
   "source": [
    "# 差集，在arr_1中但是不在arr_2中的元素\n",
    "np.setdiff1d(arr_1, arr_2)"
   ]
  },
  {
   "cell_type": "code",
   "execution_count": 330,
   "metadata": {
    "hidden": true
   },
   "outputs": [
    {
     "data": {
      "text/plain": [
       "array(['d', 'e', 'g'], dtype='<U1')"
      ]
     },
     "execution_count": 330,
     "metadata": {},
     "output_type": "execute_result"
    }
   ],
   "source": [
    "# 异或集，在arr_1或者arr_2中，但是不在二者交集中的元素\n",
    "np.setxor1d(arr_1, arr_2)"
   ]
  },
  {
   "cell_type": "markdown",
   "metadata": {
    "heading_collapsed": true
   },
   "source": [
    "### （八）线性代数运算"
   ]
  },
  {
   "cell_type": "code",
   "execution_count": 331,
   "metadata": {
    "hidden": true
   },
   "outputs": [
    {
     "name": "stdout",
     "output_type": "stream",
     "text": [
      "[[ 0  1  2]\n",
      " [ 3  4  5]\n",
      " [ 6  7  8]\n",
      " [ 9 10 11]]\n",
      "--------------------------------------------------\n",
      "[[ 1  3  5  7]\n",
      " [ 9 11 13 15]\n",
      " [17 19 21 23]]\n"
     ]
    }
   ],
   "source": [
    "arr_1 = np.arange(12).reshape(4,3)\n",
    "arr_2 = np.arange(1,24,2).reshape(3,4)\n",
    "print(arr_1)\n",
    "print('-'*50)\n",
    "print(arr_2)"
   ]
  },
  {
   "cell_type": "code",
   "execution_count": 332,
   "metadata": {
    "hidden": true
   },
   "outputs": [
    {
     "name": "stdout",
     "output_type": "stream",
     "text": [
      "[[ 43  49  55  61]\n",
      " [124 148 172 196]\n",
      " [205 247 289 331]\n",
      " [286 346 406 466]]\n",
      "--------------------------------------------------\n",
      "[[ 43  49  55  61]\n",
      " [124 148 172 196]\n",
      " [205 247 289 331]\n",
      " [286 346 406 466]]\n"
     ]
    }
   ],
   "source": [
    "# 矩阵点乘\n",
    "print(arr_1.dot(arr_2))\n",
    "print('-'*50)\n",
    "print(np.dot(arr_1, arr_2))"
   ]
  },
  {
   "cell_type": "code",
   "execution_count": 333,
   "metadata": {
    "hidden": true
   },
   "outputs": [
    {
     "name": "stdout",
     "output_type": "stream",
     "text": [
      "[[ 2.24999478 -1.09764647 -1.70232702  0.66273092 -0.86913298]\n",
      " [-1.09764647  4.34200846  0.5019109   0.97470142  1.6783051 ]\n",
      " [-1.70232702  0.5019109   1.71381375 -0.7597972   0.55750007]\n",
      " [ 0.66273092  0.97470142 -0.7597972   0.88373643  0.21093458]\n",
      " [-0.86913298  1.6783051   0.55750007  0.21093458  1.05037938]]\n",
      "----------------------------------------------------------------------------------------------------\n",
      "[[ 1.  0. -0. -0.  0.]\n",
      " [ 0.  1. -0.  0.  0.]\n",
      " [-0. -0.  1.  0. -0.]\n",
      " [-0. -0.  0.  1. -0.]\n",
      " [ 0.  0.  0. -0.  1.]]\n"
     ]
    }
   ],
   "source": [
    "# 求逆矩阵\n",
    "arr_3 = np.random.randn(5,5)\n",
    "\n",
    "mat = arr_3.T.dot(arr_3)\n",
    "\n",
    "## 求逆\n",
    "arr_3_inv = np.linalg.inv(mat)\n",
    "print(arr_3_inv)\n",
    "print('-'*100)\n",
    "\n",
    "## 矩阵点乘逆矩阵 = 单位矩阵\n",
    "print(np.around(mat.dot(arr_3_inv)))"
   ]
  },
  {
   "cell_type": "code",
   "execution_count": 334,
   "metadata": {
    "hidden": true
   },
   "outputs": [
    {
     "data": {
      "text/plain": [
       "2.289235989960915"
      ]
     },
     "execution_count": 334,
     "metadata": {},
     "output_type": "execute_result"
    }
   ],
   "source": [
    "# 计算行列式\n",
    "np.linalg.det(arr_3)"
   ]
  },
  {
   "cell_type": "markdown",
   "metadata": {
    "hidden": true
   },
   "source": [
    "* 其他详见《用python进行数据分析》p118，或者参考官方文档"
   ]
  },
  {
   "cell_type": "markdown",
   "metadata": {},
   "source": [
    "### （九）随机函数"
   ]
  },
  {
   "cell_type": "code",
   "execution_count": 57,
   "metadata": {},
   "outputs": [
    {
     "data": {
      "text/plain": [
       "array(['False', 'a', '1'], dtype='<U11')"
      ]
     },
     "execution_count": 57,
     "metadata": {},
     "output_type": "execute_result"
    }
   ],
   "source": [
    "# 随机选择\n",
    "# numpy.random.choice(a, size=None, replace=True, p=None\n",
    "np.random.choice((1, 'a', 2, False), size=3, replace=False)  # repalce=False,不放回抽样"
   ]
  },
  {
   "cell_type": "code",
   "execution_count": 58,
   "metadata": {},
   "outputs": [
    {
     "data": {
      "text/plain": [
       "0.35044527874232745"
      ]
     },
     "execution_count": 58,
     "metadata": {},
     "output_type": "execute_result"
    }
   ],
   "source": [
    "# 从均匀分布中抽取样本\n",
    "np.random.rand()  "
   ]
  },
  {
   "cell_type": "code",
   "execution_count": 336,
   "metadata": {},
   "outputs": [
    {
     "data": {
      "text/plain": [
       "0.8415700118790417"
      ]
     },
     "execution_count": 336,
     "metadata": {},
     "output_type": "execute_result"
    }
   ],
   "source": [
    "# 从均匀[0,1)分布中抽取样本\n",
    "np.random.uniform()"
   ]
  },
  {
   "cell_type": "code",
   "execution_count": 337,
   "metadata": {},
   "outputs": [
    {
     "data": {
      "text/plain": [
       "6"
      ]
     },
     "execution_count": 337,
     "metadata": {},
     "output_type": "execute_result"
    }
   ],
   "source": [
    "# 从二项分布中抽取样本\n",
    "np.random.binomial(10,0.5)"
   ]
  },
  {
   "cell_type": "code",
   "execution_count": 338,
   "metadata": {},
   "outputs": [
    {
     "data": {
      "text/plain": [
       "-0.2216759065857538"
      ]
     },
     "execution_count": 338,
     "metadata": {},
     "output_type": "execute_result"
    }
   ],
   "source": [
    "# 从均值为0方差为1的正态分布中抽取样本\n",
    "np.random.randn()"
   ]
  },
  {
   "cell_type": "code",
   "execution_count": 339,
   "metadata": {},
   "outputs": [
    {
     "data": {
      "text/plain": [
       "1.1486817232299558"
      ]
     },
     "execution_count": 339,
     "metadata": {},
     "output_type": "execute_result"
    }
   ],
   "source": [
    "# 从正态分布中抽取样本\n",
    "np.random.normal()"
   ]
  },
  {
   "cell_type": "code",
   "execution_count": 340,
   "metadata": {},
   "outputs": [
    {
     "data": {
      "text/plain": [
       "7"
      ]
     },
     "execution_count": 340,
     "metadata": {},
     "output_type": "execute_result"
    }
   ],
   "source": [
    "# 从给定范围中抽取随机整数   √√√√√\n",
    "np.random.randint(1,16)"
   ]
  },
  {
   "cell_type": "code",
   "execution_count": 341,
   "metadata": {},
   "outputs": [
    {
     "data": {
      "text/plain": [
       "0.39061324444912976"
      ]
     },
     "execution_count": 341,
     "metadata": {},
     "output_type": "execute_result"
    }
   ],
   "source": [
    "# 从beta分布中抽取样本\n",
    "np.random.beta(1,2)"
   ]
  },
  {
   "cell_type": "code",
   "execution_count": 342,
   "metadata": {},
   "outputs": [
    {
     "data": {
      "text/plain": [
       "2.127867295096938"
      ]
     },
     "execution_count": 342,
     "metadata": {},
     "output_type": "execute_result"
    }
   ],
   "source": [
    "# 从卡方分布中抽取样本\n",
    "np.random.chisquare(2)"
   ]
  },
  {
   "cell_type": "code",
   "execution_count": 343,
   "metadata": {},
   "outputs": [
    {
     "data": {
      "text/plain": [
       "0.6066915908339695"
      ]
     },
     "execution_count": 343,
     "metadata": {},
     "output_type": "execute_result"
    }
   ],
   "source": [
    "# 从伽马分布中抽取样本\n",
    "np.random.gamma(2)"
   ]
  },
  {
   "cell_type": "markdown",
   "metadata": {},
   "source": [
    "**一个随机漫步案例**"
   ]
  },
  {
   "cell_type": "code",
   "execution_count": 344,
   "metadata": {},
   "outputs": [
    {
     "data": {
      "text/plain": [
       "<Figure size 432x288 with 0 Axes>"
      ]
     },
     "execution_count": 344,
     "metadata": {},
     "output_type": "execute_result"
    },
    {
     "data": {
      "image/png": "[encoded data removed]",
      "text/plain": [
       "<Figure size 432x288 with 1 Axes>"
      ]
     },
     "metadata": {
      "needs_background": "light"
     },
     "output_type": "display_data"
    },
    {
     "data": {
      "text/plain": [
       "<Figure size 432x288 with 0 Axes>"
      ]
     },
     "metadata": {},
     "output_type": "display_data"
    }
   ],
   "source": [
    "import random\n",
    "import matplotlib.pyplot as plt\n",
    "position = 0\n",
    "walk = [position]\n",
    "steps = 1000\n",
    "for i in range(steps):\n",
    "    step = 1 if random.randint(0,1) else -1 # 随机1 -1\n",
    "    position += step\n",
    "    walk.append(position)\n",
    "\n",
    "# 画图\n",
    "plt.plot(walk[:100])\n",
    "plt.figure()"
   ]
  },
  {
   "cell_type": "markdown",
   "metadata": {},
   "source": [
    "### （十）np.where()"
   ]
  },
  {
   "cell_type": "markdown",
   "metadata": {},
   "source": [
    "#### 1. np.where(condition, x, y)\n",
    "* 满足条件(condition)，输出x，不满足输出y。"
   ]
  },
  {
   "cell_type": "code",
   "execution_count": 345,
   "metadata": {},
   "outputs": [
    {
     "data": {
      "text/plain": [
       "array([[-17,   3,  -3,  -8, -15,   0, -18,  19],\n",
       "       [  5,  19,  -7, -14,   0,  -7,   4,  12],\n",
       "       [  5,  16, -13, -20,  -9, -14,   2, -12],\n",
       "       [ -5,   1,   1,  -4,   1,  -7,   3,  -5]])"
      ]
     },
     "execution_count": 345,
     "metadata": {},
     "output_type": "execute_result"
    }
   ],
   "source": [
    "arr_1 = np.array([np.random.randint(-20, 20) for i in range(32)]).reshape(4,8)\n",
    "arr_1"
   ]
  },
  {
   "cell_type": "code",
   "execution_count": 346,
   "metadata": {},
   "outputs": [
    {
     "data": {
      "text/plain": [
       "array([[-1,  1, -1, -1, -1, -1, -1,  1],\n",
       "       [ 1,  1, -1, -1, -1, -1,  1,  1],\n",
       "       [ 1,  1, -1, -1, -1, -1,  1, -1],\n",
       "       [-1,  1,  1, -1,  1, -1,  1, -1]])"
      ]
     },
     "execution_count": 346,
     "metadata": {},
     "output_type": "execute_result"
    }
   ],
   "source": [
    "np.where(arr_1 > 0, 1, -1)"
   ]
  },
  {
   "cell_type": "markdown",
   "metadata": {},
   "source": [
    "#### 2. np.where(condition)\n",
    "* 只有条件 (condition)，没有x和y，则输出满足条件元素的坐标。这里的坐标以tuple的形式给出，通常原数组有多少维，输出的tuple中就包含几个数组，分别对应符合条件元素的各维坐标。"
   ]
  },
  {
   "cell_type": "code",
   "execution_count": 347,
   "metadata": {},
   "outputs": [
    {
     "data": {
      "text/plain": [
       "(array([0, 0, 1, 1, 1, 1, 2, 2, 2, 3, 3, 3, 3], dtype=int64),\n",
       " array([1, 7, 0, 1, 6, 7, 0, 1, 6, 1, 2, 4, 6], dtype=int64))"
      ]
     },
     "execution_count": 347,
     "metadata": {},
     "output_type": "execute_result"
    }
   ],
   "source": [
    "np.where(arr_1 > 0)\n",
    "# 输出的第一个数组为axis=0轴上的坐标，第二个数组为axis=1轴上的坐标"
   ]
  }
 ],
 "metadata": {
  "kernelspec": {
   "display_name": "Python 3",
   "language": "python",
   "name": "python3"
  },
  "language_info": {
   "codemirror_mode": {
    "name": "ipython",
    "version": 3
   },
   "file_extension": ".py",
   "mimetype": "text/x-python",
   "name": "python",
   "nbconvert_exporter": "python",
   "pygments_lexer": "ipython3",
   "version": "3.7.3"
  }
 },
 "nbformat": 4,
 "nbformat_minor": 2
}
